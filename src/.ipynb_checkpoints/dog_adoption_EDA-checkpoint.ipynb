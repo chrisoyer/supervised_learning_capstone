{
 "cells": [
  {
   "cell_type": "markdown",
   "metadata": {},
   "source": [
    "# Characterizing and Predicting Dog Shelter Holding Lengths\n",
    "\n",
    "## Intro\n",
    "I am using data sets I obtained from Kaggle: [dog breeds parameters scraped from at dogtime.com](https://www.kaggle.com/hocop1/cat-and-dog-breeds-parameters) and the Austin Animal Center's [intake and outake records.](https://www.kaggle.com/aaronschlegel/austin-animal-center-shelter-intakes-and-outcomes/) . \n",
    "\n",
    "The Austin Animal Center data describes the animals that the shelter accepts (from various places) and the dates the animal enter and leave the shelter. The time in the shelter is an important metric: it directly affects the cost of keeping the animal, and the ideal would be to have animals adopted out in a timely manner. \n",
    "\n",
    "I will import several python modules, load the AAC data, and clean it. I will then load a dataset of dog breed descriptions, and replace the 'breed' features, which has hundreds of breeds listed, with the breed description variables from this second data set. This will allow the use of a very descriptive feature, without expanding it into hundreds of binary features. I will then eliminate any unhelpful features, and model the data with several machine learning models to try to estimate the time a dog will spend in the shelter."
   ]
  },
  {
   "cell_type": "markdown",
   "metadata": {},
   "source": [
    "## Setup"
   ]
  },
  {
   "cell_type": "code",
   "execution_count": 1,
   "metadata": {},
   "outputs": [],
   "source": [
    "import numpy as np\n",
    "import pandas as pd\n",
    "from pandas.io.json import json_normalize\n",
    "import json\n",
    "from zipfile import ZipFile\n",
    "import matplotlib.pyplot as plt\n",
    "import seaborn as sns\n",
    "import os\n",
    "\n",
    "#data processing \n",
    "import scipy.stats as stats\n",
    "from scipy.stats import boxcox\n",
    "from scipy.special import inv_boxcox\n",
    "from boruta import BorutaPy\n",
    "from sklearn.base import clone\n",
    "from sklearn.preprocessing import MinMaxScaler\n"
   ]
  },
  {
   "cell_type": "code",
   "execution_count": 2,
   "metadata": {},
   "outputs": [],
   "source": [
    "#I will need to inspect a lot of data\n",
    "pd.set_option('display.max_columns', 500)\n",
    "pd.set_option('max_rows', 100)\n",
    "sns.set_style(\"whitegrid\")"
   ]
  },
  {
   "cell_type": "markdown",
   "metadata": {},
   "source": [
    "# Shelter Dataset: Exploration and Cleaning"
   ]
  },
  {
   "cell_type": "markdown",
   "metadata": {},
   "source": [
    "I will start with the dataset recording all animals kept by the Austin shelter."
   ]
  },
  {
   "cell_type": "code",
   "execution_count": 3,
   "metadata": {},
   "outputs": [],
   "source": [
    "def file_extract():\n",
    "    needed_files = ['aac_intakes_outcomes.csv', 'rating.json']\n",
    "    files = os.listdir('.')\n",
    "    if needed_files[0] not in files:\n",
    "        with ZipFile(r'../data_sets/austin-animal-center-shelter-intakes-and-outcomes.zip', 'r') as zip:\n",
    "            zip.extractall()\n",
    "    if needed_files[1] not in files:\n",
    "        with ZipFile(r'../data_sets/cat-and-dog-breeds-parameters.zip', 'r') as zip:\n",
    "            zip.extractall()\n",
    "file_extract()"
   ]
  },
  {
   "cell_type": "code",
   "execution_count": 4,
   "metadata": {},
   "outputs": [],
   "source": [
    "raw = pd.read_csv(r'aac_intakes_outcomes.csv')  # I will used the merged file with both intake records and outcome records\n",
    "shelter_inout_df = raw.copy(deep=True)"
   ]
  },
  {
   "cell_type": "code",
   "execution_count": 5,
   "metadata": {},
   "outputs": [
    {
     "data": {
      "text/plain": [
       "array(['Dog', 'Cat', 'Other', 'Bird'], dtype=object)"
      ]
     },
     "execution_count": 5,
     "metadata": {},
     "output_type": "execute_result"
    }
   ],
   "source": [
    "shelter_inout_df.animal_type.unique()"
   ]
  },
  {
   "cell_type": "code",
   "execution_count": 6,
   "metadata": {},
   "outputs": [],
   "source": [
    "#we are only looking at dogs\n",
    "shelter_inout_df = shelter_inout_df[shelter_inout_df.animal_type == 'Dog']"
   ]
  },
  {
   "cell_type": "markdown",
   "metadata": {},
   "source": [
    "There are a lot of features that i'm not interested, especially that describe the same thing in multiple ways.  \n",
    "I am using time in shelter as it is a simple scalar, not d datetime.  \n",
    "Count is only 1, no other values exist"
   ]
  },
  {
   "cell_type": "code",
   "execution_count": 7,
   "metadata": {},
   "outputs": [
    {
     "data": {
      "text/plain": [
       "(45366, 12)"
      ]
     },
     "execution_count": 7,
     "metadata": {},
     "output_type": "execute_result"
    }
   ],
   "source": [
    "shelter_inout_df = shelter_inout_df.drop(\n",
    "    columns=['animal_type', \"age_upon_outcome\", \"animal_id_outcome\",\n",
    "             \"age_upon_outcome_(years)\", 'age_upon_outcome_(days)',\n",
    "             \"age_upon_outcome_age_group\", \"outcome_year\", \"outcome_monthyear\",\n",
    "             \"outcome_hour\", \"outcome_number\", \"animal_id_intake\",\n",
    "             \"age_upon_intake_(years)\", \"age_upon_intake_age_group\",\n",
    "             \"intake_year\", \"intake_monthyear\", \"intake_hour\", \"intake_number\",\n",
    "             \"time_in_shelter\", \"found_location\", 'outcome_datetime', 'dob_year',\n",
    "             'dob_month', 'dob_monthyear', 'outcome_month', 'outcome_weekday',\n",
    "             'age_upon_intake', 'intake_month', 'date_of_birth', 'count'])\n",
    "shelter_inout_df.shape"
   ]
  },
  {
   "cell_type": "code",
   "execution_count": 8,
   "metadata": {},
   "outputs": [
    {
     "data": {
      "text/plain": [
       "outcome_subtype            object\n",
       "outcome_type               object\n",
       "sex_upon_outcome           object\n",
       "breed                      object\n",
       "color                      object\n",
       "intake_condition           object\n",
       "intake_type                object\n",
       "sex_upon_intake            object\n",
       "age_upon_intake_(days)      int64\n",
       "intake_datetime            object\n",
       "intake_weekday             object\n",
       "time_in_shelter_days      float64\n",
       "dtype: object"
      ]
     },
     "execution_count": 8,
     "metadata": {},
     "output_type": "execute_result"
    }
   ],
   "source": [
    "shelter_inout_df.dtypes"
   ]
  },
  {
   "cell_type": "code",
   "execution_count": 9,
   "metadata": {},
   "outputs": [
    {
     "data": {
      "text/plain": [
       "outcome_subtype           31598\n",
       "outcome_type                  2\n",
       "sex_upon_outcome              1\n",
       "breed                         0\n",
       "color                         0\n",
       "intake_condition              0\n",
       "intake_type                   0\n",
       "sex_upon_intake               1\n",
       "age_upon_intake_(days)        0\n",
       "intake_datetime               0\n",
       "intake_weekday                0\n",
       "time_in_shelter_days          0\n",
       "dtype: int64"
      ]
     },
     "execution_count": 9,
     "metadata": {},
     "output_type": "execute_result"
    }
   ],
   "source": [
    "#look for missing data\n",
    "shelter_inout_df.isna().sum()"
   ]
  },
  {
   "cell_type": "markdown",
   "metadata": {},
   "source": [
    "Outcome and sex related fields are the only source of nulls (at this point)."
   ]
  },
  {
   "cell_type": "markdown",
   "metadata": {},
   "source": [
    "### Outcome"
   ]
  },
  {
   "cell_type": "code",
   "execution_count": 10,
   "metadata": {},
   "outputs": [
    {
     "data": {
      "text/plain": [
       "Adoption           20581\n",
       "Return to Owner    13273\n",
       "Transfer            9697\n",
       "Euthanasia          1502\n",
       "Rto-Adopt            143\n",
       "Died                 142\n",
       "Missing               16\n",
       "Disposal              10\n",
       "Name: outcome_type, dtype: int64"
      ]
     },
     "execution_count": 10,
     "metadata": {},
     "output_type": "execute_result"
    }
   ],
   "source": [
    "shelter_inout_df.outcome_type.value_counts()"
   ]
  },
  {
   "cell_type": "code",
   "execution_count": 11,
   "metadata": {},
   "outputs": [
    {
     "data": {
      "text/plain": [
       "Partner                9696\n",
       "Foster                 2174\n",
       "Suffering               690\n",
       "Aggressive              492\n",
       "Offsite                 254\n",
       "Behavior                133\n",
       "In Kennel                90\n",
       "Rabies Risk              86\n",
       "Medical                  61\n",
       "At Vet                   28\n",
       "Court/Investigation      23\n",
       "In Foster                21\n",
       "Possible Theft            7\n",
       "In Surgery                7\n",
       "Enroute                   5\n",
       "Barn                      1\n",
       "Name: outcome_subtype, dtype: int64"
      ]
     },
     "execution_count": 11,
     "metadata": {},
     "output_type": "execute_result"
    }
   ],
   "source": [
    "shelter_inout_df.outcome_subtype.value_counts()"
   ]
  },
  {
   "cell_type": "code",
   "execution_count": 12,
   "metadata": {
    "scrolled": true
   },
   "outputs": [
    {
     "data": {
      "text/html": [
       "<div>\n",
       "<style scoped>\n",
       "    .dataframe tbody tr th:only-of-type {\n",
       "        vertical-align: middle;\n",
       "    }\n",
       "\n",
       "    .dataframe tbody tr th {\n",
       "        vertical-align: top;\n",
       "    }\n",
       "\n",
       "    .dataframe thead th {\n",
       "        text-align: right;\n",
       "    }\n",
       "</style>\n",
       "<table border=\"1\" class=\"dataframe\">\n",
       "  <thead>\n",
       "    <tr style=\"text-align: right;\">\n",
       "      <th>outcome_subtype</th>\n",
       "      <th>Aggressive</th>\n",
       "      <th>At Vet</th>\n",
       "      <th>Barn</th>\n",
       "      <th>Behavior</th>\n",
       "      <th>Court/Investigation</th>\n",
       "      <th>Enroute</th>\n",
       "      <th>Foster</th>\n",
       "      <th>In Foster</th>\n",
       "      <th>In Kennel</th>\n",
       "      <th>In Surgery</th>\n",
       "      <th>Medical</th>\n",
       "      <th>Offsite</th>\n",
       "      <th>Partner</th>\n",
       "      <th>Possible Theft</th>\n",
       "      <th>Rabies Risk</th>\n",
       "      <th>Suffering</th>\n",
       "    </tr>\n",
       "    <tr>\n",
       "      <th>outcome_type</th>\n",
       "      <th></th>\n",
       "      <th></th>\n",
       "      <th></th>\n",
       "      <th></th>\n",
       "      <th></th>\n",
       "      <th></th>\n",
       "      <th></th>\n",
       "      <th></th>\n",
       "      <th></th>\n",
       "      <th></th>\n",
       "      <th></th>\n",
       "      <th></th>\n",
       "      <th></th>\n",
       "      <th></th>\n",
       "      <th></th>\n",
       "      <th></th>\n",
       "    </tr>\n",
       "  </thead>\n",
       "  <tbody>\n",
       "    <tr>\n",
       "      <th>Adoption</th>\n",
       "      <td>NaN</td>\n",
       "      <td>NaN</td>\n",
       "      <td>NaN</td>\n",
       "      <td>NaN</td>\n",
       "      <td>NaN</td>\n",
       "      <td>NaN</td>\n",
       "      <td>2174.0</td>\n",
       "      <td>NaN</td>\n",
       "      <td>NaN</td>\n",
       "      <td>NaN</td>\n",
       "      <td>NaN</td>\n",
       "      <td>254.0</td>\n",
       "      <td>NaN</td>\n",
       "      <td>NaN</td>\n",
       "      <td>NaN</td>\n",
       "      <td>NaN</td>\n",
       "    </tr>\n",
       "    <tr>\n",
       "      <th>Died</th>\n",
       "      <td>NaN</td>\n",
       "      <td>15.0</td>\n",
       "      <td>NaN</td>\n",
       "      <td>NaN</td>\n",
       "      <td>NaN</td>\n",
       "      <td>5.0</td>\n",
       "      <td>NaN</td>\n",
       "      <td>18.0</td>\n",
       "      <td>89.0</td>\n",
       "      <td>7.0</td>\n",
       "      <td>NaN</td>\n",
       "      <td>NaN</td>\n",
       "      <td>NaN</td>\n",
       "      <td>NaN</td>\n",
       "      <td>NaN</td>\n",
       "      <td>NaN</td>\n",
       "    </tr>\n",
       "    <tr>\n",
       "      <th>Euthanasia</th>\n",
       "      <td>492.0</td>\n",
       "      <td>12.0</td>\n",
       "      <td>NaN</td>\n",
       "      <td>133.0</td>\n",
       "      <td>23.0</td>\n",
       "      <td>NaN</td>\n",
       "      <td>NaN</td>\n",
       "      <td>NaN</td>\n",
       "      <td>NaN</td>\n",
       "      <td>NaN</td>\n",
       "      <td>61.0</td>\n",
       "      <td>NaN</td>\n",
       "      <td>NaN</td>\n",
       "      <td>NaN</td>\n",
       "      <td>86.0</td>\n",
       "      <td>690.0</td>\n",
       "    </tr>\n",
       "    <tr>\n",
       "      <th>Missing</th>\n",
       "      <td>NaN</td>\n",
       "      <td>NaN</td>\n",
       "      <td>NaN</td>\n",
       "      <td>NaN</td>\n",
       "      <td>NaN</td>\n",
       "      <td>NaN</td>\n",
       "      <td>NaN</td>\n",
       "      <td>3.0</td>\n",
       "      <td>1.0</td>\n",
       "      <td>NaN</td>\n",
       "      <td>NaN</td>\n",
       "      <td>NaN</td>\n",
       "      <td>NaN</td>\n",
       "      <td>7.0</td>\n",
       "      <td>NaN</td>\n",
       "      <td>NaN</td>\n",
       "    </tr>\n",
       "    <tr>\n",
       "      <th>Return to Owner</th>\n",
       "      <td>NaN</td>\n",
       "      <td>1.0</td>\n",
       "      <td>NaN</td>\n",
       "      <td>NaN</td>\n",
       "      <td>NaN</td>\n",
       "      <td>NaN</td>\n",
       "      <td>NaN</td>\n",
       "      <td>NaN</td>\n",
       "      <td>NaN</td>\n",
       "      <td>NaN</td>\n",
       "      <td>NaN</td>\n",
       "      <td>NaN</td>\n",
       "      <td>NaN</td>\n",
       "      <td>NaN</td>\n",
       "      <td>NaN</td>\n",
       "      <td>NaN</td>\n",
       "    </tr>\n",
       "    <tr>\n",
       "      <th>Transfer</th>\n",
       "      <td>NaN</td>\n",
       "      <td>NaN</td>\n",
       "      <td>1.0</td>\n",
       "      <td>NaN</td>\n",
       "      <td>NaN</td>\n",
       "      <td>NaN</td>\n",
       "      <td>NaN</td>\n",
       "      <td>NaN</td>\n",
       "      <td>NaN</td>\n",
       "      <td>NaN</td>\n",
       "      <td>NaN</td>\n",
       "      <td>NaN</td>\n",
       "      <td>9696.0</td>\n",
       "      <td>NaN</td>\n",
       "      <td>NaN</td>\n",
       "      <td>NaN</td>\n",
       "    </tr>\n",
       "  </tbody>\n",
       "</table>\n",
       "</div>"
      ],
      "text/plain": [
       "outcome_subtype  Aggressive  At Vet  Barn  Behavior  Court/Investigation  \\\n",
       "outcome_type                                                               \n",
       "Adoption                NaN     NaN   NaN       NaN                  NaN   \n",
       "Died                    NaN    15.0   NaN       NaN                  NaN   \n",
       "Euthanasia            492.0    12.0   NaN     133.0                 23.0   \n",
       "Missing                 NaN     NaN   NaN       NaN                  NaN   \n",
       "Return to Owner         NaN     1.0   NaN       NaN                  NaN   \n",
       "Transfer                NaN     NaN   1.0       NaN                  NaN   \n",
       "\n",
       "outcome_subtype  Enroute  Foster  In Foster  In Kennel  In Surgery  Medical  \\\n",
       "outcome_type                                                                  \n",
       "Adoption             NaN  2174.0        NaN        NaN         NaN      NaN   \n",
       "Died                 5.0     NaN       18.0       89.0         7.0      NaN   \n",
       "Euthanasia           NaN     NaN        NaN        NaN         NaN     61.0   \n",
       "Missing              NaN     NaN        3.0        1.0         NaN      NaN   \n",
       "Return to Owner      NaN     NaN        NaN        NaN         NaN      NaN   \n",
       "Transfer             NaN     NaN        NaN        NaN         NaN      NaN   \n",
       "\n",
       "outcome_subtype  Offsite  Partner  Possible Theft  Rabies Risk  Suffering  \n",
       "outcome_type                                                               \n",
       "Adoption           254.0      NaN             NaN          NaN        NaN  \n",
       "Died                 NaN      NaN             NaN          NaN        NaN  \n",
       "Euthanasia           NaN      NaN             NaN         86.0      690.0  \n",
       "Missing              NaN      NaN             7.0          NaN        NaN  \n",
       "Return to Owner      NaN      NaN             NaN          NaN        NaN  \n",
       "Transfer             NaN   9696.0             NaN          NaN        NaN  "
      ]
     },
     "execution_count": 12,
     "metadata": {},
     "output_type": "execute_result"
    }
   ],
   "source": [
    "#review which outcomes have which subtypes\n",
    "outcome_pivot = (shelter_inout_df[['outcome_type', 'outcome_subtype']]\n",
    "                 .pivot_table(index='outcome_type', \n",
    "                              columns='outcome_subtype', aggfunc=len)\n",
    "                )\n",
    "outcome_pivot"
   ]
  },
  {
   "cell_type": "code",
   "execution_count": 13,
   "metadata": {},
   "outputs": [
    {
     "data": {
      "text/plain": [
       "outcome_type           2\n",
       "outcome_subtype    31598\n",
       "dtype: int64"
      ]
     },
     "execution_count": 13,
     "metadata": {},
     "output_type": "execute_result"
    }
   ],
   "source": [
    "shelter_inout_df[['outcome_type', 'outcome_subtype']].isna().sum()"
   ]
  },
  {
   "cell_type": "code",
   "execution_count": 14,
   "metadata": {
    "scrolled": false
   },
   "outputs": [
    {
     "data": {
      "image/png": "[encoded data removed]",
      "text/plain": [
       "<Figure size 432x288 with 2 Axes>"
      ]
     },
     "metadata": {},
     "output_type": "display_data"
    }
   ],
   "source": [
    "sns.heatmap(outcome_pivot)\n",
    "plt.title(\"Outcome Type vs Outcome Subtype\", fontsize=15);"
   ]
  },
  {
   "cell_type": "markdown",
   "metadata": {},
   "source": [
    "This only contains information that is known once the animal leaves the shelter, and so can't be used to predict the time in the shelter. We might want to attempt to predict this as part of an extension of this project. However, given the amount of missing data in these fields, we will choose to focus on the time_in_shelter_days field as the target."
   ]
  },
  {
   "cell_type": "code",
   "execution_count": 15,
   "metadata": {},
   "outputs": [],
   "source": [
    "#can't be used to predict\n",
    "shelter_inout_df = shelter_inout_df.drop(columns=[\"outcome_subtype\"])"
   ]
  },
  {
   "cell_type": "markdown",
   "metadata": {},
   "source": [
    "### Color \n",
    "We want to use color as a set of features. There are multiple colors listed in a text field for each animal so they need to be split and each color encoded as a variable. There will be multiple colors for some animal."
   ]
  },
  {
   "cell_type": "code",
   "execution_count": 16,
   "metadata": {},
   "outputs": [
    {
     "data": {
      "text/plain": [
       "23    Blue Merle/Tan\n",
       "24        Blue Merle\n",
       "25       Brown/Black\n",
       "27    Black/Tricolor\n",
       "28        Gray/White\n",
       "30               Tan\n",
       "31               Tan\n",
       "32       Black/Brown\n",
       "33          Tricolor\n",
       "34             Cream\n",
       "Name: color, dtype: object"
      ]
     },
     "execution_count": 16,
     "metadata": {},
     "output_type": "execute_result"
    }
   ],
   "source": [
    "#take a look at some of the colors listed.\n",
    "shelter_inout_df.color.iloc[20:30]"
   ]
  },
  {
   "cell_type": "code",
   "execution_count": 17,
   "metadata": {
    "scrolled": false
   },
   "outputs": [],
   "source": [
    "def color_split(df):\n",
    "    \"\"\"split color color column into color and color type fields\"\"\"\n",
    "    split = df['color'].str.split(pat=\"/\", expand=True)\n",
    "    df = df.assign(color1=split[0], color2=split[1])\n",
    "    def color_typer(df, color_col):\n",
    "        new_col = \"color_type\" + color_col[-1]\n",
    "        split = df[color_col].str.split(expand=True)\n",
    "        assignment = {color_col: split[0], new_col: split[1]}\n",
    "        return df.assign(**assignment)\n",
    "                       \n",
    "    for col in ['color1', 'color2']:\n",
    "        df = df.pipe(color_typer, col)\n",
    "    return df\n",
    "\n",
    "shelter_inout_df = shelter_inout_df.pipe(color_split)"
   ]
  },
  {
   "cell_type": "code",
   "execution_count": 18,
   "metadata": {},
   "outputs": [
    {
     "data": {
      "text/html": [
       "<div>\n",
       "<style scoped>\n",
       "    .dataframe tbody tr th:only-of-type {\n",
       "        vertical-align: middle;\n",
       "    }\n",
       "\n",
       "    .dataframe tbody tr th {\n",
       "        vertical-align: top;\n",
       "    }\n",
       "\n",
       "    .dataframe thead th {\n",
       "        text-align: right;\n",
       "    }\n",
       "</style>\n",
       "<table border=\"1\" class=\"dataframe\">\n",
       "  <thead>\n",
       "    <tr style=\"text-align: right;\">\n",
       "      <th></th>\n",
       "      <th>outcome_type</th>\n",
       "      <th>sex_upon_outcome</th>\n",
       "      <th>breed</th>\n",
       "      <th>color</th>\n",
       "      <th>intake_condition</th>\n",
       "      <th>intake_type</th>\n",
       "      <th>sex_upon_intake</th>\n",
       "      <th>age_upon_intake_(days)</th>\n",
       "      <th>intake_datetime</th>\n",
       "      <th>intake_weekday</th>\n",
       "      <th>time_in_shelter_days</th>\n",
       "      <th>color1</th>\n",
       "      <th>color2</th>\n",
       "      <th>color_type1</th>\n",
       "      <th>color_type2</th>\n",
       "    </tr>\n",
       "  </thead>\n",
       "  <tbody>\n",
       "    <tr>\n",
       "      <th>0</th>\n",
       "      <td>Return to Owner</td>\n",
       "      <td>Neutered Male</td>\n",
       "      <td>Spinone Italiano Mix</td>\n",
       "      <td>Yellow/White</td>\n",
       "      <td>Normal</td>\n",
       "      <td>Stray</td>\n",
       "      <td>Neutered Male</td>\n",
       "      <td>3650</td>\n",
       "      <td>2017-12-07 00:00:00</td>\n",
       "      <td>Thursday</td>\n",
       "      <td>0.588194</td>\n",
       "      <td>Yellow</td>\n",
       "      <td>White</td>\n",
       "      <td>None</td>\n",
       "      <td>None</td>\n",
       "    </tr>\n",
       "    <tr>\n",
       "      <th>1</th>\n",
       "      <td>Return to Owner</td>\n",
       "      <td>Neutered Male</td>\n",
       "      <td>Spinone Italiano Mix</td>\n",
       "      <td>Yellow/White</td>\n",
       "      <td>Normal</td>\n",
       "      <td>Public Assist</td>\n",
       "      <td>Neutered Male</td>\n",
       "      <td>2555</td>\n",
       "      <td>2014-12-19 10:21:00</td>\n",
       "      <td>Friday</td>\n",
       "      <td>1.259722</td>\n",
       "      <td>Yellow</td>\n",
       "      <td>White</td>\n",
       "      <td>None</td>\n",
       "      <td>None</td>\n",
       "    </tr>\n",
       "    <tr>\n",
       "      <th>2</th>\n",
       "      <td>Return to Owner</td>\n",
       "      <td>Neutered Male</td>\n",
       "      <td>Spinone Italiano Mix</td>\n",
       "      <td>Yellow/White</td>\n",
       "      <td>Normal</td>\n",
       "      <td>Public Assist</td>\n",
       "      <td>Neutered Male</td>\n",
       "      <td>2190</td>\n",
       "      <td>2014-03-07 14:26:00</td>\n",
       "      <td>Friday</td>\n",
       "      <td>1.113889</td>\n",
       "      <td>Yellow</td>\n",
       "      <td>White</td>\n",
       "      <td>None</td>\n",
       "      <td>None</td>\n",
       "    </tr>\n",
       "    <tr>\n",
       "      <th>3</th>\n",
       "      <td>Transfer</td>\n",
       "      <td>Neutered Male</td>\n",
       "      <td>Dachshund</td>\n",
       "      <td>Tricolor</td>\n",
       "      <td>Normal</td>\n",
       "      <td>Owner Surrender</td>\n",
       "      <td>Neutered Male</td>\n",
       "      <td>3650</td>\n",
       "      <td>2014-04-02 15:55:00</td>\n",
       "      <td>Wednesday</td>\n",
       "      <td>4.970139</td>\n",
       "      <td>Tricolor</td>\n",
       "      <td>None</td>\n",
       "      <td>None</td>\n",
       "      <td>None</td>\n",
       "    </tr>\n",
       "    <tr>\n",
       "      <th>4</th>\n",
       "      <td>Return to Owner</td>\n",
       "      <td>Neutered Male</td>\n",
       "      <td>Shetland Sheepdog</td>\n",
       "      <td>Brown/White</td>\n",
       "      <td>Injured</td>\n",
       "      <td>Public Assist</td>\n",
       "      <td>Neutered Male</td>\n",
       "      <td>5840</td>\n",
       "      <td>2013-11-16 09:02:00</td>\n",
       "      <td>Saturday</td>\n",
       "      <td>0.119444</td>\n",
       "      <td>Brown</td>\n",
       "      <td>White</td>\n",
       "      <td>None</td>\n",
       "      <td>None</td>\n",
       "    </tr>\n",
       "  </tbody>\n",
       "</table>\n",
       "</div>"
      ],
      "text/plain": [
       "      outcome_type sex_upon_outcome                 breed         color  \\\n",
       "0  Return to Owner    Neutered Male  Spinone Italiano Mix  Yellow/White   \n",
       "1  Return to Owner    Neutered Male  Spinone Italiano Mix  Yellow/White   \n",
       "2  Return to Owner    Neutered Male  Spinone Italiano Mix  Yellow/White   \n",
       "3         Transfer    Neutered Male             Dachshund      Tricolor   \n",
       "4  Return to Owner    Neutered Male     Shetland Sheepdog   Brown/White   \n",
       "\n",
       "  intake_condition      intake_type sex_upon_intake  age_upon_intake_(days)  \\\n",
       "0           Normal            Stray   Neutered Male                    3650   \n",
       "1           Normal    Public Assist   Neutered Male                    2555   \n",
       "2           Normal    Public Assist   Neutered Male                    2190   \n",
       "3           Normal  Owner Surrender   Neutered Male                    3650   \n",
       "4          Injured    Public Assist   Neutered Male                    5840   \n",
       "\n",
       "       intake_datetime intake_weekday  time_in_shelter_days    color1 color2  \\\n",
       "0  2017-12-07 00:00:00       Thursday              0.588194    Yellow  White   \n",
       "1  2014-12-19 10:21:00         Friday              1.259722    Yellow  White   \n",
       "2  2014-03-07 14:26:00         Friday              1.113889    Yellow  White   \n",
       "3  2014-04-02 15:55:00      Wednesday              4.970139  Tricolor   None   \n",
       "4  2013-11-16 09:02:00       Saturday              0.119444     Brown  White   \n",
       "\n",
       "  color_type1 color_type2  \n",
       "0        None        None  \n",
       "1        None        None  \n",
       "2        None        None  \n",
       "3        None        None  \n",
       "4        None        None  "
      ]
     },
     "execution_count": 18,
     "metadata": {},
     "output_type": "execute_result"
    }
   ],
   "source": [
    "shelter_inout_df.head()"
   ]
  },
  {
   "cell_type": "code",
   "execution_count": 19,
   "metadata": {
    "scrolled": true
   },
   "outputs": [
    {
     "data": {
      "text/plain": [
       "White        24186\n",
       "Black        15704\n",
       "Brown        11776\n",
       "Tan           9255\n",
       "Red           2623\n",
       "Blue          2559\n",
       "Tricolor      2454\n",
       "Chocolate     1309\n",
       "Gray           855\n",
       "Cream          850\n",
       "Sable          745\n",
       "Yellow         744\n",
       "Buff           666\n",
       "Fawn           590\n",
       "Gold           203\n",
       "Silver         174\n",
       "Apricot         76\n",
       "Liver           72\n",
       "Orange          40\n",
       "Pink             4\n",
       "Agouti           4\n",
       "Ruddy            1\n",
       "Tortie           1\n",
       "dtype: int64"
      ]
     },
     "execution_count": 19,
     "metadata": {},
     "output_type": "execute_result"
    }
   ],
   "source": [
    "#Investigate how many categories this variable has\n",
    "pd.concat([shelter_inout_df.color1, shelter_inout_df.color2], 0).value_counts()"
   ]
  },
  {
   "cell_type": "markdown",
   "metadata": {
    "scrolled": true
   },
   "source": [
    "I want to put values from both color fields into same set of dummy fields."
   ]
  },
  {
   "cell_type": "code",
   "execution_count": 20,
   "metadata": {
    "scrolled": true
   },
   "outputs": [],
   "source": [
    "#One hot encode both and create list of colors so colors from both sources can be combined.\n",
    "color_df = pd.get_dummies(shelter_inout_df[[\"color1\", \"color2\"]], drop_first=True)\n",
    "color_list = pd.Series(color_df.columns.values)\n",
    "color_list = pd.concat([color_list, color_list.str.split(pat='_', expand=True)], axis=1)\n",
    "color_list.columns = ['fullname', 'source', 'colorname']"
   ]
  },
  {
   "cell_type": "code",
   "execution_count": 21,
   "metadata": {},
   "outputs": [],
   "source": [
    "#Add results from both fields into new OHE fields\n",
    "for color in color_list[\"colorname\"].unique():\n",
    "    shelter_inout_df[color] = 0\n",
    "    shelter_inout_df.loc[(shelter_inout_df[\"color1\"]==color) | \n",
    "                         (shelter_inout_df[\"color2\"]==color), color] = 1\n",
    "shelter_inout_df = shelter_inout_df.drop(columns=['color', 'color1', 'color2'])    "
   ]
  },
  {
   "cell_type": "markdown",
   "metadata": {},
   "source": [
    "### Intake Features"
   ]
  },
  {
   "cell_type": "code",
   "execution_count": 22,
   "metadata": {},
   "outputs": [
    {
     "data": {
      "text/html": [
       "<div>\n",
       "<style scoped>\n",
       "    .dataframe tbody tr th:only-of-type {\n",
       "        vertical-align: middle;\n",
       "    }\n",
       "\n",
       "    .dataframe tbody tr th {\n",
       "        vertical-align: top;\n",
       "    }\n",
       "\n",
       "    .dataframe thead th {\n",
       "        text-align: right;\n",
       "    }\n",
       "</style>\n",
       "<table border=\"1\" class=\"dataframe\">\n",
       "  <thead>\n",
       "    <tr style=\"text-align: right;\">\n",
       "      <th>intake_condition</th>\n",
       "      <th>Aged</th>\n",
       "      <th>Feral</th>\n",
       "      <th>Injured</th>\n",
       "      <th>Normal</th>\n",
       "      <th>Nursing</th>\n",
       "      <th>Other</th>\n",
       "      <th>Pregnant</th>\n",
       "      <th>Sick</th>\n",
       "    </tr>\n",
       "    <tr>\n",
       "      <th>intake_type</th>\n",
       "      <th></th>\n",
       "      <th></th>\n",
       "      <th></th>\n",
       "      <th></th>\n",
       "      <th></th>\n",
       "      <th></th>\n",
       "      <th></th>\n",
       "      <th></th>\n",
       "    </tr>\n",
       "  </thead>\n",
       "  <tbody>\n",
       "    <tr>\n",
       "      <th>Euthanasia Request</th>\n",
       "      <td>34.0</td>\n",
       "      <td>NaN</td>\n",
       "      <td>10.0</td>\n",
       "      <td>74.0</td>\n",
       "      <td>NaN</td>\n",
       "      <td>1.0</td>\n",
       "      <td>NaN</td>\n",
       "      <td>63.0</td>\n",
       "    </tr>\n",
       "    <tr>\n",
       "      <th>Owner Surrender</th>\n",
       "      <td>56.0</td>\n",
       "      <td>NaN</td>\n",
       "      <td>189.0</td>\n",
       "      <td>8267.0</td>\n",
       "      <td>90.0</td>\n",
       "      <td>9.0</td>\n",
       "      <td>4.0</td>\n",
       "      <td>309.0</td>\n",
       "    </tr>\n",
       "    <tr>\n",
       "      <th>Public Assist</th>\n",
       "      <td>18.0</td>\n",
       "      <td>NaN</td>\n",
       "      <td>91.0</td>\n",
       "      <td>3891.0</td>\n",
       "      <td>24.0</td>\n",
       "      <td>26.0</td>\n",
       "      <td>1.0</td>\n",
       "      <td>52.0</td>\n",
       "    </tr>\n",
       "    <tr>\n",
       "      <th>Stray</th>\n",
       "      <td>169.0</td>\n",
       "      <td>8.0</td>\n",
       "      <td>1503.0</td>\n",
       "      <td>29328.0</td>\n",
       "      <td>471.0</td>\n",
       "      <td>59.0</td>\n",
       "      <td>27.0</td>\n",
       "      <td>592.0</td>\n",
       "    </tr>\n",
       "  </tbody>\n",
       "</table>\n",
       "</div>"
      ],
      "text/plain": [
       "intake_condition     Aged  Feral  Injured   Normal  Nursing  Other  Pregnant  \\\n",
       "intake_type                                                                    \n",
       "Euthanasia Request   34.0    NaN     10.0     74.0      NaN    1.0       NaN   \n",
       "Owner Surrender      56.0    NaN    189.0   8267.0     90.0    9.0       4.0   \n",
       "Public Assist        18.0    NaN     91.0   3891.0     24.0   26.0       1.0   \n",
       "Stray               169.0    8.0   1503.0  29328.0    471.0   59.0      27.0   \n",
       "\n",
       "intake_condition     Sick  \n",
       "intake_type                \n",
       "Euthanasia Request   63.0  \n",
       "Owner Surrender     309.0  \n",
       "Public Assist        52.0  \n",
       "Stray               592.0  "
      ]
     },
     "execution_count": 22,
     "metadata": {},
     "output_type": "execute_result"
    }
   ],
   "source": [
    "(shelter_inout_df[['intake_condition', 'intake_type']]\n",
    ".pivot_table(columns=\"intake_condition\", index='intake_type', aggfunc=len))"
   ]
  },
  {
   "cell_type": "code",
   "execution_count": 23,
   "metadata": {},
   "outputs": [],
   "source": [
    "#Both condition and type seem relevant and can't be eliminated\n",
    "shelter_inout_df = pd.concat([shelter_inout_df, \n",
    "           pd.get_dummies(shelter_inout_df.intake_condition, drop_first=True, prefix=\"in_cond\")], axis=1)"
   ]
  },
  {
   "cell_type": "code",
   "execution_count": 24,
   "metadata": {},
   "outputs": [],
   "source": [
    "shelter_inout_df = pd.concat([shelter_inout_df, \n",
    "           pd.get_dummies(shelter_inout_df.intake_type, drop_first=True, prefix=\"in_type\")], axis=1)"
   ]
  },
  {
   "cell_type": "markdown",
   "metadata": {},
   "source": [
    "# Import Dataset: Dog Breed Descriptions\n",
    "I would like to replace the very descriptive, but high dimension category 'breed' with a limited set of continuous numerical descriptions.\n",
    "### Explore this data"
   ]
  },
  {
   "cell_type": "code",
   "execution_count": 25,
   "metadata": {},
   "outputs": [
    {
     "data": {
      "text/html": [
       "<div>\n",
       "<style scoped>\n",
       "    .dataframe tbody tr th:only-of-type {\n",
       "        vertical-align: middle;\n",
       "    }\n",
       "\n",
       "    .dataframe tbody tr th {\n",
       "        vertical-align: top;\n",
       "    }\n",
       "\n",
       "    .dataframe thead th {\n",
       "        text-align: right;\n",
       "    }\n",
       "</style>\n",
       "<table border=\"1\" class=\"dataframe\">\n",
       "  <thead>\n",
       "    <tr style=\"text-align: right;\">\n",
       "      <th></th>\n",
       "      <th>Adaptability</th>\n",
       "      <th>All Around Friendliness</th>\n",
       "      <th>Exercise Needs</th>\n",
       "      <th>Health Grooming</th>\n",
       "      <th>Trainability</th>\n",
       "      <th>Adapts Well to Apartment Living</th>\n",
       "      <th>Affectionate with Family</th>\n",
       "      <th>Amount Of Shedding</th>\n",
       "      <th>Dog Friendly</th>\n",
       "      <th>Drooling Potential</th>\n",
       "      <th>Easy To Groom</th>\n",
       "      <th>Easy To Train</th>\n",
       "      <th>Energy Level</th>\n",
       "      <th>Exercise Needs</th>\n",
       "      <th>Friendly Toward Strangers</th>\n",
       "      <th>General Health</th>\n",
       "      <th>Good For Novice Owners</th>\n",
       "      <th>Incredibly Kid Friendly Dogs</th>\n",
       "      <th>Intelligence</th>\n",
       "      <th>Intensity</th>\n",
       "      <th>Potential For Mouthiness</th>\n",
       "      <th>Potential For Playfulness</th>\n",
       "      <th>Potential For Weight Gain</th>\n",
       "      <th>Prey Drive</th>\n",
       "      <th>Sensitivity Level</th>\n",
       "      <th>Size</th>\n",
       "      <th>Tendency To Bark Or Howl</th>\n",
       "      <th>Tolerates Being Alone</th>\n",
       "      <th>Tolerates Cold Weather</th>\n",
       "      <th>Tolerates Hot Weather</th>\n",
       "      <th>Wanderlust Potential</th>\n",
       "    </tr>\n",
       "  </thead>\n",
       "  <tbody>\n",
       "    <tr>\n",
       "      <th>Affenpinscher</th>\n",
       "      <td>3.0</td>\n",
       "      <td>3.0</td>\n",
       "      <td>4.0</td>\n",
       "      <td>2.0</td>\n",
       "      <td>3.0</td>\n",
       "      <td>5.0</td>\n",
       "      <td>5.0</td>\n",
       "      <td>1.0</td>\n",
       "      <td>4.0</td>\n",
       "      <td>1.0</td>\n",
       "      <td>3.0</td>\n",
       "      <td>2.0</td>\n",
       "      <td>4.0</td>\n",
       "      <td>3.0</td>\n",
       "      <td>3.0</td>\n",
       "      <td>4.0</td>\n",
       "      <td>4.0</td>\n",
       "      <td>1.0</td>\n",
       "      <td>4.0</td>\n",
       "      <td>3.0</td>\n",
       "      <td>4.0</td>\n",
       "      <td>4.0</td>\n",
       "      <td>3.0</td>\n",
       "      <td>3.0</td>\n",
       "      <td>3.0</td>\n",
       "      <td>1.0</td>\n",
       "      <td>2.0</td>\n",
       "      <td>1.0</td>\n",
       "      <td>3.0</td>\n",
       "      <td>3.0</td>\n",
       "      <td>2.0</td>\n",
       "    </tr>\n",
       "    <tr>\n",
       "      <th>Afghan Hound</th>\n",
       "      <td>4.0</td>\n",
       "      <td>4.0</td>\n",
       "      <td>4.0</td>\n",
       "      <td>2.0</td>\n",
       "      <td>3.0</td>\n",
       "      <td>5.0</td>\n",
       "      <td>5.0</td>\n",
       "      <td>4.0</td>\n",
       "      <td>4.0</td>\n",
       "      <td>1.0</td>\n",
       "      <td>1.0</td>\n",
       "      <td>1.0</td>\n",
       "      <td>5.0</td>\n",
       "      <td>4.0</td>\n",
       "      <td>2.0</td>\n",
       "      <td>3.0</td>\n",
       "      <td>3.0</td>\n",
       "      <td>5.0</td>\n",
       "      <td>4.0</td>\n",
       "      <td>2.0</td>\n",
       "      <td>3.0</td>\n",
       "      <td>4.0</td>\n",
       "      <td>1.0</td>\n",
       "      <td>5.0</td>\n",
       "      <td>5.0</td>\n",
       "      <td>4.0</td>\n",
       "      <td>2.0</td>\n",
       "      <td>2.0</td>\n",
       "      <td>5.0</td>\n",
       "      <td>5.0</td>\n",
       "      <td>5.0</td>\n",
       "    </tr>\n",
       "    <tr>\n",
       "      <th>Airedale Terrier</th>\n",
       "      <td>2.0</td>\n",
       "      <td>4.0</td>\n",
       "      <td>5.0</td>\n",
       "      <td>3.0</td>\n",
       "      <td>5.0</td>\n",
       "      <td>1.0</td>\n",
       "      <td>4.0</td>\n",
       "      <td>2.0</td>\n",
       "      <td>4.0</td>\n",
       "      <td>1.0</td>\n",
       "      <td>2.0</td>\n",
       "      <td>4.0</td>\n",
       "      <td>5.0</td>\n",
       "      <td>5.0</td>\n",
       "      <td>3.0</td>\n",
       "      <td>3.0</td>\n",
       "      <td>2.0</td>\n",
       "      <td>4.0</td>\n",
       "      <td>5.0</td>\n",
       "      <td>3.0</td>\n",
       "      <td>5.0</td>\n",
       "      <td>5.0</td>\n",
       "      <td>4.0</td>\n",
       "      <td>5.0</td>\n",
       "      <td>3.0</td>\n",
       "      <td>3.0</td>\n",
       "      <td>4.0</td>\n",
       "      <td>2.0</td>\n",
       "      <td>3.0</td>\n",
       "      <td>3.0</td>\n",
       "      <td>4.0</td>\n",
       "    </tr>\n",
       "    <tr>\n",
       "      <th>Akita</th>\n",
       "      <td>3.0</td>\n",
       "      <td>2.0</td>\n",
       "      <td>4.0</td>\n",
       "      <td>4.0</td>\n",
       "      <td>4.0</td>\n",
       "      <td>2.0</td>\n",
       "      <td>5.0</td>\n",
       "      <td>5.0</td>\n",
       "      <td>1.0</td>\n",
       "      <td>5.0</td>\n",
       "      <td>1.0</td>\n",
       "      <td>2.0</td>\n",
       "      <td>4.0</td>\n",
       "      <td>4.0</td>\n",
       "      <td>2.0</td>\n",
       "      <td>4.0</td>\n",
       "      <td>2.0</td>\n",
       "      <td>1.0</td>\n",
       "      <td>3.0</td>\n",
       "      <td>3.0</td>\n",
       "      <td>3.0</td>\n",
       "      <td>5.0</td>\n",
       "      <td>4.0</td>\n",
       "      <td>4.0</td>\n",
       "      <td>5.0</td>\n",
       "      <td>4.0</td>\n",
       "      <td>5.0</td>\n",
       "      <td>1.0</td>\n",
       "      <td>5.0</td>\n",
       "      <td>2.0</td>\n",
       "      <td>4.0</td>\n",
       "    </tr>\n",
       "    <tr>\n",
       "      <th>Alaskan Klee Kai</th>\n",
       "      <td>3.0</td>\n",
       "      <td>3.0</td>\n",
       "      <td>4.0</td>\n",
       "      <td>3.0</td>\n",
       "      <td>4.0</td>\n",
       "      <td>3.0</td>\n",
       "      <td>4.0</td>\n",
       "      <td>4.0</td>\n",
       "      <td>2.0</td>\n",
       "      <td>2.0</td>\n",
       "      <td>4.0</td>\n",
       "      <td>4.0</td>\n",
       "      <td>4.0</td>\n",
       "      <td>4.0</td>\n",
       "      <td>2.0</td>\n",
       "      <td>4.0</td>\n",
       "      <td>2.0</td>\n",
       "      <td>3.0</td>\n",
       "      <td>4.0</td>\n",
       "      <td>2.0</td>\n",
       "      <td>2.0</td>\n",
       "      <td>4.0</td>\n",
       "      <td>2.0</td>\n",
       "      <td>5.0</td>\n",
       "      <td>4.0</td>\n",
       "      <td>2.0</td>\n",
       "      <td>3.0</td>\n",
       "      <td>2.0</td>\n",
       "      <td>5.0</td>\n",
       "      <td>2.0</td>\n",
       "      <td>4.0</td>\n",
       "    </tr>\n",
       "  </tbody>\n",
       "</table>\n",
       "</div>"
      ],
      "text/plain": [
       "                   Adaptability   All Around Friendliness   Exercise Needs  \\\n",
       "Affenpinscher               3.0                       3.0              4.0   \n",
       "Afghan Hound                4.0                       4.0              4.0   \n",
       "Airedale Terrier            2.0                       4.0              5.0   \n",
       "Akita                       3.0                       2.0              4.0   \n",
       "Alaskan Klee Kai            3.0                       3.0              4.0   \n",
       "\n",
       "                   Health Grooming   Trainability  \\\n",
       "Affenpinscher                  2.0            3.0   \n",
       "Afghan Hound                   2.0            3.0   \n",
       "Airedale Terrier               3.0            5.0   \n",
       "Akita                          4.0            4.0   \n",
       "Alaskan Klee Kai               3.0            4.0   \n",
       "\n",
       "                  Adapts Well to Apartment Living  Affectionate with Family  \\\n",
       "Affenpinscher                                 5.0                       5.0   \n",
       "Afghan Hound                                  5.0                       5.0   \n",
       "Airedale Terrier                              1.0                       4.0   \n",
       "Akita                                         2.0                       5.0   \n",
       "Alaskan Klee Kai                              3.0                       4.0   \n",
       "\n",
       "                  Amount Of Shedding  Dog Friendly  Drooling Potential  \\\n",
       "Affenpinscher                    1.0           4.0                 1.0   \n",
       "Afghan Hound                     4.0           4.0                 1.0   \n",
       "Airedale Terrier                 2.0           4.0                 1.0   \n",
       "Akita                            5.0           1.0                 5.0   \n",
       "Alaskan Klee Kai                 4.0           2.0                 2.0   \n",
       "\n",
       "                  Easy To Groom  Easy To Train  Energy Level  Exercise Needs  \\\n",
       "Affenpinscher               3.0            2.0           4.0             3.0   \n",
       "Afghan Hound                1.0            1.0           5.0             4.0   \n",
       "Airedale Terrier            2.0            4.0           5.0             5.0   \n",
       "Akita                       1.0            2.0           4.0             4.0   \n",
       "Alaskan Klee Kai            4.0            4.0           4.0             4.0   \n",
       "\n",
       "                  Friendly Toward Strangers  General Health  \\\n",
       "Affenpinscher                           3.0             4.0   \n",
       "Afghan Hound                            2.0             3.0   \n",
       "Airedale Terrier                        3.0             3.0   \n",
       "Akita                                   2.0             4.0   \n",
       "Alaskan Klee Kai                        2.0             4.0   \n",
       "\n",
       "                  Good For Novice Owners  Incredibly Kid Friendly Dogs  \\\n",
       "Affenpinscher                        4.0                           1.0   \n",
       "Afghan Hound                         3.0                           5.0   \n",
       "Airedale Terrier                     2.0                           4.0   \n",
       "Akita                                2.0                           1.0   \n",
       "Alaskan Klee Kai                     2.0                           3.0   \n",
       "\n",
       "                  Intelligence  Intensity  Potential For Mouthiness  \\\n",
       "Affenpinscher              4.0        3.0                       4.0   \n",
       "Afghan Hound               4.0        2.0                       3.0   \n",
       "Airedale Terrier           5.0        3.0                       5.0   \n",
       "Akita                      3.0        3.0                       3.0   \n",
       "Alaskan Klee Kai           4.0        2.0                       2.0   \n",
       "\n",
       "                  Potential For Playfulness  Potential For Weight Gain  \\\n",
       "Affenpinscher                           4.0                        3.0   \n",
       "Afghan Hound                            4.0                        1.0   \n",
       "Airedale Terrier                        5.0                        4.0   \n",
       "Akita                                   5.0                        4.0   \n",
       "Alaskan Klee Kai                        4.0                        2.0   \n",
       "\n",
       "                  Prey Drive  Sensitivity Level  Size  \\\n",
       "Affenpinscher            3.0                3.0   1.0   \n",
       "Afghan Hound             5.0                5.0   4.0   \n",
       "Airedale Terrier         5.0                3.0   3.0   \n",
       "Akita                    4.0                5.0   4.0   \n",
       "Alaskan Klee Kai         5.0                4.0   2.0   \n",
       "\n",
       "                  Tendency To Bark Or Howl  Tolerates Being Alone  \\\n",
       "Affenpinscher                          2.0                    1.0   \n",
       "Afghan Hound                           2.0                    2.0   \n",
       "Airedale Terrier                       4.0                    2.0   \n",
       "Akita                                  5.0                    1.0   \n",
       "Alaskan Klee Kai                       3.0                    2.0   \n",
       "\n",
       "                  Tolerates Cold Weather  Tolerates Hot Weather  \\\n",
       "Affenpinscher                        3.0                    3.0   \n",
       "Afghan Hound                         5.0                    5.0   \n",
       "Airedale Terrier                     3.0                    3.0   \n",
       "Akita                                5.0                    2.0   \n",
       "Alaskan Klee Kai                     5.0                    2.0   \n",
       "\n",
       "                  Wanderlust Potential  \n",
       "Affenpinscher                      2.0  \n",
       "Afghan Hound                       5.0  \n",
       "Airedale Terrier                   4.0  \n",
       "Akita                              4.0  \n",
       "Alaskan Klee Kai                   4.0  "
      ]
     },
     "execution_count": 25,
     "metadata": {},
     "output_type": "execute_result"
    }
   ],
   "source": [
    "with open('rating.json', 'r') as rating_file:\n",
    "    ratings = json.load(rating_file)\n",
    "    json_normalize(ratings)\n",
    "    dog_descr_df = pd.DataFrame.from_dict(ratings['dog_breeds'], ).T\n",
    "dog_descr_df.head()"
   ]
  },
  {
   "cell_type": "code",
   "execution_count": 26,
   "metadata": {},
   "outputs": [],
   "source": [
    "# Make columns easier to reference in code\n",
    "dog_descr_df.columns = dog_descr_df.columns.str.strip()\n",
    "dog_descr_df.columns = dog_descr_df.columns.str.replace(\" \", \"_\")"
   ]
  },
  {
   "cell_type": "code",
   "execution_count": 27,
   "metadata": {
    "scrolled": true
   },
   "outputs": [
    {
     "data": {
      "text/html": [
       "<div>\n",
       "<style scoped>\n",
       "    .dataframe tbody tr th:only-of-type {\n",
       "        vertical-align: middle;\n",
       "    }\n",
       "\n",
       "    .dataframe tbody tr th {\n",
       "        vertical-align: top;\n",
       "    }\n",
       "\n",
       "    .dataframe thead th {\n",
       "        text-align: right;\n",
       "    }\n",
       "</style>\n",
       "<table border=\"1\" class=\"dataframe\">\n",
       "  <thead>\n",
       "    <tr style=\"text-align: right;\">\n",
       "      <th></th>\n",
       "      <th>Adaptability</th>\n",
       "      <th>All_Around_Friendliness</th>\n",
       "      <th>Exercise_Needs</th>\n",
       "      <th>Health_Grooming</th>\n",
       "      <th>Trainability</th>\n",
       "      <th>Adapts_Well_to_Apartment_Living</th>\n",
       "      <th>Affectionate_with_Family</th>\n",
       "      <th>Amount_Of_Shedding</th>\n",
       "      <th>Dog_Friendly</th>\n",
       "      <th>Drooling_Potential</th>\n",
       "      <th>Easy_To_Groom</th>\n",
       "      <th>Easy_To_Train</th>\n",
       "      <th>Energy_Level</th>\n",
       "      <th>Exercise_Needs</th>\n",
       "      <th>Friendly_Toward_Strangers</th>\n",
       "      <th>General_Health</th>\n",
       "      <th>Good_For_Novice_Owners</th>\n",
       "      <th>Incredibly_Kid_Friendly_Dogs</th>\n",
       "      <th>Intelligence</th>\n",
       "      <th>Intensity</th>\n",
       "      <th>Potential_For_Mouthiness</th>\n",
       "      <th>Potential_For_Playfulness</th>\n",
       "      <th>Potential_For_Weight_Gain</th>\n",
       "      <th>Prey_Drive</th>\n",
       "      <th>Sensitivity_Level</th>\n",
       "      <th>Size</th>\n",
       "      <th>Tendency_To_Bark_Or_Howl</th>\n",
       "      <th>Tolerates_Being_Alone</th>\n",
       "      <th>Tolerates_Cold_Weather</th>\n",
       "      <th>Tolerates_Hot_Weather</th>\n",
       "      <th>Wanderlust_Potential</th>\n",
       "    </tr>\n",
       "  </thead>\n",
       "  <tbody>\n",
       "    <tr>\n",
       "      <th>count</th>\n",
       "      <td>214.000000</td>\n",
       "      <td>214.000000</td>\n",
       "      <td>214.000000</td>\n",
       "      <td>214.000000</td>\n",
       "      <td>214.000000</td>\n",
       "      <td>214.000000</td>\n",
       "      <td>214.000000</td>\n",
       "      <td>214.000000</td>\n",
       "      <td>214.000000</td>\n",
       "      <td>214.000000</td>\n",
       "      <td>214.000000</td>\n",
       "      <td>214.000000</td>\n",
       "      <td>214.000000</td>\n",
       "      <td>214.000000</td>\n",
       "      <td>214.000000</td>\n",
       "      <td>214.000000</td>\n",
       "      <td>214.000000</td>\n",
       "      <td>214.000000</td>\n",
       "      <td>214.000000</td>\n",
       "      <td>214.000000</td>\n",
       "      <td>214.000000</td>\n",
       "      <td>214.000000</td>\n",
       "      <td>214.000000</td>\n",
       "      <td>214.000000</td>\n",
       "      <td>214.000000</td>\n",
       "      <td>214.000000</td>\n",
       "      <td>214.000000</td>\n",
       "      <td>214.000000</td>\n",
       "      <td>214.000000</td>\n",
       "      <td>214.000000</td>\n",
       "      <td>214.000000</td>\n",
       "    </tr>\n",
       "    <tr>\n",
       "      <th>mean</th>\n",
       "      <td>3.116822</td>\n",
       "      <td>4.070093</td>\n",
       "      <td>4.107477</td>\n",
       "      <td>2.995327</td>\n",
       "      <td>3.560748</td>\n",
       "      <td>3.074766</td>\n",
       "      <td>4.700935</td>\n",
       "      <td>3.014019</td>\n",
       "      <td>3.551402</td>\n",
       "      <td>1.705607</td>\n",
       "      <td>3.350467</td>\n",
       "      <td>3.560748</td>\n",
       "      <td>4.093458</td>\n",
       "      <td>4.079439</td>\n",
       "      <td>3.420561</td>\n",
       "      <td>3.425234</td>\n",
       "      <td>2.864486</td>\n",
       "      <td>4.112150</td>\n",
       "      <td>4.070093</td>\n",
       "      <td>3.336449</td>\n",
       "      <td>3.126168</td>\n",
       "      <td>4.364486</td>\n",
       "      <td>3.294393</td>\n",
       "      <td>3.593458</td>\n",
       "      <td>3.892523</td>\n",
       "      <td>2.841121</td>\n",
       "      <td>3.121495</td>\n",
       "      <td>2.037383</td>\n",
       "      <td>3.331776</td>\n",
       "      <td>3.074766</td>\n",
       "      <td>3.443925</td>\n",
       "    </tr>\n",
       "    <tr>\n",
       "      <th>std</th>\n",
       "      <td>0.565351</td>\n",
       "      <td>0.827771</td>\n",
       "      <td>0.818013</td>\n",
       "      <td>0.601232</td>\n",
       "      <td>0.623146</td>\n",
       "      <td>1.575642</td>\n",
       "      <td>0.560264</td>\n",
       "      <td>1.231355</td>\n",
       "      <td>1.227491</td>\n",
       "      <td>1.215034</td>\n",
       "      <td>1.418713</td>\n",
       "      <td>1.147993</td>\n",
       "      <td>0.949749</td>\n",
       "      <td>0.996825</td>\n",
       "      <td>1.191026</td>\n",
       "      <td>1.039826</td>\n",
       "      <td>1.208480</td>\n",
       "      <td>1.068781</td>\n",
       "      <td>0.731416</td>\n",
       "      <td>1.095822</td>\n",
       "      <td>1.006070</td>\n",
       "      <td>0.803660</td>\n",
       "      <td>0.950545</td>\n",
       "      <td>1.201780</td>\n",
       "      <td>0.818013</td>\n",
       "      <td>1.155916</td>\n",
       "      <td>1.227313</td>\n",
       "      <td>0.953622</td>\n",
       "      <td>1.209206</td>\n",
       "      <td>0.941490</td>\n",
       "      <td>1.208008</td>\n",
       "    </tr>\n",
       "    <tr>\n",
       "      <th>min</th>\n",
       "      <td>2.000000</td>\n",
       "      <td>1.000000</td>\n",
       "      <td>2.000000</td>\n",
       "      <td>2.000000</td>\n",
       "      <td>2.000000</td>\n",
       "      <td>1.000000</td>\n",
       "      <td>2.000000</td>\n",
       "      <td>1.000000</td>\n",
       "      <td>1.000000</td>\n",
       "      <td>1.000000</td>\n",
       "      <td>1.000000</td>\n",
       "      <td>1.000000</td>\n",
       "      <td>2.000000</td>\n",
       "      <td>1.000000</td>\n",
       "      <td>1.000000</td>\n",
       "      <td>1.000000</td>\n",
       "      <td>1.000000</td>\n",
       "      <td>1.000000</td>\n",
       "      <td>1.000000</td>\n",
       "      <td>1.000000</td>\n",
       "      <td>1.000000</td>\n",
       "      <td>1.000000</td>\n",
       "      <td>1.000000</td>\n",
       "      <td>1.000000</td>\n",
       "      <td>2.000000</td>\n",
       "      <td>1.000000</td>\n",
       "      <td>1.000000</td>\n",
       "      <td>1.000000</td>\n",
       "      <td>1.000000</td>\n",
       "      <td>1.000000</td>\n",
       "      <td>1.000000</td>\n",
       "    </tr>\n",
       "    <tr>\n",
       "      <th>25%</th>\n",
       "      <td>3.000000</td>\n",
       "      <td>4.000000</td>\n",
       "      <td>4.000000</td>\n",
       "      <td>3.000000</td>\n",
       "      <td>3.000000</td>\n",
       "      <td>1.000000</td>\n",
       "      <td>4.000000</td>\n",
       "      <td>2.000000</td>\n",
       "      <td>3.000000</td>\n",
       "      <td>1.000000</td>\n",
       "      <td>2.000000</td>\n",
       "      <td>3.000000</td>\n",
       "      <td>4.000000</td>\n",
       "      <td>3.000000</td>\n",
       "      <td>3.000000</td>\n",
       "      <td>3.000000</td>\n",
       "      <td>2.000000</td>\n",
       "      <td>4.000000</td>\n",
       "      <td>4.000000</td>\n",
       "      <td>3.000000</td>\n",
       "      <td>2.000000</td>\n",
       "      <td>4.000000</td>\n",
       "      <td>3.000000</td>\n",
       "      <td>3.000000</td>\n",
       "      <td>3.000000</td>\n",
       "      <td>2.000000</td>\n",
       "      <td>2.000000</td>\n",
       "      <td>1.000000</td>\n",
       "      <td>3.000000</td>\n",
       "      <td>3.000000</td>\n",
       "      <td>3.000000</td>\n",
       "    </tr>\n",
       "    <tr>\n",
       "      <th>50%</th>\n",
       "      <td>3.000000</td>\n",
       "      <td>4.000000</td>\n",
       "      <td>4.000000</td>\n",
       "      <td>3.000000</td>\n",
       "      <td>4.000000</td>\n",
       "      <td>3.000000</td>\n",
       "      <td>5.000000</td>\n",
       "      <td>3.000000</td>\n",
       "      <td>4.000000</td>\n",
       "      <td>1.000000</td>\n",
       "      <td>3.500000</td>\n",
       "      <td>4.000000</td>\n",
       "      <td>4.000000</td>\n",
       "      <td>4.000000</td>\n",
       "      <td>3.000000</td>\n",
       "      <td>4.000000</td>\n",
       "      <td>3.000000</td>\n",
       "      <td>4.000000</td>\n",
       "      <td>4.000000</td>\n",
       "      <td>3.000000</td>\n",
       "      <td>3.000000</td>\n",
       "      <td>5.000000</td>\n",
       "      <td>3.000000</td>\n",
       "      <td>4.000000</td>\n",
       "      <td>4.000000</td>\n",
       "      <td>3.000000</td>\n",
       "      <td>3.000000</td>\n",
       "      <td>2.000000</td>\n",
       "      <td>4.000000</td>\n",
       "      <td>3.000000</td>\n",
       "      <td>4.000000</td>\n",
       "    </tr>\n",
       "    <tr>\n",
       "      <th>75%</th>\n",
       "      <td>3.000000</td>\n",
       "      <td>5.000000</td>\n",
       "      <td>5.000000</td>\n",
       "      <td>3.000000</td>\n",
       "      <td>4.000000</td>\n",
       "      <td>5.000000</td>\n",
       "      <td>5.000000</td>\n",
       "      <td>4.000000</td>\n",
       "      <td>5.000000</td>\n",
       "      <td>2.000000</td>\n",
       "      <td>5.000000</td>\n",
       "      <td>4.000000</td>\n",
       "      <td>5.000000</td>\n",
       "      <td>5.000000</td>\n",
       "      <td>4.000000</td>\n",
       "      <td>4.000000</td>\n",
       "      <td>4.000000</td>\n",
       "      <td>5.000000</td>\n",
       "      <td>5.000000</td>\n",
       "      <td>4.000000</td>\n",
       "      <td>4.000000</td>\n",
       "      <td>5.000000</td>\n",
       "      <td>4.000000</td>\n",
       "      <td>5.000000</td>\n",
       "      <td>4.000000</td>\n",
       "      <td>4.000000</td>\n",
       "      <td>4.000000</td>\n",
       "      <td>3.000000</td>\n",
       "      <td>4.000000</td>\n",
       "      <td>4.000000</td>\n",
       "      <td>4.000000</td>\n",
       "    </tr>\n",
       "    <tr>\n",
       "      <th>max</th>\n",
       "      <td>4.000000</td>\n",
       "      <td>5.000000</td>\n",
       "      <td>5.000000</td>\n",
       "      <td>5.000000</td>\n",
       "      <td>5.000000</td>\n",
       "      <td>5.000000</td>\n",
       "      <td>5.000000</td>\n",
       "      <td>5.000000</td>\n",
       "      <td>5.000000</td>\n",
       "      <td>5.000000</td>\n",
       "      <td>5.000000</td>\n",
       "      <td>5.000000</td>\n",
       "      <td>5.000000</td>\n",
       "      <td>5.000000</td>\n",
       "      <td>5.000000</td>\n",
       "      <td>5.000000</td>\n",
       "      <td>5.000000</td>\n",
       "      <td>5.000000</td>\n",
       "      <td>5.000000</td>\n",
       "      <td>5.000000</td>\n",
       "      <td>5.000000</td>\n",
       "      <td>5.000000</td>\n",
       "      <td>5.000000</td>\n",
       "      <td>5.000000</td>\n",
       "      <td>5.000000</td>\n",
       "      <td>5.000000</td>\n",
       "      <td>5.000000</td>\n",
       "      <td>5.000000</td>\n",
       "      <td>5.000000</td>\n",
       "      <td>5.000000</td>\n",
       "      <td>5.000000</td>\n",
       "    </tr>\n",
       "  </tbody>\n",
       "</table>\n",
       "</div>"
      ],
      "text/plain": [
       "       Adaptability  All_Around_Friendliness  Exercise_Needs  Health_Grooming  \\\n",
       "count    214.000000               214.000000      214.000000       214.000000   \n",
       "mean       3.116822                 4.070093        4.107477         2.995327   \n",
       "std        0.565351                 0.827771        0.818013         0.601232   \n",
       "min        2.000000                 1.000000        2.000000         2.000000   \n",
       "25%        3.000000                 4.000000        4.000000         3.000000   \n",
       "50%        3.000000                 4.000000        4.000000         3.000000   \n",
       "75%        3.000000                 5.000000        5.000000         3.000000   \n",
       "max        4.000000                 5.000000        5.000000         5.000000   \n",
       "\n",
       "       Trainability  Adapts_Well_to_Apartment_Living  \\\n",
       "count    214.000000                       214.000000   \n",
       "mean       3.560748                         3.074766   \n",
       "std        0.623146                         1.575642   \n",
       "min        2.000000                         1.000000   \n",
       "25%        3.000000                         1.000000   \n",
       "50%        4.000000                         3.000000   \n",
       "75%        4.000000                         5.000000   \n",
       "max        5.000000                         5.000000   \n",
       "\n",
       "       Affectionate_with_Family  Amount_Of_Shedding  Dog_Friendly  \\\n",
       "count                214.000000          214.000000    214.000000   \n",
       "mean                   4.700935            3.014019      3.551402   \n",
       "std                    0.560264            1.231355      1.227491   \n",
       "min                    2.000000            1.000000      1.000000   \n",
       "25%                    4.000000            2.000000      3.000000   \n",
       "50%                    5.000000            3.000000      4.000000   \n",
       "75%                    5.000000            4.000000      5.000000   \n",
       "max                    5.000000            5.000000      5.000000   \n",
       "\n",
       "       Drooling_Potential  Easy_To_Groom  Easy_To_Train  Energy_Level  \\\n",
       "count          214.000000     214.000000     214.000000    214.000000   \n",
       "mean             1.705607       3.350467       3.560748      4.093458   \n",
       "std              1.215034       1.418713       1.147993      0.949749   \n",
       "min              1.000000       1.000000       1.000000      2.000000   \n",
       "25%              1.000000       2.000000       3.000000      4.000000   \n",
       "50%              1.000000       3.500000       4.000000      4.000000   \n",
       "75%              2.000000       5.000000       4.000000      5.000000   \n",
       "max              5.000000       5.000000       5.000000      5.000000   \n",
       "\n",
       "       Exercise_Needs  Friendly_Toward_Strangers  General_Health  \\\n",
       "count      214.000000                 214.000000      214.000000   \n",
       "mean         4.079439                   3.420561        3.425234   \n",
       "std          0.996825                   1.191026        1.039826   \n",
       "min          1.000000                   1.000000        1.000000   \n",
       "25%          3.000000                   3.000000        3.000000   \n",
       "50%          4.000000                   3.000000        4.000000   \n",
       "75%          5.000000                   4.000000        4.000000   \n",
       "max          5.000000                   5.000000        5.000000   \n",
       "\n",
       "       Good_For_Novice_Owners  Incredibly_Kid_Friendly_Dogs  Intelligence  \\\n",
       "count              214.000000                    214.000000    214.000000   \n",
       "mean                 2.864486                      4.112150      4.070093   \n",
       "std                  1.208480                      1.068781      0.731416   \n",
       "min                  1.000000                      1.000000      1.000000   \n",
       "25%                  2.000000                      4.000000      4.000000   \n",
       "50%                  3.000000                      4.000000      4.000000   \n",
       "75%                  4.000000                      5.000000      5.000000   \n",
       "max                  5.000000                      5.000000      5.000000   \n",
       "\n",
       "        Intensity  Potential_For_Mouthiness  Potential_For_Playfulness  \\\n",
       "count  214.000000                214.000000                 214.000000   \n",
       "mean     3.336449                  3.126168                   4.364486   \n",
       "std      1.095822                  1.006070                   0.803660   \n",
       "min      1.000000                  1.000000                   1.000000   \n",
       "25%      3.000000                  2.000000                   4.000000   \n",
       "50%      3.000000                  3.000000                   5.000000   \n",
       "75%      4.000000                  4.000000                   5.000000   \n",
       "max      5.000000                  5.000000                   5.000000   \n",
       "\n",
       "       Potential_For_Weight_Gain  Prey_Drive  Sensitivity_Level        Size  \\\n",
       "count                 214.000000  214.000000         214.000000  214.000000   \n",
       "mean                    3.294393    3.593458           3.892523    2.841121   \n",
       "std                     0.950545    1.201780           0.818013    1.155916   \n",
       "min                     1.000000    1.000000           2.000000    1.000000   \n",
       "25%                     3.000000    3.000000           3.000000    2.000000   \n",
       "50%                     3.000000    4.000000           4.000000    3.000000   \n",
       "75%                     4.000000    5.000000           4.000000    4.000000   \n",
       "max                     5.000000    5.000000           5.000000    5.000000   \n",
       "\n",
       "       Tendency_To_Bark_Or_Howl  Tolerates_Being_Alone  \\\n",
       "count                214.000000             214.000000   \n",
       "mean                   3.121495               2.037383   \n",
       "std                    1.227313               0.953622   \n",
       "min                    1.000000               1.000000   \n",
       "25%                    2.000000               1.000000   \n",
       "50%                    3.000000               2.000000   \n",
       "75%                    4.000000               3.000000   \n",
       "max                    5.000000               5.000000   \n",
       "\n",
       "       Tolerates_Cold_Weather  Tolerates_Hot_Weather  Wanderlust_Potential  \n",
       "count              214.000000             214.000000            214.000000  \n",
       "mean                 3.331776               3.074766              3.443925  \n",
       "std                  1.209206               0.941490              1.208008  \n",
       "min                  1.000000               1.000000              1.000000  \n",
       "25%                  3.000000               3.000000              3.000000  \n",
       "50%                  4.000000               3.000000              4.000000  \n",
       "75%                  4.000000               4.000000              4.000000  \n",
       "max                  5.000000               5.000000              5.000000  "
      ]
     },
     "execution_count": 27,
     "metadata": {},
     "output_type": "execute_result"
    }
   ],
   "source": [
    "dog_descr_df.describe()"
   ]
  },
  {
   "cell_type": "markdown",
   "metadata": {},
   "source": [
    "This data is continuous and seems to be a 1-5 scale, though they seem to be optimistically valenced."
   ]
  },
  {
   "cell_type": "markdown",
   "metadata": {},
   "source": [
    "### Exercise Need - Duplicate"
   ]
  },
  {
   "cell_type": "code",
   "execution_count": 28,
   "metadata": {},
   "outputs": [
    {
     "data": {
      "text/html": [
       "<div>\n",
       "<style scoped>\n",
       "    .dataframe tbody tr th:only-of-type {\n",
       "        vertical-align: middle;\n",
       "    }\n",
       "\n",
       "    .dataframe tbody tr th {\n",
       "        vertical-align: top;\n",
       "    }\n",
       "\n",
       "    .dataframe thead th {\n",
       "        text-align: right;\n",
       "    }\n",
       "</style>\n",
       "<table border=\"1\" class=\"dataframe\">\n",
       "  <thead>\n",
       "    <tr style=\"text-align: right;\">\n",
       "      <th></th>\n",
       "      <th>Exercise_Needs</th>\n",
       "      <th>Exercise_Needs</th>\n",
       "    </tr>\n",
       "  </thead>\n",
       "  <tbody>\n",
       "    <tr>\n",
       "      <th>Affenpinscher</th>\n",
       "      <td>4.0</td>\n",
       "      <td>3.0</td>\n",
       "    </tr>\n",
       "    <tr>\n",
       "      <th>Afghan Hound</th>\n",
       "      <td>4.0</td>\n",
       "      <td>4.0</td>\n",
       "    </tr>\n",
       "    <tr>\n",
       "      <th>Airedale Terrier</th>\n",
       "      <td>5.0</td>\n",
       "      <td>5.0</td>\n",
       "    </tr>\n",
       "    <tr>\n",
       "      <th>Akita</th>\n",
       "      <td>4.0</td>\n",
       "      <td>4.0</td>\n",
       "    </tr>\n",
       "    <tr>\n",
       "      <th>Alaskan Klee Kai</th>\n",
       "      <td>4.0</td>\n",
       "      <td>4.0</td>\n",
       "    </tr>\n",
       "  </tbody>\n",
       "</table>\n",
       "</div>"
      ],
      "text/plain": [
       "                  Exercise_Needs  Exercise_Needs\n",
       "Affenpinscher                4.0             3.0\n",
       "Afghan Hound                 4.0             4.0\n",
       "Airedale Terrier             5.0             5.0\n",
       "Akita                        4.0             4.0\n",
       "Alaskan Klee Kai             4.0             4.0"
      ]
     },
     "execution_count": 28,
     "metadata": {},
     "output_type": "execute_result"
    }
   ],
   "source": [
    "dog_descr_df.Exercise_Needs.head()"
   ]
  },
  {
   "cell_type": "code",
   "execution_count": 29,
   "metadata": {},
   "outputs": [
    {
     "data": {
      "text/html": [
       "<div>\n",
       "<style scoped>\n",
       "    .dataframe tbody tr th:only-of-type {\n",
       "        vertical-align: middle;\n",
       "    }\n",
       "\n",
       "    .dataframe tbody tr th {\n",
       "        vertical-align: top;\n",
       "    }\n",
       "\n",
       "    .dataframe thead th {\n",
       "        text-align: right;\n",
       "    }\n",
       "</style>\n",
       "<table border=\"1\" class=\"dataframe\">\n",
       "  <thead>\n",
       "    <tr style=\"text-align: right;\">\n",
       "      <th></th>\n",
       "      <th>Exercise_Need</th>\n",
       "    </tr>\n",
       "  </thead>\n",
       "  <tbody>\n",
       "    <tr>\n",
       "      <th>Affenpinscher</th>\n",
       "      <td>3.5</td>\n",
       "    </tr>\n",
       "    <tr>\n",
       "      <th>Afghan Hound</th>\n",
       "      <td>4.0</td>\n",
       "    </tr>\n",
       "    <tr>\n",
       "      <th>Airedale Terrier</th>\n",
       "      <td>5.0</td>\n",
       "    </tr>\n",
       "    <tr>\n",
       "      <th>Akita</th>\n",
       "      <td>4.0</td>\n",
       "    </tr>\n",
       "    <tr>\n",
       "      <th>Alaskan Klee Kai</th>\n",
       "      <td>4.0</td>\n",
       "    </tr>\n",
       "  </tbody>\n",
       "</table>\n",
       "</div>"
      ],
      "text/plain": [
       "                  Exercise_Need\n",
       "Affenpinscher               3.5\n",
       "Afghan Hound                4.0\n",
       "Airedale Terrier            5.0\n",
       "Akita                       4.0\n",
       "Alaskan Klee Kai            4.0"
      ]
     },
     "execution_count": 29,
     "metadata": {},
     "output_type": "execute_result"
    }
   ],
   "source": [
    "# Combine two features with same name but different value into one feature\n",
    "#get column numbers since name reference causes errors\n",
    "exercise_need_cols = dog_descr_df.columns.get_loc(\"Exercise_Needs\").nonzero()\n",
    "dog_descr_df[\"Exercise_Need\"] = (dog_descr_df.iloc[:,[exercise_need_cols[0][0]]] + \\\n",
    "                                 dog_descr_df.iloc[:,[exercise_need_cols[0][1]]])/2\n",
    "dog_descr_df = dog_descr_df.drop(columns=[\"Exercise_Needs\"])  # New col is not plural\n",
    "dog_descr_df.loc[:,dog_descr_df.columns.str.contains(\"Exer*\")].head()"
   ]
  },
  {
   "cell_type": "markdown",
   "metadata": {},
   "source": [
    "### Look for Nulls"
   ]
  },
  {
   "cell_type": "code",
   "execution_count": 30,
   "metadata": {},
   "outputs": [
    {
     "data": {
      "text/html": [
       "<div>\n",
       "<style scoped>\n",
       "    .dataframe tbody tr th:only-of-type {\n",
       "        vertical-align: middle;\n",
       "    }\n",
       "\n",
       "    .dataframe tbody tr th {\n",
       "        vertical-align: top;\n",
       "    }\n",
       "\n",
       "    .dataframe thead th {\n",
       "        text-align: right;\n",
       "    }\n",
       "</style>\n",
       "<table border=\"1\" class=\"dataframe\">\n",
       "  <thead>\n",
       "    <tr style=\"text-align: right;\">\n",
       "      <th></th>\n",
       "      <th>Adaptability</th>\n",
       "      <th>All_Around_Friendliness</th>\n",
       "      <th>Health_Grooming</th>\n",
       "      <th>Trainability</th>\n",
       "      <th>Adapts_Well_to_Apartment_Living</th>\n",
       "      <th>Affectionate_with_Family</th>\n",
       "      <th>Amount_Of_Shedding</th>\n",
       "      <th>Dog_Friendly</th>\n",
       "      <th>Drooling_Potential</th>\n",
       "      <th>Easy_To_Groom</th>\n",
       "      <th>Easy_To_Train</th>\n",
       "      <th>Energy_Level</th>\n",
       "      <th>Friendly_Toward_Strangers</th>\n",
       "      <th>General_Health</th>\n",
       "      <th>Good_For_Novice_Owners</th>\n",
       "      <th>Incredibly_Kid_Friendly_Dogs</th>\n",
       "      <th>Intelligence</th>\n",
       "      <th>Intensity</th>\n",
       "      <th>Potential_For_Mouthiness</th>\n",
       "      <th>Potential_For_Playfulness</th>\n",
       "      <th>Potential_For_Weight_Gain</th>\n",
       "      <th>Prey_Drive</th>\n",
       "      <th>Sensitivity_Level</th>\n",
       "      <th>Size</th>\n",
       "      <th>Tendency_To_Bark_Or_Howl</th>\n",
       "      <th>Tolerates_Being_Alone</th>\n",
       "      <th>Tolerates_Cold_Weather</th>\n",
       "      <th>Tolerates_Hot_Weather</th>\n",
       "      <th>Wanderlust_Potential</th>\n",
       "      <th>Exercise_Need</th>\n",
       "    </tr>\n",
       "  </thead>\n",
       "  <tbody>\n",
       "    <tr>\n",
       "      <th>Korean Jindo Dog</th>\n",
       "      <td>NaN</td>\n",
       "      <td>NaN</td>\n",
       "      <td>NaN</td>\n",
       "      <td>NaN</td>\n",
       "      <td>NaN</td>\n",
       "      <td>NaN</td>\n",
       "      <td>NaN</td>\n",
       "      <td>NaN</td>\n",
       "      <td>NaN</td>\n",
       "      <td>NaN</td>\n",
       "      <td>NaN</td>\n",
       "      <td>NaN</td>\n",
       "      <td>NaN</td>\n",
       "      <td>NaN</td>\n",
       "      <td>NaN</td>\n",
       "      <td>NaN</td>\n",
       "      <td>NaN</td>\n",
       "      <td>NaN</td>\n",
       "      <td>NaN</td>\n",
       "      <td>NaN</td>\n",
       "      <td>NaN</td>\n",
       "      <td>NaN</td>\n",
       "      <td>NaN</td>\n",
       "      <td>NaN</td>\n",
       "      <td>NaN</td>\n",
       "      <td>NaN</td>\n",
       "      <td>NaN</td>\n",
       "      <td>NaN</td>\n",
       "      <td>NaN</td>\n",
       "      <td>NaN</td>\n",
       "    </tr>\n",
       "    <tr>\n",
       "      <th>Xoloitzcuintli</th>\n",
       "      <td>NaN</td>\n",
       "      <td>NaN</td>\n",
       "      <td>NaN</td>\n",
       "      <td>NaN</td>\n",
       "      <td>NaN</td>\n",
       "      <td>NaN</td>\n",
       "      <td>NaN</td>\n",
       "      <td>NaN</td>\n",
       "      <td>NaN</td>\n",
       "      <td>NaN</td>\n",
       "      <td>NaN</td>\n",
       "      <td>NaN</td>\n",
       "      <td>NaN</td>\n",
       "      <td>NaN</td>\n",
       "      <td>NaN</td>\n",
       "      <td>NaN</td>\n",
       "      <td>NaN</td>\n",
       "      <td>NaN</td>\n",
       "      <td>NaN</td>\n",
       "      <td>NaN</td>\n",
       "      <td>NaN</td>\n",
       "      <td>NaN</td>\n",
       "      <td>NaN</td>\n",
       "      <td>NaN</td>\n",
       "      <td>NaN</td>\n",
       "      <td>NaN</td>\n",
       "      <td>NaN</td>\n",
       "      <td>NaN</td>\n",
       "      <td>NaN</td>\n",
       "      <td>NaN</td>\n",
       "    </tr>\n",
       "  </tbody>\n",
       "</table>\n",
       "</div>"
      ],
      "text/plain": [
       "                  Adaptability  All_Around_Friendliness  Health_Grooming  \\\n",
       "Korean Jindo Dog           NaN                      NaN              NaN   \n",
       "Xoloitzcuintli             NaN                      NaN              NaN   \n",
       "\n",
       "                  Trainability  Adapts_Well_to_Apartment_Living  \\\n",
       "Korean Jindo Dog           NaN                              NaN   \n",
       "Xoloitzcuintli             NaN                              NaN   \n",
       "\n",
       "                  Affectionate_with_Family  Amount_Of_Shedding  Dog_Friendly  \\\n",
       "Korean Jindo Dog                       NaN                 NaN           NaN   \n",
       "Xoloitzcuintli                         NaN                 NaN           NaN   \n",
       "\n",
       "                  Drooling_Potential  Easy_To_Groom  Easy_To_Train  \\\n",
       "Korean Jindo Dog                 NaN            NaN            NaN   \n",
       "Xoloitzcuintli                   NaN            NaN            NaN   \n",
       "\n",
       "                  Energy_Level  Friendly_Toward_Strangers  General_Health  \\\n",
       "Korean Jindo Dog           NaN                        NaN             NaN   \n",
       "Xoloitzcuintli             NaN                        NaN             NaN   \n",
       "\n",
       "                  Good_For_Novice_Owners  Incredibly_Kid_Friendly_Dogs  \\\n",
       "Korean Jindo Dog                     NaN                           NaN   \n",
       "Xoloitzcuintli                       NaN                           NaN   \n",
       "\n",
       "                  Intelligence  Intensity  Potential_For_Mouthiness  \\\n",
       "Korean Jindo Dog           NaN        NaN                       NaN   \n",
       "Xoloitzcuintli             NaN        NaN                       NaN   \n",
       "\n",
       "                  Potential_For_Playfulness  Potential_For_Weight_Gain  \\\n",
       "Korean Jindo Dog                        NaN                        NaN   \n",
       "Xoloitzcuintli                          NaN                        NaN   \n",
       "\n",
       "                  Prey_Drive  Sensitivity_Level  Size  \\\n",
       "Korean Jindo Dog         NaN                NaN   NaN   \n",
       "Xoloitzcuintli           NaN                NaN   NaN   \n",
       "\n",
       "                  Tendency_To_Bark_Or_Howl  Tolerates_Being_Alone  \\\n",
       "Korean Jindo Dog                       NaN                    NaN   \n",
       "Xoloitzcuintli                         NaN                    NaN   \n",
       "\n",
       "                  Tolerates_Cold_Weather  Tolerates_Hot_Weather  \\\n",
       "Korean Jindo Dog                     NaN                    NaN   \n",
       "Xoloitzcuintli                       NaN                    NaN   \n",
       "\n",
       "                  Wanderlust_Potential  Exercise_Need  \n",
       "Korean Jindo Dog                   NaN            NaN  \n",
       "Xoloitzcuintli                     NaN            NaN  "
      ]
     },
     "execution_count": 30,
     "metadata": {},
     "output_type": "execute_result"
    }
   ],
   "source": [
    "dog_descr_df[dog_descr_df.isna().any(axis=1)]"
   ]
  },
  {
   "cell_type": "code",
   "execution_count": 31,
   "metadata": {},
   "outputs": [],
   "source": [
    "# two rows of just null. These add zero information for these breeds.\n",
    "dog_descr_df = dog_descr_df.dropna(axis=0)"
   ]
  },
  {
   "cell_type": "markdown",
   "metadata": {},
   "source": [
    "# Initial Feature Selection\n",
    "Before merging these feature into the main dataframe, lets make sure they will all be helpful; highly correlated features won't add anything after the first one."
   ]
  },
  {
   "cell_type": "code",
   "execution_count": 32,
   "metadata": {},
   "outputs": [],
   "source": [
    "dog_desc_corr_df = dog_descr_df.corr()"
   ]
  },
  {
   "cell_type": "code",
   "execution_count": 33,
   "metadata": {},
   "outputs": [
    {
     "data": {
      "image/png": "[encoded data removed]",
      "text/plain": [
       "<Figure size 864x720 with 2 Axes>"
      ]
     },
     "metadata": {},
     "output_type": "display_data"
    }
   ],
   "source": [
    "sns.set_style('darkgrid')\n",
    "plt.figure(figsize=(12,10))\n",
    "ax = sns.heatmap(dog_desc_corr_df)\n",
    "ax.set_ylim(len(dog_desc_corr_df)-0.01, -0.01)\n",
    "plt.title(\"Breed Characteristic Correlations\", fontsize=20);"
   ]
  },
  {
   "cell_type": "code",
   "execution_count": 34,
   "metadata": {},
   "outputs": [
    {
     "name": "stdout",
     "output_type": "stream",
     "text": [
      "All_Around_Friendliness is correlated with: Dog_Friendly at 0.7565146009482395\n",
      "Friendly_Toward_Strangers at 0.7509267951607245\n",
      "Incredibly_Kid_Friendly_Dogs at 0.7605389789255196\n",
      "\n",
      "\n",
      "Dog_Friendly is correlated with: All_Around_Friendliness at 0.7565146009482395\n",
      "\n",
      "\n",
      "Energy_Level is correlated with: Exercise_Need at 0.8029938934844397\n",
      "\n",
      "\n",
      "Friendly_Toward_Strangers is correlated with: All_Around_Friendliness at 0.7509267951607245\n",
      "\n",
      "\n",
      "Incredibly_Kid_Friendly_Dogs is correlated with: All_Around_Friendliness at 0.7605389789255196\n",
      "\n",
      "\n",
      "Exercise_Need is correlated with: Energy_Level at 0.8029938934844397\n",
      "\n",
      "\n"
     ]
    }
   ],
   "source": [
    "#id and remove highly correlated traits to avoid multicolinearity issues in linear reg. models and reduce compute time\n",
    "dog_high_corr = dog_desc_corr_df[(dog_desc_corr_df.abs() > .65) & ~(dog_desc_corr_df == 1)]\n",
    "for i, row in dog_high_corr.iterrows():\n",
    "    if row.sum() > 0: \n",
    "        print(\"{} is correlated with: \".format(i), end = '') \n",
    "        for ind, col in row.iteritems():\n",
    "            if ~np.isnan(col):\n",
    "                print(\"{} at {}\".format(ind, col))\n",
    "        print(\"\\n\")\n"
   ]
  },
  {
   "cell_type": "code",
   "execution_count": 35,
   "metadata": {},
   "outputs": [],
   "source": [
    "# These are highly correlated.\n",
    "dog_descr_df = dog_descr_df.drop(columns=[\"Friendly_Toward_Strangers\", \n",
    "                                          \"Incredibly_Kid_Friendly_Dogs\",\n",
    "                                          \"Dog_Friendly\", \"Intensity\", \n",
    "                                          \"Exercise_Need\"])"
   ]
  },
  {
   "cell_type": "markdown",
   "metadata": {},
   "source": [
    "## Feature Augmentation - Combining datasets\n",
    "\n",
    "I will merge the two datasets, but this requires significant cleaning of the breed name fields to ensure I can bring as much information to each record."
   ]
  },
  {
   "cell_type": "code",
   "execution_count": 36,
   "metadata": {
    "scrolled": true
   },
   "outputs": [
    {
     "data": {
      "text/plain": [
       "Pit Bull Mix                 13.790063\n",
       "Chihuahua Shorthair Mix      10.648944\n",
       "Labrador Retriever Mix       10.556364\n",
       "German Shepherd Mix           4.298373\n",
       "Australian Cattle Dog Mix     2.422519\n",
       "Dachshund Mix                 1.787682\n",
       "Boxer Mix                     1.505533\n",
       "Border Collie Mix             1.459243\n",
       "Miniature Poodle Mix          1.459243\n",
       "Catahoula Mix                 1.058061\n",
       "Name: breed, dtype: float64"
      ]
     },
     "execution_count": 36,
     "metadata": {},
     "output_type": "execute_result"
    }
   ],
   "source": [
    "#Largest percentage breeds\n",
    "100* shelter_inout_df.breed.value_counts().sort_values(ascending=False).head(10)/shelter_inout_df.shape[0]"
   ]
  },
  {
   "cell_type": "markdown",
   "metadata": {},
   "source": [
    "### Cleaning Field \"Breed\"\n",
    "The breed field from the shelter data has a lot of mixes and multiple breeds listed. Let's clean that."
   ]
  },
  {
   "cell_type": "code",
   "execution_count": 37,
   "metadata": {},
   "outputs": [],
   "source": [
    "shelter_inout_df.breed = shelter_inout_df.breed.str.strip()\n",
    "#Breed name shouldn't include slash since that is the breed delimiter\n",
    "shelter_inout_df.breed = shelter_inout_df.breed.str.replace(r'Black/Tan', 'Black and Tan', regex=False)\n",
    "shelter_inout_df.breed = shelter_inout_df.breed.str.replace(r'(Miniature |Toy |Standard )?Poodle(?=(?:$)|[$\\n \\/])', 'Poodle',\n",
    "                                                            regex=True) "
   ]
  },
  {
   "cell_type": "code",
   "execution_count": 38,
   "metadata": {},
   "outputs": [],
   "source": [
    "def replace_abbr(col, old, new, avoid):\n",
    "    '''regex will: (1)match old, (2)then nl space or slash, (3)but not 'avoid'. \n",
    "    Func returns cleaned column.'''\n",
    "    search_string = r'{}(?=(?:$)|[\\n \\/])(?!{})'.format(old, avoid) \n",
    "    new_col = col.str.replace(search_string, new, regex=True)\n",
    "    return new_col"
   ]
  },
  {
   "cell_type": "code",
   "execution_count": 39,
   "metadata": {},
   "outputs": [],
   "source": [
    "# define breed name changes - Need to match breed in shelter records\n",
    "breed_abbr_fixes = [['Terr', 'Terrier', 'ier'],  # added 'ier' to avoid null in lookahead. ?\n",
    "                   ['Eng', 'English', ''],\n",
    "                   ['Port', 'Portuguese', ''],\n",
    "                   ['Span', 'Spaniel', ''],\n",
    "                   ['Pinsch', 'Pinscher', 'er'],  #null in neg lookahead seems to cause problem without 'er'\n",
    "                   ['Catahoula', 'Catahoula Leopard Dog', ' Leopard Dog'],\n",
    "                   ['Rhod', 'Rhodesian', 'Rhod'],\n",
    "                   ['Pit Bull', 'American Pit Bull Terrier', ' Terrier'],\n",
    "                   ['Anatol Shepherd', 'Anatolian Shepherd Dog', ' Dog'],\n",
    "                   ['German Shepherd', 'German Shepherd Dog', ' Dog'],\n",
    "                   ['Black and Tan Hound', 'Black and Tan Coonhound', 'Coon']]\n",
    "for i in breed_abbr_fixes:\n",
    "    uncorrected, corrected, avoid = i\n",
    "    shelter_inout_df.breed = replace_abbr(shelter_inout_df.breed, uncorrected, corrected, avoid)"
   ]
  },
  {
   "cell_type": "code",
   "execution_count": 40,
   "metadata": {
    "scrolled": true
   },
   "outputs": [
    {
     "data": {
      "text/plain": [
       "American Pit Bull Terrier Mix    6425\n",
       "Chihuahua Shorthair Mix          4831\n",
       "Labrador Retriever Mix           4789\n",
       "German Shepherd Dog Mix          1950\n",
       "Australian Cattle Dog Mix        1099\n",
       "Name: breed, dtype: int64"
      ]
     },
     "execution_count": 40,
     "metadata": {},
     "output_type": "execute_result"
    }
   ],
   "source": [
    "#check breeds now in dataset\n",
    "shelter_inout_df.breed.value_counts().sort_values(ascending=False).head()"
   ]
  },
  {
   "cell_type": "code",
   "execution_count": 41,
   "metadata": {},
   "outputs": [],
   "source": [
    "def pull_cat_out(df, colname, category):\n",
    "    '''Func to remove some common descriptors and create separate features from them'''\n",
    "    df[category] = df[colname].str.contains(r'{}'.format(category), regex=True).astype(int)      \n",
    "    df[colname] = df[colname].str.replace(r'{}'.format(category), '', regex=True)\n",
    "    return df"
   ]
  },
  {
   "cell_type": "code",
   "execution_count": 42,
   "metadata": {},
   "outputs": [],
   "source": [
    "#list common breed descriptors and remove\n",
    "breed_cats = ['Shorthair', 'Longhair', 'Wirehair', 'Rough Coat', 'Mix']\n",
    "for cat_i in breed_cats:\n",
    "    shelter_inout_df = pull_cat_out(shelter_inout_df, \"breed\", cat_i)"
   ]
  },
  {
   "cell_type": "code",
   "execution_count": 43,
   "metadata": {},
   "outputs": [],
   "source": [
    "#reorder columns so I can see column I am using a lot\n",
    "shelter_inout_df = shelter_inout_df.reindex(columns=(['breed'] + list([a for a in shelter_inout_df.columns if a != 'breed']) ))"
   ]
  },
  {
   "cell_type": "code",
   "execution_count": 44,
   "metadata": {},
   "outputs": [],
   "source": [
    "shelter_inout_df.breed = shelter_inout_df.breed.str.strip()"
   ]
  },
  {
   "cell_type": "code",
   "execution_count": 45,
   "metadata": {},
   "outputs": [],
   "source": [
    "# get breed names x & y for 'x y mix'\n",
    "shelter_inout_df[[\"breed\", \"breed2\"]] = shelter_inout_df.breed.str.split(pat=\"/\", expand=True, n=1)"
   ]
  },
  {
   "cell_type": "code",
   "execution_count": 46,
   "metadata": {},
   "outputs": [],
   "source": [
    "# run again after replacing names\n",
    "shelter_inout_df.breed = shelter_inout_df.breed.str.strip()\n",
    "shelter_inout_df.breed2 = shelter_inout_df.breed2.str.strip()"
   ]
  },
  {
   "cell_type": "code",
   "execution_count": 47,
   "metadata": {
    "scrolled": true
   },
   "outputs": [
    {
     "data": {
      "text/plain": [
       "Staffordshire        453\n",
       "Plott Hound          388\n",
       "Chinese Sharpei      236\n",
       "Queensland Heeler    210\n",
       "English Bulldog      131\n",
       "Name: breed, dtype: int64"
      ]
     },
     "execution_count": 47,
     "metadata": {},
     "output_type": "execute_result"
    }
   ],
   "source": [
    "#Code used for finding common mismatches to add to code above\n",
    "dog_descr_df.index.names = ['breed']  \n",
    "shelter_dog_list_df = pd.DataFrame(pd.concat([shelter_inout_df.breed, shelter_inout_df.breed2], axis=0) \\\n",
    "                                   ).rename(columns={0:\"breed\"})\n",
    "shelter_breed_list_df = pd.merge(left=shelter_dog_list_df, right=dog_descr_df, left_on='breed', right_on=\"breed\", indicator=True,\n",
    "                                  how='outer')\n",
    "shelter_only_breeds_df = shelter_breed_list_df[shelter_breed_list_df._merge == 'left_only']\n",
    "shelter_only_breeds_df[\"breed\"].value_counts().sort_values(ascending=False).head()"
   ]
  },
  {
   "cell_type": "markdown",
   "metadata": {},
   "source": [
    "I have most of the records identified to dog breeds that are in the dog breed description dataset. Most of the remaining most common dog breeds are not in the set or are ambiguous (eg there are two breeds know as 'Staffordshire'.)"
   ]
  },
  {
   "cell_type": "markdown",
   "metadata": {},
   "source": [
    "### Combine DFs"
   ]
  },
  {
   "cell_type": "code",
   "execution_count": 48,
   "metadata": {},
   "outputs": [],
   "source": [
    "#merge dataframes on cleaned breed columns\n",
    "shelter_inout_wbreeds_df = pd.merge(left=shelter_inout_df, right=dog_descr_df, left_on=\"breed\", right_index=True, how='left')"
   ]
  },
  {
   "cell_type": "markdown",
   "metadata": {},
   "source": [
    "## Deal with issues created by merge."
   ]
  },
  {
   "cell_type": "code",
   "execution_count": 49,
   "metadata": {},
   "outputs": [],
   "source": [
    "#Create feature to identify that the description information isn't reliable.\n",
    "shelter_inout_wbreeds_df[\"no_breed_info\"] = shelter_inout_wbreeds_df[\"Affectionate_with_Family\"].isna().astype('int')"
   ]
  },
  {
   "cell_type": "markdown",
   "metadata": {},
   "source": [
    "#### Average breed data for animals with two breeds listed."
   ]
  },
  {
   "cell_type": "code",
   "execution_count": 50,
   "metadata": {},
   "outputs": [],
   "source": [
    "#get data fields for breed2\n",
    "field_list = dog_descr_df.columns.to_list()\n",
    "shelter_inout_wbreeds_df = pd.merge(left=shelter_inout_wbreeds_df, right=dog_descr_df, left_on=\"breed2\", right_index=True, \n",
    "                                    how='left', suffixes=('','_b2'))"
   ]
  },
  {
   "cell_type": "code",
   "execution_count": 51,
   "metadata": {},
   "outputs": [],
   "source": [
    "shelter_inout_wbreeds_df[\"no_breed_info2\"] = shelter_inout_wbreeds_df[\"Affectionate_with_Family_b2\"].isna().astype('int')"
   ]
  },
  {
   "cell_type": "code",
   "execution_count": 52,
   "metadata": {},
   "outputs": [],
   "source": [
    "# For rows with breed info in both sets, get averages.\n",
    "shelter_inout_wbreeds_df[\"no_breed_info_total\"] = shelter_inout_wbreeds_df[\"no_breed_info\"] + shelter_inout_wbreeds_df[\"no_breed_info2\"]\n",
    "field_list_b2 = []\n",
    "for field in field_list:\n",
    "    shelter_inout_wbreeds_df.loc[shelter_inout_wbreeds_df[\"no_breed_info_total\"] == 0, field] = \\\n",
    "    (shelter_inout_wbreeds_df.loc[shelter_inout_wbreeds_df[\"no_breed_info_total\"] == 0, field] +\n",
    "    shelter_inout_wbreeds_df.loc[shelter_inout_wbreeds_df[\"no_breed_info_total\"] == 0, (field + \"_b2\")] )/2\n",
    "    field_list_b2.append(field + \"_b2\")\n"
   ]
  },
  {
   "cell_type": "code",
   "execution_count": 53,
   "metadata": {},
   "outputs": [],
   "source": [
    "#for rows with only breed2 info, use that.\n",
    "shelter_inout_wbreeds_df[\"only_breed2_info\"] = shelter_inout_wbreeds_df[\"no_breed_info\"] > shelter_inout_wbreeds_df[\"no_breed_info2\"]\n",
    "for field in field_list:\n",
    "    shelter_inout_wbreeds_df.loc[shelter_inout_wbreeds_df[\"only_breed2_info\"] == 0, field] = \\\n",
    "    shelter_inout_wbreeds_df.loc[shelter_inout_wbreeds_df[\"only_breed2_info\"] == 0, (field + \"_b2\")] \n",
    "shelter_inout_wbreeds_df = shelter_inout_wbreeds_df.drop(columns=field_list_b2)    "
   ]
  },
  {
   "cell_type": "code",
   "execution_count": 54,
   "metadata": {},
   "outputs": [],
   "source": [
    "# drop columns except field that indicates breed desc fields were imputed\n",
    "shelter_inout_wbreeds_df.drop(columns=[\"only_breed2_info\", \"no_breed_info\", 'breed', 'breed2'], inplace=True)\n",
    "shelter_inout_wbreeds_df[\"no_breed_info_total\"] = shelter_inout_wbreeds_df.no_breed_info_total.replace(1,0)"
   ]
  },
  {
   "cell_type": "markdown",
   "metadata": {},
   "source": [
    "#### Nulls\n",
    "I already know that there are no nulls in the dog description DF, so nulls in any column from that df be because of there not being a match on the breed name. Any record with a null in one of those fields will have nulls in all of those fields.  \n",
    "Since these nulls are all from the same breed, FancyImpute doesn't have any breed info to work on and I will just use feature means."
   ]
  },
  {
   "cell_type": "code",
   "execution_count": 55,
   "metadata": {},
   "outputs": [
    {
     "data": {
      "text/plain": [
       "(6417, 75)"
      ]
     },
     "execution_count": 55,
     "metadata": {},
     "output_type": "execute_result"
    }
   ],
   "source": [
    "shelter_inout_wbreeds_df[shelter_inout_wbreeds_df.Adaptability.notna()].shape"
   ]
  },
  {
   "cell_type": "code",
   "execution_count": 56,
   "metadata": {
    "scrolled": false
   },
   "outputs": [
    {
     "data": {
      "text/plain": [
       "(38949, 75)"
      ]
     },
     "execution_count": 56,
     "metadata": {},
     "output_type": "execute_result"
    }
   ],
   "source": [
    "shelter_inout_wbreeds_df[shelter_inout_wbreeds_df.Adaptability.isna()].shape"
   ]
  },
  {
   "cell_type": "code",
   "execution_count": 57,
   "metadata": {},
   "outputs": [],
   "source": [
    "#fill nulls created because breed was not found in breed desc, with column mean\n",
    "for colname, col in dog_descr_df.iteritems():\n",
    "    shelter_inout_wbreeds_df.loc[:,colname] = shelter_inout_wbreeds_df[[colname]].fillna(shelter_inout_wbreeds_df[colname].mean(), \n",
    "                                                                                         axis=1)"
   ]
  },
  {
   "cell_type": "markdown",
   "metadata": {},
   "source": [
    "# Feature Engineering\n"
   ]
  },
  {
   "cell_type": "markdown",
   "metadata": {},
   "source": [
    "### Sex/Neutering\n",
    "These two features can be divided from complicated categories to simplified ones: sex, neutered status, and if neutering occured. \n",
    "Neutering operations will take several days for the operation and recovery period so this interaction should be explicitly included in the model."
   ]
  },
  {
   "cell_type": "code",
   "execution_count": 58,
   "metadata": {},
   "outputs": [
    {
     "data": {
      "text/html": [
       "<div>\n",
       "<style scoped>\n",
       "    .dataframe tbody tr th:only-of-type {\n",
       "        vertical-align: middle;\n",
       "    }\n",
       "\n",
       "    .dataframe tbody tr th {\n",
       "        vertical-align: top;\n",
       "    }\n",
       "\n",
       "    .dataframe thead th {\n",
       "        text-align: right;\n",
       "    }\n",
       "</style>\n",
       "<table border=\"1\" class=\"dataframe\">\n",
       "  <thead>\n",
       "    <tr style=\"text-align: right;\">\n",
       "      <th>sex_upon_outcome</th>\n",
       "      <th>Intact Female</th>\n",
       "      <th>Intact Male</th>\n",
       "      <th>Neutered Male</th>\n",
       "      <th>Spayed Female</th>\n",
       "      <th>Unknown</th>\n",
       "    </tr>\n",
       "    <tr>\n",
       "      <th>sex_upon_intake</th>\n",
       "      <th></th>\n",
       "      <th></th>\n",
       "      <th></th>\n",
       "      <th></th>\n",
       "      <th></th>\n",
       "    </tr>\n",
       "  </thead>\n",
       "  <tbody>\n",
       "    <tr>\n",
       "      <th>Intact Female</th>\n",
       "      <td>4139.0</td>\n",
       "      <td>NaN</td>\n",
       "      <td>NaN</td>\n",
       "      <td>8656.0</td>\n",
       "      <td>NaN</td>\n",
       "    </tr>\n",
       "    <tr>\n",
       "      <th>Intact Male</th>\n",
       "      <td>NaN</td>\n",
       "      <td>4854.0</td>\n",
       "      <td>9978.0</td>\n",
       "      <td>NaN</td>\n",
       "      <td>NaN</td>\n",
       "    </tr>\n",
       "    <tr>\n",
       "      <th>Neutered Male</th>\n",
       "      <td>NaN</td>\n",
       "      <td>NaN</td>\n",
       "      <td>9452.0</td>\n",
       "      <td>NaN</td>\n",
       "      <td>NaN</td>\n",
       "    </tr>\n",
       "    <tr>\n",
       "      <th>Spayed Female</th>\n",
       "      <td>NaN</td>\n",
       "      <td>NaN</td>\n",
       "      <td>NaN</td>\n",
       "      <td>8045.0</td>\n",
       "      <td>NaN</td>\n",
       "    </tr>\n",
       "    <tr>\n",
       "      <th>Unknown</th>\n",
       "      <td>NaN</td>\n",
       "      <td>NaN</td>\n",
       "      <td>NaN</td>\n",
       "      <td>NaN</td>\n",
       "      <td>241.0</td>\n",
       "    </tr>\n",
       "  </tbody>\n",
       "</table>\n",
       "</div>"
      ],
      "text/plain": [
       "sex_upon_outcome  Intact Female  Intact Male  Neutered Male  Spayed Female  \\\n",
       "sex_upon_intake                                                              \n",
       "Intact Female            4139.0          NaN            NaN         8656.0   \n",
       "Intact Male                 NaN       4854.0         9978.0            NaN   \n",
       "Neutered Male               NaN          NaN         9452.0            NaN   \n",
       "Spayed Female               NaN          NaN            NaN         8045.0   \n",
       "Unknown                     NaN          NaN            NaN            NaN   \n",
       "\n",
       "sex_upon_outcome  Unknown  \n",
       "sex_upon_intake            \n",
       "Intact Female         NaN  \n",
       "Intact Male           NaN  \n",
       "Neutered Male         NaN  \n",
       "Spayed Female         NaN  \n",
       "Unknown             241.0  "
      ]
     },
     "execution_count": 58,
     "metadata": {},
     "output_type": "execute_result"
    }
   ],
   "source": [
    "shelter_inout_wbreeds_df.pivot_table(index='sex_upon_intake', columns='sex_upon_outcome', values='Adaptability', aggfunc=len)"
   ]
  },
  {
   "cell_type": "code",
   "execution_count": 59,
   "metadata": {},
   "outputs": [
    {
     "data": {
      "text/html": [
       "<div>\n",
       "<style scoped>\n",
       "    .dataframe tbody tr th:only-of-type {\n",
       "        vertical-align: middle;\n",
       "    }\n",
       "\n",
       "    .dataframe tbody tr th {\n",
       "        vertical-align: top;\n",
       "    }\n",
       "\n",
       "    .dataframe thead th {\n",
       "        text-align: right;\n",
       "    }\n",
       "</style>\n",
       "<table border=\"1\" class=\"dataframe\">\n",
       "  <thead>\n",
       "    <tr style=\"text-align: right;\">\n",
       "      <th></th>\n",
       "      <th>breed</th>\n",
       "      <th>outcome_type</th>\n",
       "      <th>sex_upon_outcome</th>\n",
       "      <th>intake_condition</th>\n",
       "      <th>intake_type</th>\n",
       "      <th>sex_upon_intake</th>\n",
       "      <th>age_upon_intake_(days)</th>\n",
       "      <th>intake_datetime</th>\n",
       "      <th>intake_weekday</th>\n",
       "      <th>time_in_shelter_days</th>\n",
       "      <th>color_type1</th>\n",
       "      <th>color_type2</th>\n",
       "      <th>Apricot</th>\n",
       "      <th>Black</th>\n",
       "      <th>Blue</th>\n",
       "      <th>Brown</th>\n",
       "      <th>Buff</th>\n",
       "      <th>Chocolate</th>\n",
       "      <th>Cream</th>\n",
       "      <th>Fawn</th>\n",
       "      <th>Gold</th>\n",
       "      <th>Gray</th>\n",
       "      <th>Liver</th>\n",
       "      <th>Orange</th>\n",
       "      <th>Red</th>\n",
       "      <th>Ruddy</th>\n",
       "      <th>Sable</th>\n",
       "      <th>Silver</th>\n",
       "      <th>Tan</th>\n",
       "      <th>Tricolor</th>\n",
       "      <th>White</th>\n",
       "      <th>Yellow</th>\n",
       "      <th>Pink</th>\n",
       "      <th>Tortie</th>\n",
       "      <th>in_cond_Feral</th>\n",
       "      <th>in_cond_Injured</th>\n",
       "      <th>in_cond_Normal</th>\n",
       "      <th>in_cond_Nursing</th>\n",
       "      <th>in_cond_Other</th>\n",
       "      <th>in_cond_Pregnant</th>\n",
       "      <th>in_cond_Sick</th>\n",
       "      <th>in_type_Owner Surrender</th>\n",
       "      <th>in_type_Public Assist</th>\n",
       "      <th>in_type_Stray</th>\n",
       "      <th>Shorthair</th>\n",
       "      <th>Longhair</th>\n",
       "      <th>Wirehair</th>\n",
       "      <th>Rough Coat</th>\n",
       "      <th>Mix</th>\n",
       "      <th>breed2</th>\n",
       "    </tr>\n",
       "  </thead>\n",
       "  <tbody>\n",
       "    <tr>\n",
       "      <th>6523</th>\n",
       "      <td>Dachshund</td>\n",
       "      <td>Return to Owner</td>\n",
       "      <td>NaN</td>\n",
       "      <td>Normal</td>\n",
       "      <td>Owner Surrender</td>\n",
       "      <td>NaN</td>\n",
       "      <td>2555</td>\n",
       "      <td>2013-11-17 13:15:00</td>\n",
       "      <td>Sunday</td>\n",
       "      <td>10.122222</td>\n",
       "      <td>Merle</td>\n",
       "      <td>None</td>\n",
       "      <td>0</td>\n",
       "      <td>0</td>\n",
       "      <td>0</td>\n",
       "      <td>1</td>\n",
       "      <td>0</td>\n",
       "      <td>0</td>\n",
       "      <td>0</td>\n",
       "      <td>0</td>\n",
       "      <td>0</td>\n",
       "      <td>0</td>\n",
       "      <td>0</td>\n",
       "      <td>0</td>\n",
       "      <td>0</td>\n",
       "      <td>0</td>\n",
       "      <td>0</td>\n",
       "      <td>0</td>\n",
       "      <td>0</td>\n",
       "      <td>0</td>\n",
       "      <td>0</td>\n",
       "      <td>0</td>\n",
       "      <td>0</td>\n",
       "      <td>0</td>\n",
       "      <td>0</td>\n",
       "      <td>0</td>\n",
       "      <td>1</td>\n",
       "      <td>0</td>\n",
       "      <td>0</td>\n",
       "      <td>0</td>\n",
       "      <td>0</td>\n",
       "      <td>1</td>\n",
       "      <td>0</td>\n",
       "      <td>0</td>\n",
       "      <td>0</td>\n",
       "      <td>0</td>\n",
       "      <td>0</td>\n",
       "      <td>0</td>\n",
       "      <td>0</td>\n",
       "      <td>None</td>\n",
       "    </tr>\n",
       "  </tbody>\n",
       "</table>\n",
       "</div>"
      ],
      "text/plain": [
       "          breed     outcome_type sex_upon_outcome intake_condition  \\\n",
       "6523  Dachshund  Return to Owner              NaN           Normal   \n",
       "\n",
       "          intake_type sex_upon_intake  age_upon_intake_(days)  \\\n",
       "6523  Owner Surrender             NaN                    2555   \n",
       "\n",
       "          intake_datetime intake_weekday  time_in_shelter_days color_type1  \\\n",
       "6523  2013-11-17 13:15:00         Sunday             10.122222       Merle   \n",
       "\n",
       "     color_type2  Apricot  Black  Blue  Brown  Buff  Chocolate  Cream  Fawn  \\\n",
       "6523        None        0      0     0      1     0          0      0     0   \n",
       "\n",
       "      Gold  Gray  Liver  Orange  Red  Ruddy  Sable  Silver  Tan  Tricolor  \\\n",
       "6523     0     0      0       0    0      0      0       0    0         0   \n",
       "\n",
       "      White  Yellow  Pink  Tortie  in_cond_Feral  in_cond_Injured  \\\n",
       "6523      0       0     0       0              0                0   \n",
       "\n",
       "      in_cond_Normal  in_cond_Nursing  in_cond_Other  in_cond_Pregnant  \\\n",
       "6523               1                0              0                 0   \n",
       "\n",
       "      in_cond_Sick  in_type_Owner Surrender  in_type_Public Assist  \\\n",
       "6523             0                        1                      0   \n",
       "\n",
       "      in_type_Stray  Shorthair  Longhair  Wirehair  Rough Coat  Mix breed2  \n",
       "6523              0          0         0         0           0    0   None  "
      ]
     },
     "execution_count": 59,
     "metadata": {},
     "output_type": "execute_result"
    }
   ],
   "source": [
    "shelter_inout_df[shelter_inout_wbreeds_df.sex_upon_outcome.isna()]"
   ]
  },
  {
   "cell_type": "code",
   "execution_count": 60,
   "metadata": {},
   "outputs": [],
   "source": [
    "#change nulls to 'unknown'\n",
    "shelter_inout_wbreeds_df.loc[shelter_inout_wbreeds_df.sex_upon_intake.isna(), 'sex_upon_intake'] = 'Unknown'\n",
    "shelter_inout_wbreeds_df.loc[shelter_inout_wbreeds_df.sex_upon_outcome.isna(), 'sex_upon_outcome'] = 'Unknown'"
   ]
  },
  {
   "cell_type": "code",
   "execution_count": 61,
   "metadata": {},
   "outputs": [],
   "source": [
    "#Split features and assign one of two option to a feature\n",
    "shelter_inout_wbreeds_df.loc[:, \"neutered\"] = shelter_inout_wbreeds_df.sex_upon_outcome.str.split(expand=True)[0]\n",
    "shelter_inout_wbreeds_df.loc[:, \"neutered\"] = shelter_inout_wbreeds_df.neutered.apply(lambda x: x!='Intact').astype(int)\n",
    "\n",
    "shelter_inout_wbreeds_df.loc[:, \"male\"] = shelter_inout_wbreeds_df.sex_upon_intake.str.split(expand=True)[1]\n",
    "shelter_inout_wbreeds_df.loc[:, \"male\"] = shelter_inout_wbreeds_df.male.apply(lambda x: x=='Male').astype(int)\n",
    "\n",
    "#use halfway value for unknowns \n",
    "shelter_inout_wbreeds_df.loc[shelter_inout_wbreeds_df.sex_upon_intake == 'Unknown',\"neutered\" : \"male\"] = .5, .5"
   ]
  },
  {
   "cell_type": "code",
   "execution_count": 62,
   "metadata": {},
   "outputs": [],
   "source": [
    "def was_neutered(x):\n",
    "    '''takes/returns dataframe and uses sex features at start and end to create feature indicating neutering surgery'''\n",
    "    intake_type = x.sex_upon_intake.split()[0]\n",
    "    outcome_type = x.sex_upon_outcome.split()[0]\n",
    "    if intake_type == outcome_type:\n",
    "        neutered = 0\n",
    "    else:\n",
    "        neutered = 1\n",
    "    return neutered\n",
    "shelter_inout_wbreeds_df['neutered_in_shelter'] = shelter_inout_wbreeds_df.apply(was_neutered, axis=1)"
   ]
  },
  {
   "cell_type": "code",
   "execution_count": 63,
   "metadata": {},
   "outputs": [],
   "source": [
    "shelter_inout_wbreeds_df = shelter_inout_wbreeds_df.drop(columns=['sex_upon_outcome'])"
   ]
  },
  {
   "cell_type": "markdown",
   "metadata": {},
   "source": [
    "### Datetime\n",
    "The datetime variable for when animals arrive would be more useful if we look at seasons. "
   ]
  },
  {
   "cell_type": "code",
   "execution_count": 64,
   "metadata": {},
   "outputs": [],
   "source": [
    "def season_of_date(date_in):\n",
    "    '''intakes datatime, defines seasons, and returns season name'''\n",
    "    date = pd.to_datetime(date_in)\n",
    "    year = str(date.year)\n",
    "    seasons = {'spring': pd.date_range(start='21/03/'+year, end='20/06/'+year),\n",
    "               'summer': pd.date_range(start='21/06/'+year, end='22/09/'+year),\n",
    "               'autumn': pd.date_range(start='23/09/'+year, end='20/12/'+year)}\n",
    "    if date in seasons['spring']:\n",
    "        return 'spring'\n",
    "    if date in seasons['summer']:\n",
    "        return 'summer'\n",
    "    if date in seasons['autumn']:\n",
    "        return 'autumn'\n",
    "    else:\n",
    "        return 'winter'\n",
    "\n",
    "shelter_inout_wbreeds_df[\"intake_season\"] = shelter_inout_wbreeds_df.intake_datetime.transform(season_of_date)"
   ]
  },
  {
   "cell_type": "code",
   "execution_count": 65,
   "metadata": {},
   "outputs": [],
   "source": [
    "#Change season category into useable features\n",
    "shelter_inout_wbreeds_df = pd.merge(left=shelter_inout_wbreeds_df, \n",
    "                                    right=pd.get_dummies(shelter_inout_wbreeds_df.intake_season, drop_first=True), \n",
    "                            left_index=True, right_index=True, how='left')\n",
    "shelter_inout_wbreeds_df = shelter_inout_wbreeds_df.drop(columns=['intake_season'])                              "
   ]
  },
  {
   "cell_type": "code",
   "execution_count": 66,
   "metadata": {},
   "outputs": [],
   "source": [
    "# OHE weekday\n",
    "shelter_inout_wbreeds_df = pd.concat([shelter_inout_wbreeds_df, pd.get_dummies(\n",
    "    shelter_inout_wbreeds_df.intake_weekday, drop_first=True)], axis=1)"
   ]
  },
  {
   "cell_type": "markdown",
   "metadata": {},
   "source": [
    "# Save cleaned data"
   ]
  },
  {
   "cell_type": "code",
   "execution_count": 71,
   "metadata": {},
   "outputs": [
    {
     "ename": "FileNotFoundError",
     "evalue": "[Errno 2] No such file or directory: '../data/clean/inout_wbreeds.parquet'",
     "output_type": "error",
     "traceback": [
      "\u001b[1;31m---------------------------------------------------------------------------\u001b[0m",
      "\u001b[1;31mFileNotFoundError\u001b[0m                         Traceback (most recent call last)",
      "\u001b[1;32m<ipython-input-71-25dcb53216b2>\u001b[0m in \u001b[0;36m<module>\u001b[1;34m\u001b[0m\n\u001b[1;32m----> 1\u001b[1;33m \u001b[0mshelter_inout_wbreeds_df\u001b[0m\u001b[1;33m.\u001b[0m\u001b[0mto_parquet\u001b[0m\u001b[1;33m(\u001b[0m\u001b[0mfname\u001b[0m\u001b[1;33m=\u001b[0m\u001b[1;34m'../data/clean/inout_wbreeds.parquet'\u001b[0m\u001b[1;33m)\u001b[0m\u001b[1;33m\u001b[0m\u001b[1;33m\u001b[0m\u001b[0m\n\u001b[0m",
      "\u001b[1;32mc:\\users\\user\\appdata\\local\\programs\\python\\python37\\lib\\site-packages\\pandas\\core\\frame.py\u001b[0m in \u001b[0;36mto_parquet\u001b[1;34m(self, fname, engine, compression, index, partition_cols, **kwargs)\u001b[0m\n\u001b[0;32m   2215\u001b[0m             \u001b[0mindex\u001b[0m\u001b[1;33m=\u001b[0m\u001b[0mindex\u001b[0m\u001b[1;33m,\u001b[0m\u001b[1;33m\u001b[0m\u001b[1;33m\u001b[0m\u001b[0m\n\u001b[0;32m   2216\u001b[0m             \u001b[0mpartition_cols\u001b[0m\u001b[1;33m=\u001b[0m\u001b[0mpartition_cols\u001b[0m\u001b[1;33m,\u001b[0m\u001b[1;33m\u001b[0m\u001b[1;33m\u001b[0m\u001b[0m\n\u001b[1;32m-> 2217\u001b[1;33m             \u001b[1;33m**\u001b[0m\u001b[0mkwargs\u001b[0m\u001b[1;33m\u001b[0m\u001b[1;33m\u001b[0m\u001b[0m\n\u001b[0m\u001b[0;32m   2218\u001b[0m         )\n\u001b[0;32m   2219\u001b[0m \u001b[1;33m\u001b[0m\u001b[0m\n",
      "\u001b[1;32mc:\\users\\user\\appdata\\local\\programs\\python\\python37\\lib\\site-packages\\pandas\\io\\parquet.py\u001b[0m in \u001b[0;36mto_parquet\u001b[1;34m(df, path, engine, compression, index, partition_cols, **kwargs)\u001b[0m\n\u001b[0;32m    250\u001b[0m         \u001b[0mindex\u001b[0m\u001b[1;33m=\u001b[0m\u001b[0mindex\u001b[0m\u001b[1;33m,\u001b[0m\u001b[1;33m\u001b[0m\u001b[1;33m\u001b[0m\u001b[0m\n\u001b[0;32m    251\u001b[0m         \u001b[0mpartition_cols\u001b[0m\u001b[1;33m=\u001b[0m\u001b[0mpartition_cols\u001b[0m\u001b[1;33m,\u001b[0m\u001b[1;33m\u001b[0m\u001b[1;33m\u001b[0m\u001b[0m\n\u001b[1;32m--> 252\u001b[1;33m         \u001b[1;33m**\u001b[0m\u001b[0mkwargs\u001b[0m\u001b[1;33m\u001b[0m\u001b[1;33m\u001b[0m\u001b[0m\n\u001b[0m\u001b[0;32m    253\u001b[0m     )\n\u001b[0;32m    254\u001b[0m \u001b[1;33m\u001b[0m\u001b[0m\n",
      "\u001b[1;32mc:\\users\\user\\appdata\\local\\programs\\python\\python37\\lib\\site-packages\\pandas\\io\\parquet.py\u001b[0m in \u001b[0;36mwrite\u001b[1;34m(self, df, path, compression, coerce_timestamps, index, partition_cols, **kwargs)\u001b[0m\n\u001b[0;32m    115\u001b[0m                 \u001b[0mcompression\u001b[0m\u001b[1;33m=\u001b[0m\u001b[0mcompression\u001b[0m\u001b[1;33m,\u001b[0m\u001b[1;33m\u001b[0m\u001b[1;33m\u001b[0m\u001b[0m\n\u001b[0;32m    116\u001b[0m                 \u001b[0mcoerce_timestamps\u001b[0m\u001b[1;33m=\u001b[0m\u001b[0mcoerce_timestamps\u001b[0m\u001b[1;33m,\u001b[0m\u001b[1;33m\u001b[0m\u001b[1;33m\u001b[0m\u001b[0m\n\u001b[1;32m--> 117\u001b[1;33m                 \u001b[1;33m**\u001b[0m\u001b[0mkwargs\u001b[0m\u001b[1;33m\u001b[0m\u001b[1;33m\u001b[0m\u001b[0m\n\u001b[0m\u001b[0;32m    118\u001b[0m             )\n\u001b[0;32m    119\u001b[0m \u001b[1;33m\u001b[0m\u001b[0m\n",
      "\u001b[1;32mc:\\users\\user\\appdata\\local\\programs\\python\\python37\\lib\\site-packages\\pyarrow\\parquet.py\u001b[0m in \u001b[0;36mwrite_table\u001b[1;34m(table, where, row_group_size, version, use_dictionary, compression, write_statistics, use_deprecated_int96_timestamps, coerce_timestamps, allow_truncated_timestamps, data_page_size, flavor, filesystem, compression_level, **kwargs)\u001b[0m\n\u001b[0;32m   1341\u001b[0m                 \u001b[0muse_deprecated_int96_timestamps\u001b[0m\u001b[1;33m=\u001b[0m\u001b[0muse_int96\u001b[0m\u001b[1;33m,\u001b[0m\u001b[1;33m\u001b[0m\u001b[1;33m\u001b[0m\u001b[0m\n\u001b[0;32m   1342\u001b[0m                 \u001b[0mcompression_level\u001b[0m\u001b[1;33m=\u001b[0m\u001b[0mcompression_level\u001b[0m\u001b[1;33m,\u001b[0m\u001b[1;33m\u001b[0m\u001b[1;33m\u001b[0m\u001b[0m\n\u001b[1;32m-> 1343\u001b[1;33m                 **kwargs) as writer:\n\u001b[0m\u001b[0;32m   1344\u001b[0m             \u001b[0mwriter\u001b[0m\u001b[1;33m.\u001b[0m\u001b[0mwrite_table\u001b[0m\u001b[1;33m(\u001b[0m\u001b[0mtable\u001b[0m\u001b[1;33m,\u001b[0m \u001b[0mrow_group_size\u001b[0m\u001b[1;33m=\u001b[0m\u001b[0mrow_group_size\u001b[0m\u001b[1;33m)\u001b[0m\u001b[1;33m\u001b[0m\u001b[1;33m\u001b[0m\u001b[0m\n\u001b[0;32m   1345\u001b[0m     \u001b[1;32mexcept\u001b[0m \u001b[0mException\u001b[0m\u001b[1;33m:\u001b[0m\u001b[1;33m\u001b[0m\u001b[1;33m\u001b[0m\u001b[0m\n",
      "\u001b[1;32mc:\\users\\user\\appdata\\local\\programs\\python\\python37\\lib\\site-packages\\pyarrow\\parquet.py\u001b[0m in \u001b[0;36m__init__\u001b[1;34m(self, where, schema, filesystem, flavor, version, use_dictionary, compression, write_statistics, use_deprecated_int96_timestamps, compression_level, **options)\u001b[0m\n\u001b[0;32m    434\u001b[0m         \u001b[0mfilesystem\u001b[0m\u001b[1;33m,\u001b[0m \u001b[0mpath\u001b[0m \u001b[1;33m=\u001b[0m \u001b[0mresolve_filesystem_and_path\u001b[0m\u001b[1;33m(\u001b[0m\u001b[0mwhere\u001b[0m\u001b[1;33m,\u001b[0m \u001b[0mfilesystem\u001b[0m\u001b[1;33m)\u001b[0m\u001b[1;33m\u001b[0m\u001b[1;33m\u001b[0m\u001b[0m\n\u001b[0;32m    435\u001b[0m         \u001b[1;32mif\u001b[0m \u001b[0mfilesystem\u001b[0m \u001b[1;32mis\u001b[0m \u001b[1;32mnot\u001b[0m \u001b[1;32mNone\u001b[0m\u001b[1;33m:\u001b[0m\u001b[1;33m\u001b[0m\u001b[1;33m\u001b[0m\u001b[0m\n\u001b[1;32m--> 436\u001b[1;33m             \u001b[0msink\u001b[0m \u001b[1;33m=\u001b[0m \u001b[0mself\u001b[0m\u001b[1;33m.\u001b[0m\u001b[0mfile_handle\u001b[0m \u001b[1;33m=\u001b[0m \u001b[0mfilesystem\u001b[0m\u001b[1;33m.\u001b[0m\u001b[0mopen\u001b[0m\u001b[1;33m(\u001b[0m\u001b[0mpath\u001b[0m\u001b[1;33m,\u001b[0m \u001b[1;34m'wb'\u001b[0m\u001b[1;33m)\u001b[0m\u001b[1;33m\u001b[0m\u001b[1;33m\u001b[0m\u001b[0m\n\u001b[0m\u001b[0;32m    437\u001b[0m         \u001b[1;32melse\u001b[0m\u001b[1;33m:\u001b[0m\u001b[1;33m\u001b[0m\u001b[1;33m\u001b[0m\u001b[0m\n\u001b[0;32m    438\u001b[0m             \u001b[0msink\u001b[0m \u001b[1;33m=\u001b[0m \u001b[0mwhere\u001b[0m\u001b[1;33m\u001b[0m\u001b[1;33m\u001b[0m\u001b[0m\n",
      "\u001b[1;32mc:\\users\\user\\appdata\\local\\programs\\python\\python37\\lib\\site-packages\\pyarrow\\filesystem.py\u001b[0m in \u001b[0;36mopen\u001b[1;34m(self, path, mode)\u001b[0m\n\u001b[0;32m    242\u001b[0m         \"\"\"\n\u001b[0;32m    243\u001b[0m         \u001b[0mpath\u001b[0m \u001b[1;33m=\u001b[0m \u001b[0m_stringify_path\u001b[0m\u001b[1;33m(\u001b[0m\u001b[0mpath\u001b[0m\u001b[1;33m)\u001b[0m\u001b[1;33m\u001b[0m\u001b[1;33m\u001b[0m\u001b[0m\n\u001b[1;32m--> 244\u001b[1;33m         \u001b[1;32mreturn\u001b[0m \u001b[0mopen\u001b[0m\u001b[1;33m(\u001b[0m\u001b[0mpath\u001b[0m\u001b[1;33m,\u001b[0m \u001b[0mmode\u001b[0m\u001b[1;33m=\u001b[0m\u001b[0mmode\u001b[0m\u001b[1;33m)\u001b[0m\u001b[1;33m\u001b[0m\u001b[1;33m\u001b[0m\u001b[0m\n\u001b[0m\u001b[0;32m    245\u001b[0m \u001b[1;33m\u001b[0m\u001b[0m\n\u001b[0;32m    246\u001b[0m     \u001b[1;33m@\u001b[0m\u001b[0mproperty\u001b[0m\u001b[1;33m\u001b[0m\u001b[1;33m\u001b[0m\u001b[0m\n",
      "\u001b[1;31mFileNotFoundError\u001b[0m: [Errno 2] No such file or directory: '../data/clean/inout_wbreeds.parquet'"
     ]
    }
   ],
   "source": [
    "shelter_inout_wbreeds_df.to_parquet(fname='../data/clean/inout_wbreeds.parquet')"
   ]
  },
  {
   "cell_type": "code",
   "execution_count": null,
   "metadata": {},
   "outputs": [],
   "source": []
  }
 ],
 "metadata": {
  "kernelspec": {
   "display_name": "Python 3",
   "language": "python",
   "name": "python3"
  },
  "language_info": {
   "codemirror_mode": {
    "name": "ipython",
    "version": 3
   },
   "file_extension": ".py",
   "mimetype": "text/x-python",
   "name": "python",
   "nbconvert_exporter": "python",
   "pygments_lexer": "ipython3",
   "version": "3.7.4"
  },
  "varInspector": {
   "cols": {
    "lenName": 16,
    "lenType": 16,
    "lenVar": 40
   },
   "kernels_config": {
    "python": {
     "delete_cmd_postfix": "",
     "delete_cmd_prefix": "del ",
     "library": "var_list.py",
     "varRefreshCmd": "print(var_dic_list())"
    },
    "r": {
     "delete_cmd_postfix": ") ",
     "delete_cmd_prefix": "rm(",
     "library": "var_list.r",
     "varRefreshCmd": "cat(var_dic_list()) "
    }
   },
   "types_to_exclude": [
    "module",
    "function",
    "builtin_function_or_method",
    "instance",
    "_Feature"
   ],
   "window_display": false
  }
 },
 "nbformat": 4,
 "nbformat_minor": 2
}
