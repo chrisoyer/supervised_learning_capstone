{
 "cells": [
  {
   "cell_type": "markdown",
   "metadata": {},
   "source": [
    "# Characterizing and Predicting Dog Adoption Rates\n",
    "\n",
    "## Intro\n",
    "I am using data sets I obtained from Kaggle: [dog breeds parameters scraped from at dogtime.com](https://www.kaggle.com/hocop1/cat-and-dog-breeds-parameters) and the Austin Animal Center's [intake and outake records.](https://www.kaggle.com/aaronschlegel/austin-animal-center-shelter-intakes-and-outcomes/) . \n",
    "\n",
    "The Austin Animal Center data describes the animals that the shelter accepts (from various places) and the dates the animal enter and leave the shelter. The time in the shelter is an important metric: it directly affects the cost of keeping the animal, and the ideal would be to have animals adopted out in a timely manner. \n",
    "\n",
    "I will import several python modules, load the AAC data, and clean it. I will then load a dataset of dog breed descriptions, and replace the 'breed' features, which has hundreds of breeds listed, with the breed description variables from this second data set. This will allow the use of a very descriptive feature, without expanding it into hundreds of binary features. I will then eliminate any unhelpful features, and mode the data with several machine learning models to try to estimate the time a dog will spend in the shelter."
   ]
  },
  {
   "cell_type": "markdown",
   "metadata": {},
   "source": [
    "## Setup"
   ]
  },
  {
   "cell_type": "code",
   "execution_count": 1,
   "metadata": {},
   "outputs": [],
   "source": [
    "import numpy as np\n",
    "import pandas as pd\n",
    "from pandas.io.json import json_normalize\n",
    "import json\n",
    "import matplotlib.pyplot as plt\n",
    "import seaborn as sns\n",
    "import scipy.stats as stats\n",
    "from scipy.stats import boxcox\n",
    "\n",
    "from zipfile import ZipFile\n",
    "\n",
    "from boruta import BorutaPy\n",
    "from sklearn.feature_selection import RFE\n",
    "from sklearn.model_selection import cross_validate\n",
    "from sklearn.linear_model import ElasticNet\n",
    "from sklearn.model_selection import RandomizedSearchCV\n",
    "from sklearn.model_selection import train_test_split\n",
    "from sklearn.model_selection import cross_validate\n",
    "from sklearn.ensemble import RandomForestRegressor"
   ]
  },
  {
   "cell_type": "markdown",
   "metadata": {},
   "source": [
    "### Shelter dataset exploration and cleaning"
   ]
  },
  {
   "cell_type": "raw",
   "metadata": {},
   "source": [
    "with ZipFile(r'../data_sets/austin-animal-center-shelter-intakes-and-outcomes.zip', 'r') as zip:\n",
    "    zip.extractall()\n",
    "with ZipFile(r'../data_sets/cat-and-dog-breeds-parameters.zip', 'r') as zip:\n",
    "    zip.extractall()"
   ]
  },
  {
   "cell_type": "code",
   "execution_count": 2,
   "metadata": {},
   "outputs": [],
   "source": [
    "raw = pd.read_csv(r'aac_intakes_outcomes.csv')  # I will used the merged file with both intake records and outcome records\n",
    "shelter_inout_df = raw.copy(deep=True)"
   ]
  },
  {
   "cell_type": "code",
   "execution_count": 3,
   "metadata": {},
   "outputs": [
    {
     "data": {
      "text/plain": [
       "array(['Dog', 'Cat', 'Other', 'Bird'], dtype=object)"
      ]
     },
     "execution_count": 3,
     "metadata": {},
     "output_type": "execute_result"
    }
   ],
   "source": [
    "shelter_inout_df.animal_type.unique()"
   ]
  },
  {
   "cell_type": "code",
   "execution_count": 4,
   "metadata": {},
   "outputs": [
    {
     "data": {
      "text/plain": [
       "(45366, 12)"
      ]
     },
     "execution_count": 4,
     "metadata": {},
     "output_type": "execute_result"
    }
   ],
   "source": [
    "#we are only looking at dogs\n",
    "shelter_inout_df = shelter_inout_df[shelter_inout_df.animal_type == 'Dog']\n",
    "\n",
    "# there are a lot of features that i'm not interested, especially that describe the same thing in multiple ways. \n",
    "# I am using time in shelter as it is a simple scalar, not d datetime. \n",
    "#count is only 1, no other values exist\n",
    "\n",
    "shelter_inout_df = shelter_inout_df.drop(columns=['animal_type', \"age_upon_outcome\", \"animal_id_outcome\", \"age_upon_outcome_(years)\", \n",
    "                                                  'age_upon_outcome_(days)', \"age_upon_outcome_age_group\", \"outcome_year\", \n",
    "                                                  \"outcome_monthyear\", \"outcome_hour\", \"outcome_number\", \"animal_id_intake\", \n",
    "                                                  \"age_upon_intake_(years)\", \"age_upon_intake_age_group\", \"intake_year\", \n",
    "                                                  \"intake_monthyear\", \"intake_hour\", \"intake_number\", \"time_in_shelter\", \n",
    "                                                  \"found_location\", 'outcome_datetime', 'dob_year', 'dob_month', 'dob_monthyear',\n",
    "                                                  'outcome_month', 'outcome_weekday', 'age_upon_intake', 'intake_month',\n",
    "                                                  'date_of_birth', 'count'])\n",
    "shelter_inout_df.shape"
   ]
  },
  {
   "cell_type": "code",
   "execution_count": 5,
   "metadata": {},
   "outputs": [
    {
     "data": {
      "text/plain": [
       "outcome_subtype           31598\n",
       "outcome_type                  2\n",
       "sex_upon_outcome              1\n",
       "breed                         0\n",
       "color                         0\n",
       "intake_condition              0\n",
       "intake_type                   0\n",
       "sex_upon_intake               1\n",
       "age_upon_intake_(days)        0\n",
       "intake_datetime               0\n",
       "intake_weekday                0\n",
       "time_in_shelter_days          0\n",
       "dtype: int64"
      ]
     },
     "execution_count": 5,
     "metadata": {},
     "output_type": "execute_result"
    }
   ],
   "source": [
    "shelter_inout_df.isna().sum()"
   ]
  },
  {
   "cell_type": "markdown",
   "metadata": {},
   "source": [
    "'outcome'... is the only source of nulls (at this point)."
   ]
  },
  {
   "cell_type": "markdown",
   "metadata": {},
   "source": [
    "### Outcome"
   ]
  },
  {
   "cell_type": "code",
   "execution_count": 6,
   "metadata": {
    "scrolled": true
   },
   "outputs": [
    {
     "data": {
      "text/html": [
       "<div>\n",
       "<style scoped>\n",
       "    .dataframe tbody tr th:only-of-type {\n",
       "        vertical-align: middle;\n",
       "    }\n",
       "\n",
       "    .dataframe tbody tr th {\n",
       "        vertical-align: top;\n",
       "    }\n",
       "\n",
       "    .dataframe thead th {\n",
       "        text-align: right;\n",
       "    }\n",
       "</style>\n",
       "<table border=\"1\" class=\"dataframe\">\n",
       "  <thead>\n",
       "    <tr style=\"text-align: right;\">\n",
       "      <th>outcome_subtype</th>\n",
       "      <th>Aggressive</th>\n",
       "      <th>At Vet</th>\n",
       "      <th>Barn</th>\n",
       "      <th>Behavior</th>\n",
       "      <th>Court/Investigation</th>\n",
       "      <th>Enroute</th>\n",
       "      <th>Foster</th>\n",
       "      <th>In Foster</th>\n",
       "      <th>In Kennel</th>\n",
       "      <th>In Surgery</th>\n",
       "      <th>Medical</th>\n",
       "      <th>Offsite</th>\n",
       "      <th>Partner</th>\n",
       "      <th>Possible Theft</th>\n",
       "      <th>Rabies Risk</th>\n",
       "      <th>Suffering</th>\n",
       "    </tr>\n",
       "    <tr>\n",
       "      <th>outcome_type</th>\n",
       "      <th></th>\n",
       "      <th></th>\n",
       "      <th></th>\n",
       "      <th></th>\n",
       "      <th></th>\n",
       "      <th></th>\n",
       "      <th></th>\n",
       "      <th></th>\n",
       "      <th></th>\n",
       "      <th></th>\n",
       "      <th></th>\n",
       "      <th></th>\n",
       "      <th></th>\n",
       "      <th></th>\n",
       "      <th></th>\n",
       "      <th></th>\n",
       "    </tr>\n",
       "  </thead>\n",
       "  <tbody>\n",
       "    <tr>\n",
       "      <th>Adoption</th>\n",
       "      <td>NaN</td>\n",
       "      <td>NaN</td>\n",
       "      <td>NaN</td>\n",
       "      <td>NaN</td>\n",
       "      <td>NaN</td>\n",
       "      <td>NaN</td>\n",
       "      <td>2174.0</td>\n",
       "      <td>NaN</td>\n",
       "      <td>NaN</td>\n",
       "      <td>NaN</td>\n",
       "      <td>NaN</td>\n",
       "      <td>254.0</td>\n",
       "      <td>NaN</td>\n",
       "      <td>NaN</td>\n",
       "      <td>NaN</td>\n",
       "      <td>NaN</td>\n",
       "    </tr>\n",
       "    <tr>\n",
       "      <th>Died</th>\n",
       "      <td>NaN</td>\n",
       "      <td>15.0</td>\n",
       "      <td>NaN</td>\n",
       "      <td>NaN</td>\n",
       "      <td>NaN</td>\n",
       "      <td>5.0</td>\n",
       "      <td>NaN</td>\n",
       "      <td>18.0</td>\n",
       "      <td>89.0</td>\n",
       "      <td>7.0</td>\n",
       "      <td>NaN</td>\n",
       "      <td>NaN</td>\n",
       "      <td>NaN</td>\n",
       "      <td>NaN</td>\n",
       "      <td>NaN</td>\n",
       "      <td>NaN</td>\n",
       "    </tr>\n",
       "    <tr>\n",
       "      <th>Euthanasia</th>\n",
       "      <td>492.0</td>\n",
       "      <td>12.0</td>\n",
       "      <td>NaN</td>\n",
       "      <td>133.0</td>\n",
       "      <td>23.0</td>\n",
       "      <td>NaN</td>\n",
       "      <td>NaN</td>\n",
       "      <td>NaN</td>\n",
       "      <td>NaN</td>\n",
       "      <td>NaN</td>\n",
       "      <td>61.0</td>\n",
       "      <td>NaN</td>\n",
       "      <td>NaN</td>\n",
       "      <td>NaN</td>\n",
       "      <td>86.0</td>\n",
       "      <td>690.0</td>\n",
       "    </tr>\n",
       "    <tr>\n",
       "      <th>Missing</th>\n",
       "      <td>NaN</td>\n",
       "      <td>NaN</td>\n",
       "      <td>NaN</td>\n",
       "      <td>NaN</td>\n",
       "      <td>NaN</td>\n",
       "      <td>NaN</td>\n",
       "      <td>NaN</td>\n",
       "      <td>3.0</td>\n",
       "      <td>1.0</td>\n",
       "      <td>NaN</td>\n",
       "      <td>NaN</td>\n",
       "      <td>NaN</td>\n",
       "      <td>NaN</td>\n",
       "      <td>7.0</td>\n",
       "      <td>NaN</td>\n",
       "      <td>NaN</td>\n",
       "    </tr>\n",
       "    <tr>\n",
       "      <th>Return to Owner</th>\n",
       "      <td>NaN</td>\n",
       "      <td>1.0</td>\n",
       "      <td>NaN</td>\n",
       "      <td>NaN</td>\n",
       "      <td>NaN</td>\n",
       "      <td>NaN</td>\n",
       "      <td>NaN</td>\n",
       "      <td>NaN</td>\n",
       "      <td>NaN</td>\n",
       "      <td>NaN</td>\n",
       "      <td>NaN</td>\n",
       "      <td>NaN</td>\n",
       "      <td>NaN</td>\n",
       "      <td>NaN</td>\n",
       "      <td>NaN</td>\n",
       "      <td>NaN</td>\n",
       "    </tr>\n",
       "    <tr>\n",
       "      <th>Transfer</th>\n",
       "      <td>NaN</td>\n",
       "      <td>NaN</td>\n",
       "      <td>1.0</td>\n",
       "      <td>NaN</td>\n",
       "      <td>NaN</td>\n",
       "      <td>NaN</td>\n",
       "      <td>NaN</td>\n",
       "      <td>NaN</td>\n",
       "      <td>NaN</td>\n",
       "      <td>NaN</td>\n",
       "      <td>NaN</td>\n",
       "      <td>NaN</td>\n",
       "      <td>9696.0</td>\n",
       "      <td>NaN</td>\n",
       "      <td>NaN</td>\n",
       "      <td>NaN</td>\n",
       "    </tr>\n",
       "  </tbody>\n",
       "</table>\n",
       "</div>"
      ],
      "text/plain": [
       "outcome_subtype  Aggressive  At Vet  Barn  Behavior  Court/Investigation  \\\n",
       "outcome_type                                                               \n",
       "Adoption                NaN     NaN   NaN       NaN                  NaN   \n",
       "Died                    NaN    15.0   NaN       NaN                  NaN   \n",
       "Euthanasia            492.0    12.0   NaN     133.0                 23.0   \n",
       "Missing                 NaN     NaN   NaN       NaN                  NaN   \n",
       "Return to Owner         NaN     1.0   NaN       NaN                  NaN   \n",
       "Transfer                NaN     NaN   1.0       NaN                  NaN   \n",
       "\n",
       "outcome_subtype  Enroute  Foster  In Foster  In Kennel  In Surgery  Medical  \\\n",
       "outcome_type                                                                  \n",
       "Adoption             NaN  2174.0        NaN        NaN         NaN      NaN   \n",
       "Died                 5.0     NaN       18.0       89.0         7.0      NaN   \n",
       "Euthanasia           NaN     NaN        NaN        NaN         NaN     61.0   \n",
       "Missing              NaN     NaN        3.0        1.0         NaN      NaN   \n",
       "Return to Owner      NaN     NaN        NaN        NaN         NaN      NaN   \n",
       "Transfer             NaN     NaN        NaN        NaN         NaN      NaN   \n",
       "\n",
       "outcome_subtype  Offsite  Partner  Possible Theft  Rabies Risk  Suffering  \n",
       "outcome_type                                                               \n",
       "Adoption           254.0      NaN             NaN          NaN        NaN  \n",
       "Died                 NaN      NaN             NaN          NaN        NaN  \n",
       "Euthanasia           NaN      NaN             NaN         86.0      690.0  \n",
       "Missing              NaN      NaN             7.0          NaN        NaN  \n",
       "Return to Owner      NaN      NaN             NaN          NaN        NaN  \n",
       "Transfer             NaN   9696.0             NaN          NaN        NaN  "
      ]
     },
     "execution_count": 6,
     "metadata": {},
     "output_type": "execute_result"
    }
   ],
   "source": [
    "#review which outcomes have which subtypes\n",
    "outcome_pivot = shelter_inout_df.pivot_table(values='breed', index='outcome_type', columns='outcome_subtype', aggfunc=len)\n",
    "outcome_pivot"
   ]
  },
  {
   "cell_type": "code",
   "execution_count": 7,
   "metadata": {
    "scrolled": true
   },
   "outputs": [
    {
     "data": {
      "image/png": "[encoded data removed]",
      "text/plain": [
       "<Figure size 432x288 with 2 Axes>"
      ]
     },
     "metadata": {},
     "output_type": "display_data"
    }
   ],
   "source": [
    "sns.set_style(\"whitegrid\")\n",
    "sns.heatmap(outcome_pivot);"
   ]
  },
  {
   "cell_type": "markdown",
   "metadata": {},
   "source": [
    "This only contains information that is known once the animal leaves the shelter, and so can't be used to predict the time in the shelter. We might want to attempt to predict this as part of an extension of this project."
   ]
  },
  {
   "cell_type": "markdown",
   "metadata": {},
   "source": [
    "### Color \n",
    "We want to use color as a set of features. There are multiple colors listed in a text field for each animal so they need to be split and each color encoded as a variable. There will be multiple colors for some animal."
   ]
  },
  {
   "cell_type": "code",
   "execution_count": 8,
   "metadata": {},
   "outputs": [
    {
     "data": {
      "text/plain": [
       "0    Yellow/White\n",
       "1    Yellow/White\n",
       "2    Yellow/White\n",
       "3        Tricolor\n",
       "4     Brown/White\n",
       "Name: color, dtype: object"
      ]
     },
     "execution_count": 8,
     "metadata": {},
     "output_type": "execute_result"
    }
   ],
   "source": [
    "shelter_inout_df.color.head()"
   ]
  },
  {
   "cell_type": "code",
   "execution_count": 9,
   "metadata": {},
   "outputs": [],
   "source": [
    "shelter_inout_df[\"color1\"] = \"\"  #creating emptye columns to avoid errors when assigning to multiple columns before they are created\n",
    "shelter_inout_df[\"color2\"] = \"\"\n",
    "shelter_inout_df[\"color1\"] = shelter_inout_df[\"color\"].str.split(pat=\"/\", expand=True)[0]\n",
    "shelter_inout_df[\"color2\"] = shelter_inout_df[\"color\"].str.split(pat=\"/\", expand=True)[1]"
   ]
  },
  {
   "cell_type": "code",
   "execution_count": 10,
   "metadata": {},
   "outputs": [],
   "source": [
    "shelter_inout_df[\"color_type\"] = shelter_inout_df.color1.str.split(expand=True)[1]\n",
    "shelter_inout_df[\"color1\"] = shelter_inout_df.color1.str.split(expand=True)[0]\n",
    "shelter_inout_df[\"color_type2\"] = shelter_inout_df.color2.str.split(expand=True)[1]\n",
    "shelter_inout_df[\"color2\"] = shelter_inout_df.color2.str.split(expand=True)[0]"
   ]
  },
  {
   "cell_type": "code",
   "execution_count": 11,
   "metadata": {},
   "outputs": [
    {
     "data": {
      "text/plain": [
       "array([None, 'Merle', 'Brindle', 'Tick', 'Tiger', 'Smoke', 'Cream'],\n",
       "      dtype=object)"
      ]
     },
     "execution_count": 11,
     "metadata": {},
     "output_type": "execute_result"
    }
   ],
   "source": [
    "shelter_inout_df.color_type.unique()"
   ]
  },
  {
   "cell_type": "code",
   "execution_count": 12,
   "metadata": {},
   "outputs": [
    {
     "data": {
      "text/plain": [
       "array([None, 'Brindle', 'Merle', 'Tick', 'Tiger', 'Cream', 'Tabby',\n",
       "       'Smoke'], dtype=object)"
      ]
     },
     "execution_count": 12,
     "metadata": {},
     "output_type": "execute_result"
    }
   ],
   "source": [
    "shelter_inout_df.color_type2.unique()"
   ]
  },
  {
   "cell_type": "code",
   "execution_count": 13,
   "metadata": {
    "scrolled": true
   },
   "outputs": [
    {
     "data": {
      "text/plain": [
       "White        24186\n",
       "Black        15704\n",
       "Brown        11776\n",
       "Tan           9255\n",
       "Red           2623\n",
       "Blue          2559\n",
       "Tricolor      2454\n",
       "Chocolate     1309\n",
       "Gray           855\n",
       "Cream          850\n",
       "Sable          745\n",
       "Yellow         744\n",
       "Buff           666\n",
       "Fawn           590\n",
       "Gold           203\n",
       "Silver         174\n",
       "Apricot         76\n",
       "Liver           72\n",
       "Orange          40\n",
       "Pink             4\n",
       "Agouti           4\n",
       "Tortie           1\n",
       "Ruddy            1\n",
       "dtype: int64"
      ]
     },
     "execution_count": 13,
     "metadata": {},
     "output_type": "execute_result"
    }
   ],
   "source": [
    "#Investigate how many categories this variable has\n",
    "pd.concat([shelter_inout_df.color1, shelter_inout_df.color2], 0).value_counts()"
   ]
  },
  {
   "cell_type": "code",
   "execution_count": 14,
   "metadata": {
    "scrolled": true
   },
   "outputs": [],
   "source": [
    "#Put values from both color fields into same set of dummy fields\n",
    "color_df = pd.get_dummies(shelter_inout_df[[\"color1\", \"color2\"]], drop_first=True)\n",
    "color_list = pd.Series(color_df.columns.values)\n",
    "color_list = pd.concat([color_list, color_list.str.split(pat='_', expand=True)], axis=1)\n",
    "color_list.columns = ['fullname', 'source', 'colorname']"
   ]
  },
  {
   "cell_type": "code",
   "execution_count": 15,
   "metadata": {},
   "outputs": [],
   "source": [
    "for color in color_list[\"colorname\"].unique():\n",
    "    shelter_inout_df[color] = 0\n",
    "    shelter_inout_df.loc[(shelter_inout_df[\"color1\"]==color) | (shelter_inout_df[\"color2\"]==color),color] = 1\n",
    "shelter_inout_df = shelter_inout_df.drop(columns=['color', 'color1', 'color2'])    "
   ]
  },
  {
   "cell_type": "code",
   "execution_count": 16,
   "metadata": {},
   "outputs": [],
   "source": [
    "# The outcome subtypes don't seem to asking the same type of questions but they are part of the outcome and can't be used to predict\n",
    "shelter_inout_df.drop(columns=[\"outcome_subtype\"], inplace=True)"
   ]
  },
  {
   "cell_type": "markdown",
   "metadata": {},
   "source": [
    "## Import the dog breed descriptions and inspect data"
   ]
  },
  {
   "cell_type": "code",
   "execution_count": 17,
   "metadata": {},
   "outputs": [
    {
     "data": {
      "text/html": [
       "<div>\n",
       "<style scoped>\n",
       "    .dataframe tbody tr th:only-of-type {\n",
       "        vertical-align: middle;\n",
       "    }\n",
       "\n",
       "    .dataframe tbody tr th {\n",
       "        vertical-align: top;\n",
       "    }\n",
       "\n",
       "    .dataframe thead th {\n",
       "        text-align: right;\n",
       "    }\n",
       "</style>\n",
       "<table border=\"1\" class=\"dataframe\">\n",
       "  <thead>\n",
       "    <tr style=\"text-align: right;\">\n",
       "      <th></th>\n",
       "      <th>Adaptability</th>\n",
       "      <th>All Around Friendliness</th>\n",
       "      <th>Exercise Needs</th>\n",
       "      <th>Health Grooming</th>\n",
       "      <th>Trainability</th>\n",
       "      <th>Adapts Well to Apartment Living</th>\n",
       "      <th>Affectionate with Family</th>\n",
       "      <th>Amount Of Shedding</th>\n",
       "      <th>Dog Friendly</th>\n",
       "      <th>Drooling Potential</th>\n",
       "      <th>...</th>\n",
       "      <th>Potential For Playfulness</th>\n",
       "      <th>Potential For Weight Gain</th>\n",
       "      <th>Prey Drive</th>\n",
       "      <th>Sensitivity Level</th>\n",
       "      <th>Size</th>\n",
       "      <th>Tendency To Bark Or Howl</th>\n",
       "      <th>Tolerates Being Alone</th>\n",
       "      <th>Tolerates Cold Weather</th>\n",
       "      <th>Tolerates Hot Weather</th>\n",
       "      <th>Wanderlust Potential</th>\n",
       "    </tr>\n",
       "  </thead>\n",
       "  <tbody>\n",
       "    <tr>\n",
       "      <th>Affenpinscher</th>\n",
       "      <td>3.0</td>\n",
       "      <td>3.0</td>\n",
       "      <td>4.0</td>\n",
       "      <td>2.0</td>\n",
       "      <td>3.0</td>\n",
       "      <td>5.0</td>\n",
       "      <td>5.0</td>\n",
       "      <td>1.0</td>\n",
       "      <td>4.0</td>\n",
       "      <td>1.0</td>\n",
       "      <td>...</td>\n",
       "      <td>4.0</td>\n",
       "      <td>3.0</td>\n",
       "      <td>3.0</td>\n",
       "      <td>3.0</td>\n",
       "      <td>1.0</td>\n",
       "      <td>2.0</td>\n",
       "      <td>1.0</td>\n",
       "      <td>3.0</td>\n",
       "      <td>3.0</td>\n",
       "      <td>2.0</td>\n",
       "    </tr>\n",
       "    <tr>\n",
       "      <th>Afghan Hound</th>\n",
       "      <td>4.0</td>\n",
       "      <td>4.0</td>\n",
       "      <td>4.0</td>\n",
       "      <td>2.0</td>\n",
       "      <td>3.0</td>\n",
       "      <td>5.0</td>\n",
       "      <td>5.0</td>\n",
       "      <td>4.0</td>\n",
       "      <td>4.0</td>\n",
       "      <td>1.0</td>\n",
       "      <td>...</td>\n",
       "      <td>4.0</td>\n",
       "      <td>1.0</td>\n",
       "      <td>5.0</td>\n",
       "      <td>5.0</td>\n",
       "      <td>4.0</td>\n",
       "      <td>2.0</td>\n",
       "      <td>2.0</td>\n",
       "      <td>5.0</td>\n",
       "      <td>5.0</td>\n",
       "      <td>5.0</td>\n",
       "    </tr>\n",
       "    <tr>\n",
       "      <th>Airedale Terrier</th>\n",
       "      <td>2.0</td>\n",
       "      <td>4.0</td>\n",
       "      <td>5.0</td>\n",
       "      <td>3.0</td>\n",
       "      <td>5.0</td>\n",
       "      <td>1.0</td>\n",
       "      <td>4.0</td>\n",
       "      <td>2.0</td>\n",
       "      <td>4.0</td>\n",
       "      <td>1.0</td>\n",
       "      <td>...</td>\n",
       "      <td>5.0</td>\n",
       "      <td>4.0</td>\n",
       "      <td>5.0</td>\n",
       "      <td>3.0</td>\n",
       "      <td>3.0</td>\n",
       "      <td>4.0</td>\n",
       "      <td>2.0</td>\n",
       "      <td>3.0</td>\n",
       "      <td>3.0</td>\n",
       "      <td>4.0</td>\n",
       "    </tr>\n",
       "    <tr>\n",
       "      <th>Akita</th>\n",
       "      <td>3.0</td>\n",
       "      <td>2.0</td>\n",
       "      <td>4.0</td>\n",
       "      <td>4.0</td>\n",
       "      <td>4.0</td>\n",
       "      <td>2.0</td>\n",
       "      <td>5.0</td>\n",
       "      <td>5.0</td>\n",
       "      <td>1.0</td>\n",
       "      <td>5.0</td>\n",
       "      <td>...</td>\n",
       "      <td>5.0</td>\n",
       "      <td>4.0</td>\n",
       "      <td>4.0</td>\n",
       "      <td>5.0</td>\n",
       "      <td>4.0</td>\n",
       "      <td>5.0</td>\n",
       "      <td>1.0</td>\n",
       "      <td>5.0</td>\n",
       "      <td>2.0</td>\n",
       "      <td>4.0</td>\n",
       "    </tr>\n",
       "    <tr>\n",
       "      <th>Alaskan Klee Kai</th>\n",
       "      <td>3.0</td>\n",
       "      <td>3.0</td>\n",
       "      <td>4.0</td>\n",
       "      <td>3.0</td>\n",
       "      <td>4.0</td>\n",
       "      <td>3.0</td>\n",
       "      <td>4.0</td>\n",
       "      <td>4.0</td>\n",
       "      <td>2.0</td>\n",
       "      <td>2.0</td>\n",
       "      <td>...</td>\n",
       "      <td>4.0</td>\n",
       "      <td>2.0</td>\n",
       "      <td>5.0</td>\n",
       "      <td>4.0</td>\n",
       "      <td>2.0</td>\n",
       "      <td>3.0</td>\n",
       "      <td>2.0</td>\n",
       "      <td>5.0</td>\n",
       "      <td>2.0</td>\n",
       "      <td>4.0</td>\n",
       "    </tr>\n",
       "  </tbody>\n",
       "</table>\n",
       "<p>5 rows × 31 columns</p>\n",
       "</div>"
      ],
      "text/plain": [
       "                   Adaptability   All Around Friendliness   Exercise Needs  \\\n",
       "Affenpinscher               3.0                       3.0              4.0   \n",
       "Afghan Hound                4.0                       4.0              4.0   \n",
       "Airedale Terrier            2.0                       4.0              5.0   \n",
       "Akita                       3.0                       2.0              4.0   \n",
       "Alaskan Klee Kai            3.0                       3.0              4.0   \n",
       "\n",
       "                   Health Grooming   Trainability  \\\n",
       "Affenpinscher                  2.0            3.0   \n",
       "Afghan Hound                   2.0            3.0   \n",
       "Airedale Terrier               3.0            5.0   \n",
       "Akita                          4.0            4.0   \n",
       "Alaskan Klee Kai               3.0            4.0   \n",
       "\n",
       "                  Adapts Well to Apartment Living  Affectionate with Family  \\\n",
       "Affenpinscher                                 5.0                       5.0   \n",
       "Afghan Hound                                  5.0                       5.0   \n",
       "Airedale Terrier                              1.0                       4.0   \n",
       "Akita                                         2.0                       5.0   \n",
       "Alaskan Klee Kai                              3.0                       4.0   \n",
       "\n",
       "                  Amount Of Shedding  Dog Friendly  Drooling Potential  ...  \\\n",
       "Affenpinscher                    1.0           4.0                 1.0  ...   \n",
       "Afghan Hound                     4.0           4.0                 1.0  ...   \n",
       "Airedale Terrier                 2.0           4.0                 1.0  ...   \n",
       "Akita                            5.0           1.0                 5.0  ...   \n",
       "Alaskan Klee Kai                 4.0           2.0                 2.0  ...   \n",
       "\n",
       "                  Potential For Playfulness  Potential For Weight Gain  \\\n",
       "Affenpinscher                           4.0                        3.0   \n",
       "Afghan Hound                            4.0                        1.0   \n",
       "Airedale Terrier                        5.0                        4.0   \n",
       "Akita                                   5.0                        4.0   \n",
       "Alaskan Klee Kai                        4.0                        2.0   \n",
       "\n",
       "                  Prey Drive  Sensitivity Level  Size  \\\n",
       "Affenpinscher            3.0                3.0   1.0   \n",
       "Afghan Hound             5.0                5.0   4.0   \n",
       "Airedale Terrier         5.0                3.0   3.0   \n",
       "Akita                    4.0                5.0   4.0   \n",
       "Alaskan Klee Kai         5.0                4.0   2.0   \n",
       "\n",
       "                  Tendency To Bark Or Howl  Tolerates Being Alone  \\\n",
       "Affenpinscher                          2.0                    1.0   \n",
       "Afghan Hound                           2.0                    2.0   \n",
       "Airedale Terrier                       4.0                    2.0   \n",
       "Akita                                  5.0                    1.0   \n",
       "Alaskan Klee Kai                       3.0                    2.0   \n",
       "\n",
       "                  Tolerates Cold Weather  Tolerates Hot Weather  \\\n",
       "Affenpinscher                        3.0                    3.0   \n",
       "Afghan Hound                         5.0                    5.0   \n",
       "Airedale Terrier                     3.0                    3.0   \n",
       "Akita                                5.0                    2.0   \n",
       "Alaskan Klee Kai                     5.0                    2.0   \n",
       "\n",
       "                  Wanderlust Potential  \n",
       "Affenpinscher                      2.0  \n",
       "Afghan Hound                       5.0  \n",
       "Airedale Terrier                   4.0  \n",
       "Akita                              4.0  \n",
       "Alaskan Klee Kai                   4.0  \n",
       "\n",
       "[5 rows x 31 columns]"
      ]
     },
     "execution_count": 17,
     "metadata": {},
     "output_type": "execute_result"
    }
   ],
   "source": [
    "with open('rating.json', 'r') as rating_file:\n",
    "    ratings = json.load(rating_file)\n",
    "    json_normalize(ratings)\n",
    "    dog_descr_df = pd.DataFrame.from_dict(ratings['dog_breeds'], ).T\n",
    "dog_descr_df.head()"
   ]
  },
  {
   "cell_type": "code",
   "execution_count": 18,
   "metadata": {
    "scrolled": true
   },
   "outputs": [
    {
     "data": {
      "text/html": [
       "<div>\n",
       "<style scoped>\n",
       "    .dataframe tbody tr th:only-of-type {\n",
       "        vertical-align: middle;\n",
       "    }\n",
       "\n",
       "    .dataframe tbody tr th {\n",
       "        vertical-align: top;\n",
       "    }\n",
       "\n",
       "    .dataframe thead th {\n",
       "        text-align: right;\n",
       "    }\n",
       "</style>\n",
       "<table border=\"1\" class=\"dataframe\">\n",
       "  <thead>\n",
       "    <tr style=\"text-align: right;\">\n",
       "      <th></th>\n",
       "      <th>Adaptability</th>\n",
       "      <th>All Around Friendliness</th>\n",
       "      <th>Exercise Needs</th>\n",
       "      <th>Health Grooming</th>\n",
       "      <th>Trainability</th>\n",
       "      <th>Adapts Well to Apartment Living</th>\n",
       "      <th>Affectionate with Family</th>\n",
       "      <th>Amount Of Shedding</th>\n",
       "      <th>Dog Friendly</th>\n",
       "      <th>Drooling Potential</th>\n",
       "      <th>...</th>\n",
       "      <th>Potential For Playfulness</th>\n",
       "      <th>Potential For Weight Gain</th>\n",
       "      <th>Prey Drive</th>\n",
       "      <th>Sensitivity Level</th>\n",
       "      <th>Size</th>\n",
       "      <th>Tendency To Bark Or Howl</th>\n",
       "      <th>Tolerates Being Alone</th>\n",
       "      <th>Tolerates Cold Weather</th>\n",
       "      <th>Tolerates Hot Weather</th>\n",
       "      <th>Wanderlust Potential</th>\n",
       "    </tr>\n",
       "  </thead>\n",
       "  <tbody>\n",
       "    <tr>\n",
       "      <th>count</th>\n",
       "      <td>214.000000</td>\n",
       "      <td>214.000000</td>\n",
       "      <td>214.000000</td>\n",
       "      <td>214.000000</td>\n",
       "      <td>214.000000</td>\n",
       "      <td>214.000000</td>\n",
       "      <td>214.000000</td>\n",
       "      <td>214.000000</td>\n",
       "      <td>214.000000</td>\n",
       "      <td>214.000000</td>\n",
       "      <td>...</td>\n",
       "      <td>214.000000</td>\n",
       "      <td>214.000000</td>\n",
       "      <td>214.000000</td>\n",
       "      <td>214.000000</td>\n",
       "      <td>214.000000</td>\n",
       "      <td>214.000000</td>\n",
       "      <td>214.000000</td>\n",
       "      <td>214.000000</td>\n",
       "      <td>214.000000</td>\n",
       "      <td>214.000000</td>\n",
       "    </tr>\n",
       "    <tr>\n",
       "      <th>mean</th>\n",
       "      <td>3.116822</td>\n",
       "      <td>4.070093</td>\n",
       "      <td>4.107477</td>\n",
       "      <td>2.995327</td>\n",
       "      <td>3.560748</td>\n",
       "      <td>3.074766</td>\n",
       "      <td>4.700935</td>\n",
       "      <td>3.014019</td>\n",
       "      <td>3.551402</td>\n",
       "      <td>1.705607</td>\n",
       "      <td>...</td>\n",
       "      <td>4.364486</td>\n",
       "      <td>3.294393</td>\n",
       "      <td>3.593458</td>\n",
       "      <td>3.892523</td>\n",
       "      <td>2.841121</td>\n",
       "      <td>3.121495</td>\n",
       "      <td>2.037383</td>\n",
       "      <td>3.331776</td>\n",
       "      <td>3.074766</td>\n",
       "      <td>3.443925</td>\n",
       "    </tr>\n",
       "    <tr>\n",
       "      <th>std</th>\n",
       "      <td>0.565351</td>\n",
       "      <td>0.827771</td>\n",
       "      <td>0.818013</td>\n",
       "      <td>0.601232</td>\n",
       "      <td>0.623146</td>\n",
       "      <td>1.575642</td>\n",
       "      <td>0.560264</td>\n",
       "      <td>1.231355</td>\n",
       "      <td>1.227491</td>\n",
       "      <td>1.215034</td>\n",
       "      <td>...</td>\n",
       "      <td>0.803660</td>\n",
       "      <td>0.950545</td>\n",
       "      <td>1.201780</td>\n",
       "      <td>0.818013</td>\n",
       "      <td>1.155916</td>\n",
       "      <td>1.227313</td>\n",
       "      <td>0.953622</td>\n",
       "      <td>1.209206</td>\n",
       "      <td>0.941490</td>\n",
       "      <td>1.208008</td>\n",
       "    </tr>\n",
       "    <tr>\n",
       "      <th>min</th>\n",
       "      <td>2.000000</td>\n",
       "      <td>1.000000</td>\n",
       "      <td>2.000000</td>\n",
       "      <td>2.000000</td>\n",
       "      <td>2.000000</td>\n",
       "      <td>1.000000</td>\n",
       "      <td>2.000000</td>\n",
       "      <td>1.000000</td>\n",
       "      <td>1.000000</td>\n",
       "      <td>1.000000</td>\n",
       "      <td>...</td>\n",
       "      <td>1.000000</td>\n",
       "      <td>1.000000</td>\n",
       "      <td>1.000000</td>\n",
       "      <td>2.000000</td>\n",
       "      <td>1.000000</td>\n",
       "      <td>1.000000</td>\n",
       "      <td>1.000000</td>\n",
       "      <td>1.000000</td>\n",
       "      <td>1.000000</td>\n",
       "      <td>1.000000</td>\n",
       "    </tr>\n",
       "    <tr>\n",
       "      <th>25%</th>\n",
       "      <td>3.000000</td>\n",
       "      <td>4.000000</td>\n",
       "      <td>4.000000</td>\n",
       "      <td>3.000000</td>\n",
       "      <td>3.000000</td>\n",
       "      <td>1.000000</td>\n",
       "      <td>4.000000</td>\n",
       "      <td>2.000000</td>\n",
       "      <td>3.000000</td>\n",
       "      <td>1.000000</td>\n",
       "      <td>...</td>\n",
       "      <td>4.000000</td>\n",
       "      <td>3.000000</td>\n",
       "      <td>3.000000</td>\n",
       "      <td>3.000000</td>\n",
       "      <td>2.000000</td>\n",
       "      <td>2.000000</td>\n",
       "      <td>1.000000</td>\n",
       "      <td>3.000000</td>\n",
       "      <td>3.000000</td>\n",
       "      <td>3.000000</td>\n",
       "    </tr>\n",
       "    <tr>\n",
       "      <th>50%</th>\n",
       "      <td>3.000000</td>\n",
       "      <td>4.000000</td>\n",
       "      <td>4.000000</td>\n",
       "      <td>3.000000</td>\n",
       "      <td>4.000000</td>\n",
       "      <td>3.000000</td>\n",
       "      <td>5.000000</td>\n",
       "      <td>3.000000</td>\n",
       "      <td>4.000000</td>\n",
       "      <td>1.000000</td>\n",
       "      <td>...</td>\n",
       "      <td>5.000000</td>\n",
       "      <td>3.000000</td>\n",
       "      <td>4.000000</td>\n",
       "      <td>4.000000</td>\n",
       "      <td>3.000000</td>\n",
       "      <td>3.000000</td>\n",
       "      <td>2.000000</td>\n",
       "      <td>4.000000</td>\n",
       "      <td>3.000000</td>\n",
       "      <td>4.000000</td>\n",
       "    </tr>\n",
       "    <tr>\n",
       "      <th>75%</th>\n",
       "      <td>3.000000</td>\n",
       "      <td>5.000000</td>\n",
       "      <td>5.000000</td>\n",
       "      <td>3.000000</td>\n",
       "      <td>4.000000</td>\n",
       "      <td>5.000000</td>\n",
       "      <td>5.000000</td>\n",
       "      <td>4.000000</td>\n",
       "      <td>5.000000</td>\n",
       "      <td>2.000000</td>\n",
       "      <td>...</td>\n",
       "      <td>5.000000</td>\n",
       "      <td>4.000000</td>\n",
       "      <td>5.000000</td>\n",
       "      <td>4.000000</td>\n",
       "      <td>4.000000</td>\n",
       "      <td>4.000000</td>\n",
       "      <td>3.000000</td>\n",
       "      <td>4.000000</td>\n",
       "      <td>4.000000</td>\n",
       "      <td>4.000000</td>\n",
       "    </tr>\n",
       "    <tr>\n",
       "      <th>max</th>\n",
       "      <td>4.000000</td>\n",
       "      <td>5.000000</td>\n",
       "      <td>5.000000</td>\n",
       "      <td>5.000000</td>\n",
       "      <td>5.000000</td>\n",
       "      <td>5.000000</td>\n",
       "      <td>5.000000</td>\n",
       "      <td>5.000000</td>\n",
       "      <td>5.000000</td>\n",
       "      <td>5.000000</td>\n",
       "      <td>...</td>\n",
       "      <td>5.000000</td>\n",
       "      <td>5.000000</td>\n",
       "      <td>5.000000</td>\n",
       "      <td>5.000000</td>\n",
       "      <td>5.000000</td>\n",
       "      <td>5.000000</td>\n",
       "      <td>5.000000</td>\n",
       "      <td>5.000000</td>\n",
       "      <td>5.000000</td>\n",
       "      <td>5.000000</td>\n",
       "    </tr>\n",
       "  </tbody>\n",
       "</table>\n",
       "<p>8 rows × 31 columns</p>\n",
       "</div>"
      ],
      "text/plain": [
       "        Adaptability   All Around Friendliness   Exercise Needs  \\\n",
       "count     214.000000                214.000000       214.000000   \n",
       "mean        3.116822                  4.070093         4.107477   \n",
       "std         0.565351                  0.827771         0.818013   \n",
       "min         2.000000                  1.000000         2.000000   \n",
       "25%         3.000000                  4.000000         4.000000   \n",
       "50%         3.000000                  4.000000         4.000000   \n",
       "75%         3.000000                  5.000000         5.000000   \n",
       "max         4.000000                  5.000000         5.000000   \n",
       "\n",
       "        Health Grooming   Trainability  Adapts Well to Apartment Living  \\\n",
       "count        214.000000     214.000000                       214.000000   \n",
       "mean           2.995327       3.560748                         3.074766   \n",
       "std            0.601232       0.623146                         1.575642   \n",
       "min            2.000000       2.000000                         1.000000   \n",
       "25%            3.000000       3.000000                         1.000000   \n",
       "50%            3.000000       4.000000                         3.000000   \n",
       "75%            3.000000       4.000000                         5.000000   \n",
       "max            5.000000       5.000000                         5.000000   \n",
       "\n",
       "       Affectionate with Family  Amount Of Shedding  Dog Friendly  \\\n",
       "count                214.000000          214.000000    214.000000   \n",
       "mean                   4.700935            3.014019      3.551402   \n",
       "std                    0.560264            1.231355      1.227491   \n",
       "min                    2.000000            1.000000      1.000000   \n",
       "25%                    4.000000            2.000000      3.000000   \n",
       "50%                    5.000000            3.000000      4.000000   \n",
       "75%                    5.000000            4.000000      5.000000   \n",
       "max                    5.000000            5.000000      5.000000   \n",
       "\n",
       "       Drooling Potential  ...  Potential For Playfulness  \\\n",
       "count          214.000000  ...                 214.000000   \n",
       "mean             1.705607  ...                   4.364486   \n",
       "std              1.215034  ...                   0.803660   \n",
       "min              1.000000  ...                   1.000000   \n",
       "25%              1.000000  ...                   4.000000   \n",
       "50%              1.000000  ...                   5.000000   \n",
       "75%              2.000000  ...                   5.000000   \n",
       "max              5.000000  ...                   5.000000   \n",
       "\n",
       "       Potential For Weight Gain  Prey Drive  Sensitivity Level        Size  \\\n",
       "count                 214.000000  214.000000         214.000000  214.000000   \n",
       "mean                    3.294393    3.593458           3.892523    2.841121   \n",
       "std                     0.950545    1.201780           0.818013    1.155916   \n",
       "min                     1.000000    1.000000           2.000000    1.000000   \n",
       "25%                     3.000000    3.000000           3.000000    2.000000   \n",
       "50%                     3.000000    4.000000           4.000000    3.000000   \n",
       "75%                     4.000000    5.000000           4.000000    4.000000   \n",
       "max                     5.000000    5.000000           5.000000    5.000000   \n",
       "\n",
       "       Tendency To Bark Or Howl  Tolerates Being Alone  \\\n",
       "count                214.000000             214.000000   \n",
       "mean                   3.121495               2.037383   \n",
       "std                    1.227313               0.953622   \n",
       "min                    1.000000               1.000000   \n",
       "25%                    2.000000               1.000000   \n",
       "50%                    3.000000               2.000000   \n",
       "75%                    4.000000               3.000000   \n",
       "max                    5.000000               5.000000   \n",
       "\n",
       "       Tolerates Cold Weather  Tolerates Hot Weather  Wanderlust Potential  \n",
       "count              214.000000             214.000000            214.000000  \n",
       "mean                 3.331776               3.074766              3.443925  \n",
       "std                  1.209206               0.941490              1.208008  \n",
       "min                  1.000000               1.000000              1.000000  \n",
       "25%                  3.000000               3.000000              3.000000  \n",
       "50%                  4.000000               3.000000              4.000000  \n",
       "75%                  4.000000               4.000000              4.000000  \n",
       "max                  5.000000               5.000000              5.000000  \n",
       "\n",
       "[8 rows x 31 columns]"
      ]
     },
     "execution_count": 18,
     "metadata": {},
     "output_type": "execute_result"
    }
   ],
   "source": [
    "dog_descr_df.describe()"
   ]
  },
  {
   "cell_type": "code",
   "execution_count": 19,
   "metadata": {},
   "outputs": [],
   "source": [
    "# Make columns easier to reference in code\n",
    "dog_descr_df.columns = dog_descr_df.columns.str.strip()\n",
    "dog_descr_df.columns = dog_descr_df.columns.str.replace(\" \", \"_\")"
   ]
  },
  {
   "cell_type": "markdown",
   "metadata": {},
   "source": [
    "### Exercise Need - Duplicate"
   ]
  },
  {
   "cell_type": "code",
   "execution_count": 20,
   "metadata": {},
   "outputs": [
    {
     "data": {
      "text/html": [
       "<div>\n",
       "<style scoped>\n",
       "    .dataframe tbody tr th:only-of-type {\n",
       "        vertical-align: middle;\n",
       "    }\n",
       "\n",
       "    .dataframe tbody tr th {\n",
       "        vertical-align: top;\n",
       "    }\n",
       "\n",
       "    .dataframe thead th {\n",
       "        text-align: right;\n",
       "    }\n",
       "</style>\n",
       "<table border=\"1\" class=\"dataframe\">\n",
       "  <thead>\n",
       "    <tr style=\"text-align: right;\">\n",
       "      <th></th>\n",
       "      <th>Exercise_Needs</th>\n",
       "      <th>Exercise_Needs</th>\n",
       "    </tr>\n",
       "  </thead>\n",
       "  <tbody>\n",
       "    <tr>\n",
       "      <th>Affenpinscher</th>\n",
       "      <td>4.0</td>\n",
       "      <td>3.0</td>\n",
       "    </tr>\n",
       "    <tr>\n",
       "      <th>Afghan Hound</th>\n",
       "      <td>4.0</td>\n",
       "      <td>4.0</td>\n",
       "    </tr>\n",
       "    <tr>\n",
       "      <th>Airedale Terrier</th>\n",
       "      <td>5.0</td>\n",
       "      <td>5.0</td>\n",
       "    </tr>\n",
       "    <tr>\n",
       "      <th>Akita</th>\n",
       "      <td>4.0</td>\n",
       "      <td>4.0</td>\n",
       "    </tr>\n",
       "    <tr>\n",
       "      <th>Alaskan Klee Kai</th>\n",
       "      <td>4.0</td>\n",
       "      <td>4.0</td>\n",
       "    </tr>\n",
       "  </tbody>\n",
       "</table>\n",
       "</div>"
      ],
      "text/plain": [
       "                  Exercise_Needs  Exercise_Needs\n",
       "Affenpinscher                4.0             3.0\n",
       "Afghan Hound                 4.0             4.0\n",
       "Airedale Terrier             5.0             5.0\n",
       "Akita                        4.0             4.0\n",
       "Alaskan Klee Kai             4.0             4.0"
      ]
     },
     "execution_count": 20,
     "metadata": {},
     "output_type": "execute_result"
    }
   ],
   "source": [
    "dog_descr_df.Exercise_Needs.head()"
   ]
  },
  {
   "cell_type": "code",
   "execution_count": 21,
   "metadata": {},
   "outputs": [
    {
     "data": {
      "text/html": [
       "<div>\n",
       "<style scoped>\n",
       "    .dataframe tbody tr th:only-of-type {\n",
       "        vertical-align: middle;\n",
       "    }\n",
       "\n",
       "    .dataframe tbody tr th {\n",
       "        vertical-align: top;\n",
       "    }\n",
       "\n",
       "    .dataframe thead th {\n",
       "        text-align: right;\n",
       "    }\n",
       "</style>\n",
       "<table border=\"1\" class=\"dataframe\">\n",
       "  <thead>\n",
       "    <tr style=\"text-align: right;\">\n",
       "      <th></th>\n",
       "      <th>Exercise_Need</th>\n",
       "    </tr>\n",
       "  </thead>\n",
       "  <tbody>\n",
       "    <tr>\n",
       "      <th>Affenpinscher</th>\n",
       "      <td>3.5</td>\n",
       "    </tr>\n",
       "    <tr>\n",
       "      <th>Afghan Hound</th>\n",
       "      <td>4.0</td>\n",
       "    </tr>\n",
       "    <tr>\n",
       "      <th>Airedale Terrier</th>\n",
       "      <td>5.0</td>\n",
       "    </tr>\n",
       "    <tr>\n",
       "      <th>Akita</th>\n",
       "      <td>4.0</td>\n",
       "    </tr>\n",
       "    <tr>\n",
       "      <th>Alaskan Klee Kai</th>\n",
       "      <td>4.0</td>\n",
       "    </tr>\n",
       "  </tbody>\n",
       "</table>\n",
       "</div>"
      ],
      "text/plain": [
       "                  Exercise_Need\n",
       "Affenpinscher               3.5\n",
       "Afghan Hound                4.0\n",
       "Airedale Terrier            5.0\n",
       "Akita                       4.0\n",
       "Alaskan Klee Kai            4.0"
      ]
     },
     "execution_count": 21,
     "metadata": {},
     "output_type": "execute_result"
    }
   ],
   "source": [
    "# Combine two features with same name but different value into one feature\n",
    "exercise_need_cols = dog_descr_df.columns.get_loc(\"Exercise_Needs\").nonzero()  # get column numbers\n",
    "dog_descr_df[\"Exercise_Need\"] = (dog_descr_df.iloc[:,[exercise_need_cols[0][0]]] + \\\n",
    "                                 dog_descr_df.iloc[:,[exercise_need_cols[0][1]]])/2\n",
    "dog_descr_df = dog_descr_df.drop(columns=[\"Exercise_Needs\"])\n",
    "dog_descr_df.loc[:,dog_descr_df.columns.str.contains(\"Exer*\")].head()"
   ]
  },
  {
   "cell_type": "markdown",
   "metadata": {},
   "source": [
    "## Look for Nulls"
   ]
  },
  {
   "cell_type": "code",
   "execution_count": 22,
   "metadata": {},
   "outputs": [
    {
     "data": {
      "text/html": [
       "<div>\n",
       "<style scoped>\n",
       "    .dataframe tbody tr th:only-of-type {\n",
       "        vertical-align: middle;\n",
       "    }\n",
       "\n",
       "    .dataframe tbody tr th {\n",
       "        vertical-align: top;\n",
       "    }\n",
       "\n",
       "    .dataframe thead th {\n",
       "        text-align: right;\n",
       "    }\n",
       "</style>\n",
       "<table border=\"1\" class=\"dataframe\">\n",
       "  <thead>\n",
       "    <tr style=\"text-align: right;\">\n",
       "      <th></th>\n",
       "      <th>Adaptability</th>\n",
       "      <th>All_Around_Friendliness</th>\n",
       "      <th>Health_Grooming</th>\n",
       "      <th>Trainability</th>\n",
       "      <th>Adapts_Well_to_Apartment_Living</th>\n",
       "      <th>Affectionate_with_Family</th>\n",
       "      <th>Amount_Of_Shedding</th>\n",
       "      <th>Dog_Friendly</th>\n",
       "      <th>Drooling_Potential</th>\n",
       "      <th>Easy_To_Groom</th>\n",
       "      <th>...</th>\n",
       "      <th>Potential_For_Weight_Gain</th>\n",
       "      <th>Prey_Drive</th>\n",
       "      <th>Sensitivity_Level</th>\n",
       "      <th>Size</th>\n",
       "      <th>Tendency_To_Bark_Or_Howl</th>\n",
       "      <th>Tolerates_Being_Alone</th>\n",
       "      <th>Tolerates_Cold_Weather</th>\n",
       "      <th>Tolerates_Hot_Weather</th>\n",
       "      <th>Wanderlust_Potential</th>\n",
       "      <th>Exercise_Need</th>\n",
       "    </tr>\n",
       "  </thead>\n",
       "  <tbody>\n",
       "    <tr>\n",
       "      <th>Korean Jindo Dog</th>\n",
       "      <td>NaN</td>\n",
       "      <td>NaN</td>\n",
       "      <td>NaN</td>\n",
       "      <td>NaN</td>\n",
       "      <td>NaN</td>\n",
       "      <td>NaN</td>\n",
       "      <td>NaN</td>\n",
       "      <td>NaN</td>\n",
       "      <td>NaN</td>\n",
       "      <td>NaN</td>\n",
       "      <td>...</td>\n",
       "      <td>NaN</td>\n",
       "      <td>NaN</td>\n",
       "      <td>NaN</td>\n",
       "      <td>NaN</td>\n",
       "      <td>NaN</td>\n",
       "      <td>NaN</td>\n",
       "      <td>NaN</td>\n",
       "      <td>NaN</td>\n",
       "      <td>NaN</td>\n",
       "      <td>NaN</td>\n",
       "    </tr>\n",
       "    <tr>\n",
       "      <th>Xoloitzcuintli</th>\n",
       "      <td>NaN</td>\n",
       "      <td>NaN</td>\n",
       "      <td>NaN</td>\n",
       "      <td>NaN</td>\n",
       "      <td>NaN</td>\n",
       "      <td>NaN</td>\n",
       "      <td>NaN</td>\n",
       "      <td>NaN</td>\n",
       "      <td>NaN</td>\n",
       "      <td>NaN</td>\n",
       "      <td>...</td>\n",
       "      <td>NaN</td>\n",
       "      <td>NaN</td>\n",
       "      <td>NaN</td>\n",
       "      <td>NaN</td>\n",
       "      <td>NaN</td>\n",
       "      <td>NaN</td>\n",
       "      <td>NaN</td>\n",
       "      <td>NaN</td>\n",
       "      <td>NaN</td>\n",
       "      <td>NaN</td>\n",
       "    </tr>\n",
       "  </tbody>\n",
       "</table>\n",
       "<p>2 rows × 30 columns</p>\n",
       "</div>"
      ],
      "text/plain": [
       "                  Adaptability  All_Around_Friendliness  Health_Grooming  \\\n",
       "Korean Jindo Dog           NaN                      NaN              NaN   \n",
       "Xoloitzcuintli             NaN                      NaN              NaN   \n",
       "\n",
       "                  Trainability  Adapts_Well_to_Apartment_Living  \\\n",
       "Korean Jindo Dog           NaN                              NaN   \n",
       "Xoloitzcuintli             NaN                              NaN   \n",
       "\n",
       "                  Affectionate_with_Family  Amount_Of_Shedding  Dog_Friendly  \\\n",
       "Korean Jindo Dog                       NaN                 NaN           NaN   \n",
       "Xoloitzcuintli                         NaN                 NaN           NaN   \n",
       "\n",
       "                  Drooling_Potential  Easy_To_Groom  ...  \\\n",
       "Korean Jindo Dog                 NaN            NaN  ...   \n",
       "Xoloitzcuintli                   NaN            NaN  ...   \n",
       "\n",
       "                  Potential_For_Weight_Gain  Prey_Drive  Sensitivity_Level  \\\n",
       "Korean Jindo Dog                        NaN         NaN                NaN   \n",
       "Xoloitzcuintli                          NaN         NaN                NaN   \n",
       "\n",
       "                  Size  Tendency_To_Bark_Or_Howl  Tolerates_Being_Alone  \\\n",
       "Korean Jindo Dog   NaN                       NaN                    NaN   \n",
       "Xoloitzcuintli     NaN                       NaN                    NaN   \n",
       "\n",
       "                  Tolerates_Cold_Weather  Tolerates_Hot_Weather  \\\n",
       "Korean Jindo Dog                     NaN                    NaN   \n",
       "Xoloitzcuintli                       NaN                    NaN   \n",
       "\n",
       "                  Wanderlust_Potential  Exercise_Need  \n",
       "Korean Jindo Dog                   NaN            NaN  \n",
       "Xoloitzcuintli                     NaN            NaN  \n",
       "\n",
       "[2 rows x 30 columns]"
      ]
     },
     "execution_count": 22,
     "metadata": {},
     "output_type": "execute_result"
    }
   ],
   "source": [
    "dog_descr_df[dog_descr_df.isna().any(axis=1)]"
   ]
  },
  {
   "cell_type": "code",
   "execution_count": 23,
   "metadata": {},
   "outputs": [],
   "source": [
    "# two rows of just null. These are not helpful.\n",
    "dog_descr_df = dog_descr_df.dropna(axis=0)"
   ]
  },
  {
   "cell_type": "markdown",
   "metadata": {},
   "source": [
    "## Feature Selection\n",
    "Before merging these feature into the main dataframe, lets make sure they will all be helpful; highly correlated features won't add anything after the first one."
   ]
  },
  {
   "cell_type": "code",
   "execution_count": 24,
   "metadata": {},
   "outputs": [],
   "source": [
    "dog_desc_corr_df = dog_descr_df.corr()"
   ]
  },
  {
   "cell_type": "code",
   "execution_count": 25,
   "metadata": {},
   "outputs": [
    {
     "data": {
      "image/png": "[encoded data removed]",
      "text/plain": [
       "<Figure size 864x720 with 2 Axes>"
      ]
     },
     "metadata": {},
     "output_type": "display_data"
    }
   ],
   "source": [
    "sns.set_style('darkgrid')\n",
    "plt.figure(figsize=(12,10))\n",
    "sns.heatmap(dog_desc_corr_df);"
   ]
  },
  {
   "cell_type": "code",
   "execution_count": 26,
   "metadata": {},
   "outputs": [
    {
     "name": "stdout",
     "output_type": "stream",
     "text": [
      "All_Around_Friendliness is correlated with: Dog_Friendly at 0.7565146009482395\n",
      "Friendly_Toward_Strangers at 0.7509267951607245\n",
      "Incredibly_Kid_Friendly_Dogs at 0.7605389789255196\n",
      "\n",
      "\n",
      "Dog_Friendly is correlated with: All_Around_Friendliness at 0.7565146009482395\n",
      "\n",
      "\n",
      "Energy_Level is correlated with: Exercise_Need at 0.8029938934844397\n",
      "\n",
      "\n",
      "Friendly_Toward_Strangers is correlated with: All_Around_Friendliness at 0.7509267951607245\n",
      "\n",
      "\n",
      "Incredibly_Kid_Friendly_Dogs is correlated with: All_Around_Friendliness at 0.7605389789255196\n",
      "\n",
      "\n",
      "Exercise_Need is correlated with: Energy_Level at 0.8029938934844397\n",
      "\n",
      "\n"
     ]
    }
   ],
   "source": [
    "#id and remove highly correlated traits to avoid multicolinearity issues in linear reg. models\n",
    "dog_high_corr = dog_desc_corr_df[(dog_desc_corr_df.abs() > .65) & ~(dog_desc_corr_df == 1)]\n",
    "for i, row in dog_high_corr.iterrows():\n",
    "    if row.sum() > 0: \n",
    "        print(\"{} is correlated with: \".format(i), end = '') \n",
    "        for ind, col in row.iteritems():\n",
    "            if ~np.isnan(col):\n",
    "                print(\"{} at {}\".format(ind, col))\n",
    "        print(\"\\n\")\n"
   ]
  },
  {
   "cell_type": "code",
   "execution_count": 27,
   "metadata": {},
   "outputs": [],
   "source": [
    "#These are highly correlated.\n",
    "dog_descr_df = dog_descr_df.drop(columns=[\"Friendly_Toward_Strangers\", \"Incredibly_Kid_Friendly_Dogs\", \"Dog_Friendly\", \"Intensity\",\n",
    "                                         \"Exercise_Need\"])"
   ]
  },
  {
   "cell_type": "markdown",
   "metadata": {},
   "source": [
    "## Feature Augmentation - Combining datasets\n",
    "\n",
    "I will use the numerical features describing breeds to replace an important but difficult to use feature on the main dataset (dog breed) with a set of ordered numerical features. \n"
   ]
  },
  {
   "cell_type": "code",
   "execution_count": 28,
   "metadata": {},
   "outputs": [],
   "source": [
    "pd.set_option('display.max_columns', 500)\n",
    "pd.set_option('max_rows', 100)"
   ]
  },
  {
   "cell_type": "code",
   "execution_count": 29,
   "metadata": {},
   "outputs": [
    {
     "data": {
      "text/plain": [
       "(45366, 34)"
      ]
     },
     "execution_count": 29,
     "metadata": {},
     "output_type": "execute_result"
    }
   ],
   "source": [
    "shelter_inout_df.shape"
   ]
  },
  {
   "cell_type": "code",
   "execution_count": 30,
   "metadata": {
    "scrolled": true
   },
   "outputs": [
    {
     "data": {
      "text/plain": [
       "Pit Bull Mix                 6256\n",
       "Chihuahua Shorthair Mix      4831\n",
       "Labrador Retriever Mix       4789\n",
       "German Shepherd Mix          1950\n",
       "Australian Cattle Dog Mix    1099\n",
       "Name: breed, dtype: int64"
      ]
     },
     "execution_count": 30,
     "metadata": {},
     "output_type": "execute_result"
    }
   ],
   "source": [
    "shelter_inout_df.breed.value_counts().sort_values(ascending=False).head()"
   ]
  },
  {
   "cell_type": "markdown",
   "metadata": {},
   "source": [
    "### Breed Field Cleaning\n",
    "The breed field from the shelter data has a lot of mixes and multiple breeds listed. Lets clean that."
   ]
  },
  {
   "cell_type": "code",
   "execution_count": 31,
   "metadata": {},
   "outputs": [],
   "source": [
    "shelter_inout_df.breed = shelter_inout_df.breed.str.strip()\n",
    "#Breed name shouldn't be split\n",
    "shelter_inout_df.breed = shelter_inout_df.breed.str.replace(r'Black/Tan', 'Black and Tan', regex=False)\n",
    "\n",
    "shelter_inout_df.breed = shelter_inout_df.breed.str.replace(r'(Miniature |Toy |Standard )?Poodle(?=(?:$)|[$\\n \\/])', 'Poodle',\n",
    "                                                            regex=True)  # Not sure if should add a feature for poodle type"
   ]
  },
  {
   "cell_type": "code",
   "execution_count": 32,
   "metadata": {},
   "outputs": [],
   "source": [
    "def replace_abbr(col, old, new, avoid):\n",
    "    search_string = r'{}(?=(?:$)|[\\n \\/])(?!{})'.format(old, avoid) #match old, then nl space or slash, but not avoid\n",
    "    new_col = col.str.replace(search_string, new, regex=True)\n",
    "    return new_col"
   ]
  },
  {
   "cell_type": "code",
   "execution_count": 33,
   "metadata": {},
   "outputs": [],
   "source": [
    "# define breed name changes - Need to match breed dataframe\n",
    "# Pattern is MATCH, REPLACEMENT, AVOID_REPLACING\n",
    "breed_abbr_fixes = [['Terr', 'Terrier', 'ier'],  # added 'ier' to avoid null in lookahead. Not sure why this works.\n",
    "                   ['Eng', 'English', ''],\n",
    "                   ['Port', 'Portuguese', ''],\n",
    "                   ['Span', 'Spaniel', ''],\n",
    "                   ['Pinsch', 'Pinscher', 'er'],  #null in neg lookahead seems to cause problem without 'er'\n",
    "                   ['Catahoula', 'Catahoula Leopard Dog', ' Leopard Dog'],\n",
    "                   ['Rhod', 'Rhodesian', 'Rhod'],\n",
    "                   ['Pit Bull', 'American Pit Bull Terrier', ' Terrier'],\n",
    "                   ['Anatol Shepherd', 'Anatolian Shepherd Dog', ' Dog'],\n",
    "                   ['German Shepherd', 'German Shepherd Dog', ' Dog'],\n",
    "                   ['Black and Tan Hound', 'Black and Tan Coonhound', 'Coon']]\n",
    "for i in breed_abbr_fixes:\n",
    "    uncorrected, corrected, avoid = i\n",
    "    shelter_inout_df.breed = replace_abbr(shelter_inout_df.breed, uncorrected, corrected, avoid)"
   ]
  },
  {
   "cell_type": "code",
   "execution_count": 34,
   "metadata": {
    "scrolled": true
   },
   "outputs": [
    {
     "data": {
      "text/plain": [
       "American Pit Bull Terrier Mix    6425\n",
       "Chihuahua Shorthair Mix          4831\n",
       "Labrador Retriever Mix           4789\n",
       "German Shepherd Dog Mix          1950\n",
       "Australian Cattle Dog Mix        1099\n",
       "Name: breed, dtype: int64"
      ]
     },
     "execution_count": 34,
     "metadata": {},
     "output_type": "execute_result"
    }
   ],
   "source": [
    "#check breeds now in dataset\n",
    "shelter_inout_df.breed.value_counts().sort_values(ascending=False).head()"
   ]
  },
  {
   "cell_type": "code",
   "execution_count": 35,
   "metadata": {},
   "outputs": [],
   "source": [
    "# Func to remove some common descriptors\n",
    "def pull_cat_out(df, colname, category):\n",
    "    df[category] = df[colname].str.contains(r'{}'.format(category), regex=True).astype(int)      \n",
    "    df[colname] = df[colname].str.replace(r'{}'.format(category), '', regex=True)\n",
    "    return df"
   ]
  },
  {
   "cell_type": "code",
   "execution_count": 36,
   "metadata": {},
   "outputs": [],
   "source": [
    "breed_cats = ['Shorthair', 'Longhair', 'Wirehair', 'Rough Coat', 'Mix']\n",
    "for cat_i in breed_cats:\n",
    "    shelter_inout_df = pull_cat_out(shelter_inout_df, \"breed\", cat_i)"
   ]
  },
  {
   "cell_type": "code",
   "execution_count": 37,
   "metadata": {},
   "outputs": [],
   "source": [
    "#reorder columns so i can see column i am using a lot\n",
    "shelter_inout_df = shelter_inout_df.reindex(columns=(['breed'] + list([a for a in shelter_inout_df.columns if a != 'breed']) ))"
   ]
  },
  {
   "cell_type": "code",
   "execution_count": 38,
   "metadata": {},
   "outputs": [],
   "source": [
    "shelter_inout_df.breed = shelter_inout_df.breed.str.strip()"
   ]
  },
  {
   "cell_type": "code",
   "execution_count": 39,
   "metadata": {},
   "outputs": [],
   "source": [
    "# get breed names x & y for x y mix\n",
    "shelter_inout_df[[\"breed\", \"breed2\"]] = shelter_inout_df.breed.str.split(pat=\"/\", expand=True, n=1)"
   ]
  },
  {
   "cell_type": "code",
   "execution_count": 40,
   "metadata": {
    "scrolled": true
   },
   "outputs": [
    {
     "data": {
      "text/plain": [
       "American Pit Bull Terrier    7055\n",
       "Labrador Retriever           6260\n",
       "Chihuahua                    5422\n",
       "German Shepherd Dog          2612\n",
       "Dachshund                    1442\n",
       "Name: breed, dtype: int64"
      ]
     },
     "execution_count": 40,
     "metadata": {},
     "output_type": "execute_result"
    }
   ],
   "source": [
    "shelter_inout_df.breed.value_counts().sort_values(ascending=False).head()"
   ]
  },
  {
   "cell_type": "code",
   "execution_count": 41,
   "metadata": {},
   "outputs": [],
   "source": [
    "# run again after replacing names\n",
    "shelter_inout_df.breed = shelter_inout_df.breed.str.strip()\n",
    "shelter_inout_df.breed2 = shelter_inout_df.breed2.str.strip()"
   ]
  },
  {
   "cell_type": "code",
   "execution_count": 42,
   "metadata": {
    "scrolled": true
   },
   "outputs": [],
   "source": [
    "#Breed names with multiple matches - just the Black/Tan. fixed in cell above now.\n",
    "#NotNeeded shelter_inout_df[shelter_inout_df.breed.str.contains(\"/[\\w\\s]+/\", regex=True)][\"breed\"]"
   ]
  },
  {
   "cell_type": "code",
   "execution_count": 43,
   "metadata": {
    "scrolled": true
   },
   "outputs": [
    {
     "data": {
      "text/plain": [
       "Staffordshire        453\n",
       "Plott Hound          388\n",
       "Chinese Sharpei      236\n",
       "Queensland Heeler    210\n",
       "Collie Smooth        131\n",
       "Name: breed, dtype: int64"
      ]
     },
     "execution_count": 43,
     "metadata": {},
     "output_type": "execute_result"
    }
   ],
   "source": [
    "#lets find which breed names exist in shelter info but not breed info df, and add add fixes to the feature above\n",
    "#This was useful during writing of above code\n",
    "dog_descr_df.index.names = ['breed']  \n",
    "shelter_dog_list_df = pd.DataFrame(pd.concat([shelter_inout_df.breed, shelter_inout_df.breed2], axis=0) \\\n",
    "                                   ).rename(columns={0:\"breed\"})\n",
    "shelter_breed_list_df = pd.merge(left=shelter_dog_list_df, right=dog_descr_df, left_on='breed', right_on=\"breed\", indicator=True,\n",
    "                                  how='outer')\n",
    "shelter_only_breeds_df = shelter_breed_list_df[shelter_breed_list_df._merge == 'left_only']\n",
    "shelter_only_breeds_df[\"breed\"].value_counts().sort_values(ascending=False).head()"
   ]
  },
  {
   "cell_type": "markdown",
   "metadata": {},
   "source": [
    "### Combine DFs"
   ]
  },
  {
   "cell_type": "code",
   "execution_count": 44,
   "metadata": {},
   "outputs": [],
   "source": [
    "#merge dataframes on cleaned breed columns\n",
    "shelter_inout_wbreeds_df = pd.merge(left=shelter_inout_df, right=dog_descr_df, left_on=\"breed\", right_index=True, how='left')"
   ]
  },
  {
   "cell_type": "code",
   "execution_count": 45,
   "metadata": {},
   "outputs": [
    {
     "data": {
      "text/html": [
       "<div>\n",
       "<style scoped>\n",
       "    .dataframe tbody tr th:only-of-type {\n",
       "        vertical-align: middle;\n",
       "    }\n",
       "\n",
       "    .dataframe tbody tr th {\n",
       "        vertical-align: top;\n",
       "    }\n",
       "\n",
       "    .dataframe thead th {\n",
       "        text-align: right;\n",
       "    }\n",
       "</style>\n",
       "<table border=\"1\" class=\"dataframe\">\n",
       "  <thead>\n",
       "    <tr style=\"text-align: right;\">\n",
       "      <th></th>\n",
       "      <th>age_upon_intake_(days)</th>\n",
       "      <th>time_in_shelter_days</th>\n",
       "      <th>Apricot</th>\n",
       "      <th>Black</th>\n",
       "      <th>Blue</th>\n",
       "      <th>Brown</th>\n",
       "      <th>Buff</th>\n",
       "      <th>Chocolate</th>\n",
       "      <th>Cream</th>\n",
       "      <th>Fawn</th>\n",
       "      <th>Gold</th>\n",
       "      <th>Gray</th>\n",
       "      <th>Liver</th>\n",
       "      <th>Orange</th>\n",
       "      <th>Red</th>\n",
       "      <th>Ruddy</th>\n",
       "      <th>Sable</th>\n",
       "      <th>Silver</th>\n",
       "      <th>Tan</th>\n",
       "      <th>Tricolor</th>\n",
       "      <th>White</th>\n",
       "      <th>Yellow</th>\n",
       "      <th>Pink</th>\n",
       "      <th>Tortie</th>\n",
       "      <th>Shorthair</th>\n",
       "      <th>Longhair</th>\n",
       "      <th>Wirehair</th>\n",
       "      <th>Rough Coat</th>\n",
       "      <th>Mix</th>\n",
       "      <th>Adaptability</th>\n",
       "      <th>All_Around_Friendliness</th>\n",
       "      <th>Health_Grooming</th>\n",
       "      <th>Trainability</th>\n",
       "      <th>Adapts_Well_to_Apartment_Living</th>\n",
       "      <th>Affectionate_with_Family</th>\n",
       "      <th>Amount_Of_Shedding</th>\n",
       "      <th>Drooling_Potential</th>\n",
       "      <th>Easy_To_Groom</th>\n",
       "      <th>Easy_To_Train</th>\n",
       "      <th>Energy_Level</th>\n",
       "      <th>General_Health</th>\n",
       "      <th>Good_For_Novice_Owners</th>\n",
       "      <th>Intelligence</th>\n",
       "      <th>Potential_For_Mouthiness</th>\n",
       "      <th>Potential_For_Playfulness</th>\n",
       "      <th>Potential_For_Weight_Gain</th>\n",
       "      <th>Prey_Drive</th>\n",
       "      <th>Sensitivity_Level</th>\n",
       "      <th>Size</th>\n",
       "      <th>Tendency_To_Bark_Or_Howl</th>\n",
       "      <th>Tolerates_Being_Alone</th>\n",
       "      <th>Tolerates_Cold_Weather</th>\n",
       "      <th>Tolerates_Hot_Weather</th>\n",
       "      <th>Wanderlust_Potential</th>\n",
       "    </tr>\n",
       "  </thead>\n",
       "  <tbody>\n",
       "    <tr>\n",
       "      <th>count</th>\n",
       "      <td>45366.000000</td>\n",
       "      <td>45366.000000</td>\n",
       "      <td>45366.000000</td>\n",
       "      <td>45366.000000</td>\n",
       "      <td>45366.000000</td>\n",
       "      <td>45366.000000</td>\n",
       "      <td>45366.000000</td>\n",
       "      <td>45366.000000</td>\n",
       "      <td>45366.000000</td>\n",
       "      <td>45366.000000</td>\n",
       "      <td>45366.000000</td>\n",
       "      <td>45366.000000</td>\n",
       "      <td>45366.000000</td>\n",
       "      <td>45366.000000</td>\n",
       "      <td>45366.000000</td>\n",
       "      <td>45366.000000</td>\n",
       "      <td>45366.000000</td>\n",
       "      <td>45366.000000</td>\n",
       "      <td>45366.000000</td>\n",
       "      <td>45366.000000</td>\n",
       "      <td>45366.000000</td>\n",
       "      <td>45366.000000</td>\n",
       "      <td>45366.000000</td>\n",
       "      <td>45366.000000</td>\n",
       "      <td>45366.000000</td>\n",
       "      <td>45366.000000</td>\n",
       "      <td>45366.000000</td>\n",
       "      <td>45366.000000</td>\n",
       "      <td>45366.000000</td>\n",
       "      <td>42815.000000</td>\n",
       "      <td>42815.000000</td>\n",
       "      <td>42815.000000</td>\n",
       "      <td>42815.000000</td>\n",
       "      <td>42815.000000</td>\n",
       "      <td>42815.000000</td>\n",
       "      <td>42815.000000</td>\n",
       "      <td>42815.000000</td>\n",
       "      <td>42815.000000</td>\n",
       "      <td>42815.000000</td>\n",
       "      <td>42815.000000</td>\n",
       "      <td>42815.000000</td>\n",
       "      <td>42815.000000</td>\n",
       "      <td>42815.000000</td>\n",
       "      <td>42815.000000</td>\n",
       "      <td>42815.000000</td>\n",
       "      <td>42815.000000</td>\n",
       "      <td>42815.000000</td>\n",
       "      <td>42815.000000</td>\n",
       "      <td>42815.000000</td>\n",
       "      <td>42815.000000</td>\n",
       "      <td>42815.000000</td>\n",
       "      <td>42815.000000</td>\n",
       "      <td>42815.000000</td>\n",
       "      <td>42815.000000</td>\n",
       "    </tr>\n",
       "    <tr>\n",
       "      <th>mean</th>\n",
       "      <td>978.326456</td>\n",
       "      <td>15.897242</td>\n",
       "      <td>0.001675</td>\n",
       "      <td>0.344752</td>\n",
       "      <td>0.056276</td>\n",
       "      <td>0.258960</td>\n",
       "      <td>0.014681</td>\n",
       "      <td>0.028832</td>\n",
       "      <td>0.018714</td>\n",
       "      <td>0.013005</td>\n",
       "      <td>0.004365</td>\n",
       "      <td>0.018781</td>\n",
       "      <td>0.001587</td>\n",
       "      <td>0.000882</td>\n",
       "      <td>0.057532</td>\n",
       "      <td>0.000022</td>\n",
       "      <td>0.016422</td>\n",
       "      <td>0.003835</td>\n",
       "      <td>0.203170</td>\n",
       "      <td>0.054071</td>\n",
       "      <td>0.531984</td>\n",
       "      <td>0.016378</td>\n",
       "      <td>0.000088</td>\n",
       "      <td>0.000022</td>\n",
       "      <td>0.140171</td>\n",
       "      <td>0.013975</td>\n",
       "      <td>0.004056</td>\n",
       "      <td>0.000794</td>\n",
       "      <td>0.770908</td>\n",
       "      <td>3.014504</td>\n",
       "      <td>4.145019</td>\n",
       "      <td>3.029966</td>\n",
       "      <td>3.705384</td>\n",
       "      <td>3.091276</td>\n",
       "      <td>4.864113</td>\n",
       "      <td>3.429499</td>\n",
       "      <td>1.587761</td>\n",
       "      <td>4.205092</td>\n",
       "      <td>4.025599</td>\n",
       "      <td>4.171809</td>\n",
       "      <td>3.077052</td>\n",
       "      <td>2.788766</td>\n",
       "      <td>4.287866</td>\n",
       "      <td>3.887913</td>\n",
       "      <td>4.590681</td>\n",
       "      <td>3.531192</td>\n",
       "      <td>3.233259</td>\n",
       "      <td>4.321009</td>\n",
       "      <td>2.732243</td>\n",
       "      <td>3.268364</td>\n",
       "      <td>1.733388</td>\n",
       "      <td>2.580591</td>\n",
       "      <td>2.925844</td>\n",
       "      <td>3.264884</td>\n",
       "    </tr>\n",
       "    <tr>\n",
       "      <th>std</th>\n",
       "      <td>1107.420744</td>\n",
       "      <td>44.430504</td>\n",
       "      <td>0.040896</td>\n",
       "      <td>0.475292</td>\n",
       "      <td>0.230456</td>\n",
       "      <td>0.438069</td>\n",
       "      <td>0.120272</td>\n",
       "      <td>0.167336</td>\n",
       "      <td>0.135516</td>\n",
       "      <td>0.113298</td>\n",
       "      <td>0.065921</td>\n",
       "      <td>0.135751</td>\n",
       "      <td>0.039807</td>\n",
       "      <td>0.029681</td>\n",
       "      <td>0.232859</td>\n",
       "      <td>0.004695</td>\n",
       "      <td>0.127093</td>\n",
       "      <td>0.061813</td>\n",
       "      <td>0.402362</td>\n",
       "      <td>0.226161</td>\n",
       "      <td>0.498981</td>\n",
       "      <td>0.126925</td>\n",
       "      <td>0.009390</td>\n",
       "      <td>0.004695</td>\n",
       "      <td>0.347168</td>\n",
       "      <td>0.117389</td>\n",
       "      <td>0.063557</td>\n",
       "      <td>0.028159</td>\n",
       "      <td>0.420253</td>\n",
       "      <td>0.375538</td>\n",
       "      <td>0.687946</td>\n",
       "      <td>0.717494</td>\n",
       "      <td>0.558940</td>\n",
       "      <td>1.556531</td>\n",
       "      <td>0.405888</td>\n",
       "      <td>1.202147</td>\n",
       "      <td>1.000467</td>\n",
       "      <td>1.312164</td>\n",
       "      <td>1.062906</td>\n",
       "      <td>0.871479</td>\n",
       "      <td>0.985374</td>\n",
       "      <td>1.110405</td>\n",
       "      <td>0.683013</td>\n",
       "      <td>1.144478</td>\n",
       "      <td>0.687184</td>\n",
       "      <td>1.020806</td>\n",
       "      <td>1.006814</td>\n",
       "      <td>0.731414</td>\n",
       "      <td>1.209232</td>\n",
       "      <td>0.965666</td>\n",
       "      <td>0.894145</td>\n",
       "      <td>1.183572</td>\n",
       "      <td>0.792617</td>\n",
       "      <td>1.047801</td>\n",
       "    </tr>\n",
       "    <tr>\n",
       "      <th>min</th>\n",
       "      <td>0.000000</td>\n",
       "      <td>0.000000</td>\n",
       "      <td>0.000000</td>\n",
       "      <td>0.000000</td>\n",
       "      <td>0.000000</td>\n",
       "      <td>0.000000</td>\n",
       "      <td>0.000000</td>\n",
       "      <td>0.000000</td>\n",
       "      <td>0.000000</td>\n",
       "      <td>0.000000</td>\n",
       "      <td>0.000000</td>\n",
       "      <td>0.000000</td>\n",
       "      <td>0.000000</td>\n",
       "      <td>0.000000</td>\n",
       "      <td>0.000000</td>\n",
       "      <td>0.000000</td>\n",
       "      <td>0.000000</td>\n",
       "      <td>0.000000</td>\n",
       "      <td>0.000000</td>\n",
       "      <td>0.000000</td>\n",
       "      <td>0.000000</td>\n",
       "      <td>0.000000</td>\n",
       "      <td>0.000000</td>\n",
       "      <td>0.000000</td>\n",
       "      <td>0.000000</td>\n",
       "      <td>0.000000</td>\n",
       "      <td>0.000000</td>\n",
       "      <td>0.000000</td>\n",
       "      <td>0.000000</td>\n",
       "      <td>2.000000</td>\n",
       "      <td>1.000000</td>\n",
       "      <td>2.000000</td>\n",
       "      <td>2.000000</td>\n",
       "      <td>1.000000</td>\n",
       "      <td>2.000000</td>\n",
       "      <td>1.000000</td>\n",
       "      <td>1.000000</td>\n",
       "      <td>1.000000</td>\n",
       "      <td>1.000000</td>\n",
       "      <td>2.000000</td>\n",
       "      <td>1.000000</td>\n",
       "      <td>1.000000</td>\n",
       "      <td>1.000000</td>\n",
       "      <td>1.000000</td>\n",
       "      <td>1.000000</td>\n",
       "      <td>1.000000</td>\n",
       "      <td>1.000000</td>\n",
       "      <td>2.000000</td>\n",
       "      <td>1.000000</td>\n",
       "      <td>1.000000</td>\n",
       "      <td>1.000000</td>\n",
       "      <td>1.000000</td>\n",
       "      <td>1.000000</td>\n",
       "      <td>1.000000</td>\n",
       "    </tr>\n",
       "    <tr>\n",
       "      <th>25%</th>\n",
       "      <td>270.000000</td>\n",
       "      <td>2.093229</td>\n",
       "      <td>0.000000</td>\n",
       "      <td>0.000000</td>\n",
       "      <td>0.000000</td>\n",
       "      <td>0.000000</td>\n",
       "      <td>0.000000</td>\n",
       "      <td>0.000000</td>\n",
       "      <td>0.000000</td>\n",
       "      <td>0.000000</td>\n",
       "      <td>0.000000</td>\n",
       "      <td>0.000000</td>\n",
       "      <td>0.000000</td>\n",
       "      <td>0.000000</td>\n",
       "      <td>0.000000</td>\n",
       "      <td>0.000000</td>\n",
       "      <td>0.000000</td>\n",
       "      <td>0.000000</td>\n",
       "      <td>0.000000</td>\n",
       "      <td>0.000000</td>\n",
       "      <td>0.000000</td>\n",
       "      <td>0.000000</td>\n",
       "      <td>0.000000</td>\n",
       "      <td>0.000000</td>\n",
       "      <td>0.000000</td>\n",
       "      <td>0.000000</td>\n",
       "      <td>0.000000</td>\n",
       "      <td>0.000000</td>\n",
       "      <td>1.000000</td>\n",
       "      <td>3.000000</td>\n",
       "      <td>4.000000</td>\n",
       "      <td>3.000000</td>\n",
       "      <td>3.000000</td>\n",
       "      <td>2.000000</td>\n",
       "      <td>5.000000</td>\n",
       "      <td>2.000000</td>\n",
       "      <td>1.000000</td>\n",
       "      <td>4.000000</td>\n",
       "      <td>4.000000</td>\n",
       "      <td>3.000000</td>\n",
       "      <td>2.000000</td>\n",
       "      <td>2.000000</td>\n",
       "      <td>4.000000</td>\n",
       "      <td>3.000000</td>\n",
       "      <td>4.000000</td>\n",
       "      <td>3.000000</td>\n",
       "      <td>3.000000</td>\n",
       "      <td>4.000000</td>\n",
       "      <td>1.000000</td>\n",
       "      <td>3.000000</td>\n",
       "      <td>1.000000</td>\n",
       "      <td>2.000000</td>\n",
       "      <td>3.000000</td>\n",
       "      <td>2.000000</td>\n",
       "    </tr>\n",
       "    <tr>\n",
       "      <th>50%</th>\n",
       "      <td>730.000000</td>\n",
       "      <td>5.064583</td>\n",
       "      <td>0.000000</td>\n",
       "      <td>0.000000</td>\n",
       "      <td>0.000000</td>\n",
       "      <td>0.000000</td>\n",
       "      <td>0.000000</td>\n",
       "      <td>0.000000</td>\n",
       "      <td>0.000000</td>\n",
       "      <td>0.000000</td>\n",
       "      <td>0.000000</td>\n",
       "      <td>0.000000</td>\n",
       "      <td>0.000000</td>\n",
       "      <td>0.000000</td>\n",
       "      <td>0.000000</td>\n",
       "      <td>0.000000</td>\n",
       "      <td>0.000000</td>\n",
       "      <td>0.000000</td>\n",
       "      <td>0.000000</td>\n",
       "      <td>0.000000</td>\n",
       "      <td>1.000000</td>\n",
       "      <td>0.000000</td>\n",
       "      <td>0.000000</td>\n",
       "      <td>0.000000</td>\n",
       "      <td>0.000000</td>\n",
       "      <td>0.000000</td>\n",
       "      <td>0.000000</td>\n",
       "      <td>0.000000</td>\n",
       "      <td>1.000000</td>\n",
       "      <td>3.000000</td>\n",
       "      <td>4.000000</td>\n",
       "      <td>3.000000</td>\n",
       "      <td>4.000000</td>\n",
       "      <td>3.000000</td>\n",
       "      <td>5.000000</td>\n",
       "      <td>3.000000</td>\n",
       "      <td>1.000000</td>\n",
       "      <td>5.000000</td>\n",
       "      <td>4.000000</td>\n",
       "      <td>4.000000</td>\n",
       "      <td>3.000000</td>\n",
       "      <td>3.000000</td>\n",
       "      <td>4.000000</td>\n",
       "      <td>4.000000</td>\n",
       "      <td>5.000000</td>\n",
       "      <td>3.000000</td>\n",
       "      <td>3.000000</td>\n",
       "      <td>4.000000</td>\n",
       "      <td>3.000000</td>\n",
       "      <td>3.000000</td>\n",
       "      <td>1.000000</td>\n",
       "      <td>3.000000</td>\n",
       "      <td>3.000000</td>\n",
       "      <td>3.000000</td>\n",
       "    </tr>\n",
       "    <tr>\n",
       "      <th>75%</th>\n",
       "      <td>1460.000000</td>\n",
       "      <td>11.116667</td>\n",
       "      <td>0.000000</td>\n",
       "      <td>1.000000</td>\n",
       "      <td>0.000000</td>\n",
       "      <td>1.000000</td>\n",
       "      <td>0.000000</td>\n",
       "      <td>0.000000</td>\n",
       "      <td>0.000000</td>\n",
       "      <td>0.000000</td>\n",
       "      <td>0.000000</td>\n",
       "      <td>0.000000</td>\n",
       "      <td>0.000000</td>\n",
       "      <td>0.000000</td>\n",
       "      <td>0.000000</td>\n",
       "      <td>0.000000</td>\n",
       "      <td>0.000000</td>\n",
       "      <td>0.000000</td>\n",
       "      <td>0.000000</td>\n",
       "      <td>0.000000</td>\n",
       "      <td>1.000000</td>\n",
       "      <td>0.000000</td>\n",
       "      <td>0.000000</td>\n",
       "      <td>0.000000</td>\n",
       "      <td>0.000000</td>\n",
       "      <td>0.000000</td>\n",
       "      <td>0.000000</td>\n",
       "      <td>0.000000</td>\n",
       "      <td>1.000000</td>\n",
       "      <td>3.000000</td>\n",
       "      <td>5.000000</td>\n",
       "      <td>4.000000</td>\n",
       "      <td>4.000000</td>\n",
       "      <td>5.000000</td>\n",
       "      <td>5.000000</td>\n",
       "      <td>4.000000</td>\n",
       "      <td>2.000000</td>\n",
       "      <td>5.000000</td>\n",
       "      <td>5.000000</td>\n",
       "      <td>5.000000</td>\n",
       "      <td>4.000000</td>\n",
       "      <td>4.000000</td>\n",
       "      <td>5.000000</td>\n",
       "      <td>5.000000</td>\n",
       "      <td>5.000000</td>\n",
       "      <td>4.000000</td>\n",
       "      <td>4.000000</td>\n",
       "      <td>5.000000</td>\n",
       "      <td>4.000000</td>\n",
       "      <td>4.000000</td>\n",
       "      <td>2.000000</td>\n",
       "      <td>4.000000</td>\n",
       "      <td>3.000000</td>\n",
       "      <td>4.000000</td>\n",
       "    </tr>\n",
       "    <tr>\n",
       "      <th>max</th>\n",
       "      <td>7300.000000</td>\n",
       "      <td>1606.194444</td>\n",
       "      <td>1.000000</td>\n",
       "      <td>1.000000</td>\n",
       "      <td>1.000000</td>\n",
       "      <td>1.000000</td>\n",
       "      <td>1.000000</td>\n",
       "      <td>1.000000</td>\n",
       "      <td>1.000000</td>\n",
       "      <td>1.000000</td>\n",
       "      <td>1.000000</td>\n",
       "      <td>1.000000</td>\n",
       "      <td>1.000000</td>\n",
       "      <td>1.000000</td>\n",
       "      <td>1.000000</td>\n",
       "      <td>1.000000</td>\n",
       "      <td>1.000000</td>\n",
       "      <td>1.000000</td>\n",
       "      <td>1.000000</td>\n",
       "      <td>1.000000</td>\n",
       "      <td>1.000000</td>\n",
       "      <td>1.000000</td>\n",
       "      <td>1.000000</td>\n",
       "      <td>1.000000</td>\n",
       "      <td>1.000000</td>\n",
       "      <td>1.000000</td>\n",
       "      <td>1.000000</td>\n",
       "      <td>1.000000</td>\n",
       "      <td>1.000000</td>\n",
       "      <td>4.000000</td>\n",
       "      <td>5.000000</td>\n",
       "      <td>5.000000</td>\n",
       "      <td>5.000000</td>\n",
       "      <td>5.000000</td>\n",
       "      <td>5.000000</td>\n",
       "      <td>5.000000</td>\n",
       "      <td>5.000000</td>\n",
       "      <td>5.000000</td>\n",
       "      <td>5.000000</td>\n",
       "      <td>5.000000</td>\n",
       "      <td>5.000000</td>\n",
       "      <td>5.000000</td>\n",
       "      <td>5.000000</td>\n",
       "      <td>5.000000</td>\n",
       "      <td>5.000000</td>\n",
       "      <td>5.000000</td>\n",
       "      <td>5.000000</td>\n",
       "      <td>5.000000</td>\n",
       "      <td>5.000000</td>\n",
       "      <td>5.000000</td>\n",
       "      <td>5.000000</td>\n",
       "      <td>5.000000</td>\n",
       "      <td>5.000000</td>\n",
       "      <td>5.000000</td>\n",
       "    </tr>\n",
       "  </tbody>\n",
       "</table>\n",
       "</div>"
      ],
      "text/plain": [
       "       age_upon_intake_(days)  time_in_shelter_days       Apricot  \\\n",
       "count            45366.000000          45366.000000  45366.000000   \n",
       "mean               978.326456             15.897242      0.001675   \n",
       "std               1107.420744             44.430504      0.040896   \n",
       "min                  0.000000              0.000000      0.000000   \n",
       "25%                270.000000              2.093229      0.000000   \n",
       "50%                730.000000              5.064583      0.000000   \n",
       "75%               1460.000000             11.116667      0.000000   \n",
       "max               7300.000000           1606.194444      1.000000   \n",
       "\n",
       "              Black          Blue         Brown          Buff     Chocolate  \\\n",
       "count  45366.000000  45366.000000  45366.000000  45366.000000  45366.000000   \n",
       "mean       0.344752      0.056276      0.258960      0.014681      0.028832   \n",
       "std        0.475292      0.230456      0.438069      0.120272      0.167336   \n",
       "min        0.000000      0.000000      0.000000      0.000000      0.000000   \n",
       "25%        0.000000      0.000000      0.000000      0.000000      0.000000   \n",
       "50%        0.000000      0.000000      0.000000      0.000000      0.000000   \n",
       "75%        1.000000      0.000000      1.000000      0.000000      0.000000   \n",
       "max        1.000000      1.000000      1.000000      1.000000      1.000000   \n",
       "\n",
       "              Cream          Fawn          Gold          Gray         Liver  \\\n",
       "count  45366.000000  45366.000000  45366.000000  45366.000000  45366.000000   \n",
       "mean       0.018714      0.013005      0.004365      0.018781      0.001587   \n",
       "std        0.135516      0.113298      0.065921      0.135751      0.039807   \n",
       "min        0.000000      0.000000      0.000000      0.000000      0.000000   \n",
       "25%        0.000000      0.000000      0.000000      0.000000      0.000000   \n",
       "50%        0.000000      0.000000      0.000000      0.000000      0.000000   \n",
       "75%        0.000000      0.000000      0.000000      0.000000      0.000000   \n",
       "max        1.000000      1.000000      1.000000      1.000000      1.000000   \n",
       "\n",
       "             Orange           Red         Ruddy         Sable        Silver  \\\n",
       "count  45366.000000  45366.000000  45366.000000  45366.000000  45366.000000   \n",
       "mean       0.000882      0.057532      0.000022      0.016422      0.003835   \n",
       "std        0.029681      0.232859      0.004695      0.127093      0.061813   \n",
       "min        0.000000      0.000000      0.000000      0.000000      0.000000   \n",
       "25%        0.000000      0.000000      0.000000      0.000000      0.000000   \n",
       "50%        0.000000      0.000000      0.000000      0.000000      0.000000   \n",
       "75%        0.000000      0.000000      0.000000      0.000000      0.000000   \n",
       "max        1.000000      1.000000      1.000000      1.000000      1.000000   \n",
       "\n",
       "                Tan      Tricolor         White        Yellow          Pink  \\\n",
       "count  45366.000000  45366.000000  45366.000000  45366.000000  45366.000000   \n",
       "mean       0.203170      0.054071      0.531984      0.016378      0.000088   \n",
       "std        0.402362      0.226161      0.498981      0.126925      0.009390   \n",
       "min        0.000000      0.000000      0.000000      0.000000      0.000000   \n",
       "25%        0.000000      0.000000      0.000000      0.000000      0.000000   \n",
       "50%        0.000000      0.000000      1.000000      0.000000      0.000000   \n",
       "75%        0.000000      0.000000      1.000000      0.000000      0.000000   \n",
       "max        1.000000      1.000000      1.000000      1.000000      1.000000   \n",
       "\n",
       "             Tortie     Shorthair      Longhair      Wirehair    Rough Coat  \\\n",
       "count  45366.000000  45366.000000  45366.000000  45366.000000  45366.000000   \n",
       "mean       0.000022      0.140171      0.013975      0.004056      0.000794   \n",
       "std        0.004695      0.347168      0.117389      0.063557      0.028159   \n",
       "min        0.000000      0.000000      0.000000      0.000000      0.000000   \n",
       "25%        0.000000      0.000000      0.000000      0.000000      0.000000   \n",
       "50%        0.000000      0.000000      0.000000      0.000000      0.000000   \n",
       "75%        0.000000      0.000000      0.000000      0.000000      0.000000   \n",
       "max        1.000000      1.000000      1.000000      1.000000      1.000000   \n",
       "\n",
       "                Mix  Adaptability  All_Around_Friendliness  Health_Grooming  \\\n",
       "count  45366.000000  42815.000000             42815.000000     42815.000000   \n",
       "mean       0.770908      3.014504                 4.145019         3.029966   \n",
       "std        0.420253      0.375538                 0.687946         0.717494   \n",
       "min        0.000000      2.000000                 1.000000         2.000000   \n",
       "25%        1.000000      3.000000                 4.000000         3.000000   \n",
       "50%        1.000000      3.000000                 4.000000         3.000000   \n",
       "75%        1.000000      3.000000                 5.000000         4.000000   \n",
       "max        1.000000      4.000000                 5.000000         5.000000   \n",
       "\n",
       "       Trainability  Adapts_Well_to_Apartment_Living  \\\n",
       "count  42815.000000                     42815.000000   \n",
       "mean       3.705384                         3.091276   \n",
       "std        0.558940                         1.556531   \n",
       "min        2.000000                         1.000000   \n",
       "25%        3.000000                         2.000000   \n",
       "50%        4.000000                         3.000000   \n",
       "75%        4.000000                         5.000000   \n",
       "max        5.000000                         5.000000   \n",
       "\n",
       "       Affectionate_with_Family  Amount_Of_Shedding  Drooling_Potential  \\\n",
       "count              42815.000000        42815.000000        42815.000000   \n",
       "mean                   4.864113            3.429499            1.587761   \n",
       "std                    0.405888            1.202147            1.000467   \n",
       "min                    2.000000            1.000000            1.000000   \n",
       "25%                    5.000000            2.000000            1.000000   \n",
       "50%                    5.000000            3.000000            1.000000   \n",
       "75%                    5.000000            4.000000            2.000000   \n",
       "max                    5.000000            5.000000            5.000000   \n",
       "\n",
       "       Easy_To_Groom  Easy_To_Train  Energy_Level  General_Health  \\\n",
       "count   42815.000000   42815.000000  42815.000000    42815.000000   \n",
       "mean        4.205092       4.025599      4.171809        3.077052   \n",
       "std         1.312164       1.062906      0.871479        0.985374   \n",
       "min         1.000000       1.000000      2.000000        1.000000   \n",
       "25%         4.000000       4.000000      3.000000        2.000000   \n",
       "50%         5.000000       4.000000      4.000000        3.000000   \n",
       "75%         5.000000       5.000000      5.000000        4.000000   \n",
       "max         5.000000       5.000000      5.000000        5.000000   \n",
       "\n",
       "       Good_For_Novice_Owners  Intelligence  Potential_For_Mouthiness  \\\n",
       "count            42815.000000  42815.000000              42815.000000   \n",
       "mean                 2.788766      4.287866                  3.887913   \n",
       "std                  1.110405      0.683013                  1.144478   \n",
       "min                  1.000000      1.000000                  1.000000   \n",
       "25%                  2.000000      4.000000                  3.000000   \n",
       "50%                  3.000000      4.000000                  4.000000   \n",
       "75%                  4.000000      5.000000                  5.000000   \n",
       "max                  5.000000      5.000000                  5.000000   \n",
       "\n",
       "       Potential_For_Playfulness  Potential_For_Weight_Gain    Prey_Drive  \\\n",
       "count               42815.000000               42815.000000  42815.000000   \n",
       "mean                    4.590681                   3.531192      3.233259   \n",
       "std                     0.687184                   1.020806      1.006814   \n",
       "min                     1.000000                   1.000000      1.000000   \n",
       "25%                     4.000000                   3.000000      3.000000   \n",
       "50%                     5.000000                   3.000000      3.000000   \n",
       "75%                     5.000000                   4.000000      4.000000   \n",
       "max                     5.000000                   5.000000      5.000000   \n",
       "\n",
       "       Sensitivity_Level          Size  Tendency_To_Bark_Or_Howl  \\\n",
       "count       42815.000000  42815.000000              42815.000000   \n",
       "mean            4.321009      2.732243                  3.268364   \n",
       "std             0.731414      1.209232                  0.965666   \n",
       "min             2.000000      1.000000                  1.000000   \n",
       "25%             4.000000      1.000000                  3.000000   \n",
       "50%             4.000000      3.000000                  3.000000   \n",
       "75%             5.000000      4.000000                  4.000000   \n",
       "max             5.000000      5.000000                  5.000000   \n",
       "\n",
       "       Tolerates_Being_Alone  Tolerates_Cold_Weather  Tolerates_Hot_Weather  \\\n",
       "count           42815.000000            42815.000000           42815.000000   \n",
       "mean                1.733388                2.580591               2.925844   \n",
       "std                 0.894145                1.183572               0.792617   \n",
       "min                 1.000000                1.000000               1.000000   \n",
       "25%                 1.000000                2.000000               3.000000   \n",
       "50%                 1.000000                3.000000               3.000000   \n",
       "75%                 2.000000                4.000000               3.000000   \n",
       "max                 5.000000                5.000000               5.000000   \n",
       "\n",
       "       Wanderlust_Potential  \n",
       "count          42815.000000  \n",
       "mean               3.264884  \n",
       "std                1.047801  \n",
       "min                1.000000  \n",
       "25%                2.000000  \n",
       "50%                3.000000  \n",
       "75%                4.000000  \n",
       "max                5.000000  "
      ]
     },
     "execution_count": 45,
     "metadata": {},
     "output_type": "execute_result"
    }
   ],
   "source": [
    "shelter_inout_wbreeds_df.describe()"
   ]
  },
  {
   "cell_type": "code",
   "execution_count": 46,
   "metadata": {},
   "outputs": [
    {
     "data": {
      "text/plain": [
       "(42815, 65)"
      ]
     },
     "execution_count": 46,
     "metadata": {},
     "output_type": "execute_result"
    }
   ],
   "source": [
    "#check for nulls on merged fields\n",
    "shelter_inout_wbreeds_df[shelter_inout_wbreeds_df.Adaptability.notna()].shape"
   ]
  },
  {
   "cell_type": "code",
   "execution_count": 47,
   "metadata": {},
   "outputs": [
    {
     "data": {
      "text/plain": [
       "(2551, 65)"
      ]
     },
     "execution_count": 47,
     "metadata": {},
     "output_type": "execute_result"
    }
   ],
   "source": [
    "shelter_inout_wbreeds_df[shelter_inout_wbreeds_df.Adaptability.isna()].shape"
   ]
  },
  {
   "cell_type": "markdown",
   "metadata": {},
   "source": [
    "### Deal with new nulls\n",
    "I already know that there are no nulls in the dog desc DF, so nulls in any field from there will show all new nulls I introduced with the merge."
   ]
  },
  {
   "cell_type": "code",
   "execution_count": 48,
   "metadata": {},
   "outputs": [
    {
     "data": {
      "text/html": [
       "<div>\n",
       "<style scoped>\n",
       "    .dataframe tbody tr th:only-of-type {\n",
       "        vertical-align: middle;\n",
       "    }\n",
       "\n",
       "    .dataframe tbody tr th {\n",
       "        vertical-align: top;\n",
       "    }\n",
       "\n",
       "    .dataframe thead th {\n",
       "        text-align: right;\n",
       "    }\n",
       "</style>\n",
       "<table border=\"1\" class=\"dataframe\">\n",
       "  <thead>\n",
       "    <tr style=\"text-align: right;\">\n",
       "      <th></th>\n",
       "      <th>breed</th>\n",
       "      <th>outcome_type</th>\n",
       "      <th>sex_upon_outcome</th>\n",
       "      <th>intake_condition</th>\n",
       "      <th>intake_type</th>\n",
       "      <th>sex_upon_intake</th>\n",
       "      <th>age_upon_intake_(days)</th>\n",
       "      <th>intake_datetime</th>\n",
       "      <th>intake_weekday</th>\n",
       "      <th>time_in_shelter_days</th>\n",
       "      <th>color_type</th>\n",
       "      <th>color_type2</th>\n",
       "      <th>Apricot</th>\n",
       "      <th>Black</th>\n",
       "      <th>Blue</th>\n",
       "      <th>Brown</th>\n",
       "      <th>Buff</th>\n",
       "      <th>Chocolate</th>\n",
       "      <th>Cream</th>\n",
       "      <th>Fawn</th>\n",
       "      <th>Gold</th>\n",
       "      <th>Gray</th>\n",
       "      <th>Liver</th>\n",
       "      <th>Orange</th>\n",
       "      <th>Red</th>\n",
       "      <th>Ruddy</th>\n",
       "      <th>Sable</th>\n",
       "      <th>Silver</th>\n",
       "      <th>Tan</th>\n",
       "      <th>Tricolor</th>\n",
       "      <th>White</th>\n",
       "      <th>Yellow</th>\n",
       "      <th>Pink</th>\n",
       "      <th>Tortie</th>\n",
       "      <th>Shorthair</th>\n",
       "      <th>Longhair</th>\n",
       "      <th>Wirehair</th>\n",
       "      <th>Rough Coat</th>\n",
       "      <th>Mix</th>\n",
       "      <th>breed2</th>\n",
       "      <th>Adaptability</th>\n",
       "      <th>All_Around_Friendliness</th>\n",
       "      <th>Health_Grooming</th>\n",
       "      <th>Trainability</th>\n",
       "      <th>Adapts_Well_to_Apartment_Living</th>\n",
       "      <th>Affectionate_with_Family</th>\n",
       "      <th>Amount_Of_Shedding</th>\n",
       "      <th>Drooling_Potential</th>\n",
       "      <th>Easy_To_Groom</th>\n",
       "      <th>Easy_To_Train</th>\n",
       "      <th>Energy_Level</th>\n",
       "      <th>General_Health</th>\n",
       "      <th>Good_For_Novice_Owners</th>\n",
       "      <th>Intelligence</th>\n",
       "      <th>Potential_For_Mouthiness</th>\n",
       "      <th>Potential_For_Playfulness</th>\n",
       "      <th>Potential_For_Weight_Gain</th>\n",
       "      <th>Prey_Drive</th>\n",
       "      <th>Sensitivity_Level</th>\n",
       "      <th>Size</th>\n",
       "      <th>Tendency_To_Bark_Or_Howl</th>\n",
       "      <th>Tolerates_Being_Alone</th>\n",
       "      <th>Tolerates_Cold_Weather</th>\n",
       "      <th>Tolerates_Hot_Weather</th>\n",
       "      <th>Wanderlust_Potential</th>\n",
       "    </tr>\n",
       "  </thead>\n",
       "  <tbody>\n",
       "    <tr>\n",
       "      <th>0</th>\n",
       "      <td>Spinone Italiano</td>\n",
       "      <td>Return to Owner</td>\n",
       "      <td>Neutered Male</td>\n",
       "      <td>Normal</td>\n",
       "      <td>Stray</td>\n",
       "      <td>Neutered Male</td>\n",
       "      <td>3650</td>\n",
       "      <td>2017-12-07 00:00:00</td>\n",
       "      <td>Thursday</td>\n",
       "      <td>0.588194</td>\n",
       "      <td>None</td>\n",
       "      <td>None</td>\n",
       "      <td>0</td>\n",
       "      <td>0</td>\n",
       "      <td>0</td>\n",
       "      <td>0</td>\n",
       "      <td>0</td>\n",
       "      <td>0</td>\n",
       "      <td>0</td>\n",
       "      <td>0</td>\n",
       "      <td>0</td>\n",
       "      <td>0</td>\n",
       "      <td>0</td>\n",
       "      <td>0</td>\n",
       "      <td>0</td>\n",
       "      <td>0</td>\n",
       "      <td>0</td>\n",
       "      <td>0</td>\n",
       "      <td>0</td>\n",
       "      <td>0</td>\n",
       "      <td>1</td>\n",
       "      <td>1</td>\n",
       "      <td>0</td>\n",
       "      <td>0</td>\n",
       "      <td>0</td>\n",
       "      <td>0</td>\n",
       "      <td>0</td>\n",
       "      <td>0</td>\n",
       "      <td>1</td>\n",
       "      <td>None</td>\n",
       "      <td>NaN</td>\n",
       "      <td>NaN</td>\n",
       "      <td>NaN</td>\n",
       "      <td>NaN</td>\n",
       "      <td>NaN</td>\n",
       "      <td>NaN</td>\n",
       "      <td>NaN</td>\n",
       "      <td>NaN</td>\n",
       "      <td>NaN</td>\n",
       "      <td>NaN</td>\n",
       "      <td>NaN</td>\n",
       "      <td>NaN</td>\n",
       "      <td>NaN</td>\n",
       "      <td>NaN</td>\n",
       "      <td>NaN</td>\n",
       "      <td>NaN</td>\n",
       "      <td>NaN</td>\n",
       "      <td>NaN</td>\n",
       "      <td>NaN</td>\n",
       "      <td>NaN</td>\n",
       "      <td>NaN</td>\n",
       "      <td>NaN</td>\n",
       "      <td>NaN</td>\n",
       "      <td>NaN</td>\n",
       "      <td>NaN</td>\n",
       "    </tr>\n",
       "    <tr>\n",
       "      <th>1</th>\n",
       "      <td>Spinone Italiano</td>\n",
       "      <td>Return to Owner</td>\n",
       "      <td>Neutered Male</td>\n",
       "      <td>Normal</td>\n",
       "      <td>Public Assist</td>\n",
       "      <td>Neutered Male</td>\n",
       "      <td>2555</td>\n",
       "      <td>2014-12-19 10:21:00</td>\n",
       "      <td>Friday</td>\n",
       "      <td>1.259722</td>\n",
       "      <td>None</td>\n",
       "      <td>None</td>\n",
       "      <td>0</td>\n",
       "      <td>0</td>\n",
       "      <td>0</td>\n",
       "      <td>0</td>\n",
       "      <td>0</td>\n",
       "      <td>0</td>\n",
       "      <td>0</td>\n",
       "      <td>0</td>\n",
       "      <td>0</td>\n",
       "      <td>0</td>\n",
       "      <td>0</td>\n",
       "      <td>0</td>\n",
       "      <td>0</td>\n",
       "      <td>0</td>\n",
       "      <td>0</td>\n",
       "      <td>0</td>\n",
       "      <td>0</td>\n",
       "      <td>0</td>\n",
       "      <td>1</td>\n",
       "      <td>1</td>\n",
       "      <td>0</td>\n",
       "      <td>0</td>\n",
       "      <td>0</td>\n",
       "      <td>0</td>\n",
       "      <td>0</td>\n",
       "      <td>0</td>\n",
       "      <td>1</td>\n",
       "      <td>None</td>\n",
       "      <td>NaN</td>\n",
       "      <td>NaN</td>\n",
       "      <td>NaN</td>\n",
       "      <td>NaN</td>\n",
       "      <td>NaN</td>\n",
       "      <td>NaN</td>\n",
       "      <td>NaN</td>\n",
       "      <td>NaN</td>\n",
       "      <td>NaN</td>\n",
       "      <td>NaN</td>\n",
       "      <td>NaN</td>\n",
       "      <td>NaN</td>\n",
       "      <td>NaN</td>\n",
       "      <td>NaN</td>\n",
       "      <td>NaN</td>\n",
       "      <td>NaN</td>\n",
       "      <td>NaN</td>\n",
       "      <td>NaN</td>\n",
       "      <td>NaN</td>\n",
       "      <td>NaN</td>\n",
       "      <td>NaN</td>\n",
       "      <td>NaN</td>\n",
       "      <td>NaN</td>\n",
       "      <td>NaN</td>\n",
       "      <td>NaN</td>\n",
       "    </tr>\n",
       "    <tr>\n",
       "      <th>2</th>\n",
       "      <td>Spinone Italiano</td>\n",
       "      <td>Return to Owner</td>\n",
       "      <td>Neutered Male</td>\n",
       "      <td>Normal</td>\n",
       "      <td>Public Assist</td>\n",
       "      <td>Neutered Male</td>\n",
       "      <td>2190</td>\n",
       "      <td>2014-03-07 14:26:00</td>\n",
       "      <td>Friday</td>\n",
       "      <td>1.113889</td>\n",
       "      <td>None</td>\n",
       "      <td>None</td>\n",
       "      <td>0</td>\n",
       "      <td>0</td>\n",
       "      <td>0</td>\n",
       "      <td>0</td>\n",
       "      <td>0</td>\n",
       "      <td>0</td>\n",
       "      <td>0</td>\n",
       "      <td>0</td>\n",
       "      <td>0</td>\n",
       "      <td>0</td>\n",
       "      <td>0</td>\n",
       "      <td>0</td>\n",
       "      <td>0</td>\n",
       "      <td>0</td>\n",
       "      <td>0</td>\n",
       "      <td>0</td>\n",
       "      <td>0</td>\n",
       "      <td>0</td>\n",
       "      <td>1</td>\n",
       "      <td>1</td>\n",
       "      <td>0</td>\n",
       "      <td>0</td>\n",
       "      <td>0</td>\n",
       "      <td>0</td>\n",
       "      <td>0</td>\n",
       "      <td>0</td>\n",
       "      <td>1</td>\n",
       "      <td>None</td>\n",
       "      <td>NaN</td>\n",
       "      <td>NaN</td>\n",
       "      <td>NaN</td>\n",
       "      <td>NaN</td>\n",
       "      <td>NaN</td>\n",
       "      <td>NaN</td>\n",
       "      <td>NaN</td>\n",
       "      <td>NaN</td>\n",
       "      <td>NaN</td>\n",
       "      <td>NaN</td>\n",
       "      <td>NaN</td>\n",
       "      <td>NaN</td>\n",
       "      <td>NaN</td>\n",
       "      <td>NaN</td>\n",
       "      <td>NaN</td>\n",
       "      <td>NaN</td>\n",
       "      <td>NaN</td>\n",
       "      <td>NaN</td>\n",
       "      <td>NaN</td>\n",
       "      <td>NaN</td>\n",
       "      <td>NaN</td>\n",
       "      <td>NaN</td>\n",
       "      <td>NaN</td>\n",
       "      <td>NaN</td>\n",
       "      <td>NaN</td>\n",
       "    </tr>\n",
       "    <tr>\n",
       "      <th>20</th>\n",
       "      <td>Staffordshire</td>\n",
       "      <td>Euthanasia</td>\n",
       "      <td>Spayed Female</td>\n",
       "      <td>Injured</td>\n",
       "      <td>Stray</td>\n",
       "      <td>Spayed Female</td>\n",
       "      <td>5840</td>\n",
       "      <td>2015-04-28 15:08:00</td>\n",
       "      <td>Tuesday</td>\n",
       "      <td>0.940278</td>\n",
       "      <td>None</td>\n",
       "      <td>None</td>\n",
       "      <td>0</td>\n",
       "      <td>0</td>\n",
       "      <td>0</td>\n",
       "      <td>1</td>\n",
       "      <td>0</td>\n",
       "      <td>0</td>\n",
       "      <td>0</td>\n",
       "      <td>0</td>\n",
       "      <td>0</td>\n",
       "      <td>0</td>\n",
       "      <td>0</td>\n",
       "      <td>0</td>\n",
       "      <td>0</td>\n",
       "      <td>0</td>\n",
       "      <td>0</td>\n",
       "      <td>0</td>\n",
       "      <td>0</td>\n",
       "      <td>0</td>\n",
       "      <td>1</td>\n",
       "      <td>0</td>\n",
       "      <td>0</td>\n",
       "      <td>0</td>\n",
       "      <td>0</td>\n",
       "      <td>0</td>\n",
       "      <td>0</td>\n",
       "      <td>0</td>\n",
       "      <td>1</td>\n",
       "      <td>None</td>\n",
       "      <td>NaN</td>\n",
       "      <td>NaN</td>\n",
       "      <td>NaN</td>\n",
       "      <td>NaN</td>\n",
       "      <td>NaN</td>\n",
       "      <td>NaN</td>\n",
       "      <td>NaN</td>\n",
       "      <td>NaN</td>\n",
       "      <td>NaN</td>\n",
       "      <td>NaN</td>\n",
       "      <td>NaN</td>\n",
       "      <td>NaN</td>\n",
       "      <td>NaN</td>\n",
       "      <td>NaN</td>\n",
       "      <td>NaN</td>\n",
       "      <td>NaN</td>\n",
       "      <td>NaN</td>\n",
       "      <td>NaN</td>\n",
       "      <td>NaN</td>\n",
       "      <td>NaN</td>\n",
       "      <td>NaN</td>\n",
       "      <td>NaN</td>\n",
       "      <td>NaN</td>\n",
       "      <td>NaN</td>\n",
       "      <td>NaN</td>\n",
       "    </tr>\n",
       "    <tr>\n",
       "      <th>24</th>\n",
       "      <td>Queensland Heeler</td>\n",
       "      <td>Euthanasia</td>\n",
       "      <td>Intact Male</td>\n",
       "      <td>Aged</td>\n",
       "      <td>Euthanasia Request</td>\n",
       "      <td>Intact Male</td>\n",
       "      <td>4745</td>\n",
       "      <td>2015-03-13 15:20:00</td>\n",
       "      <td>Friday</td>\n",
       "      <td>0.070139</td>\n",
       "      <td>Merle</td>\n",
       "      <td>None</td>\n",
       "      <td>0</td>\n",
       "      <td>0</td>\n",
       "      <td>1</td>\n",
       "      <td>0</td>\n",
       "      <td>0</td>\n",
       "      <td>0</td>\n",
       "      <td>0</td>\n",
       "      <td>0</td>\n",
       "      <td>0</td>\n",
       "      <td>0</td>\n",
       "      <td>0</td>\n",
       "      <td>0</td>\n",
       "      <td>0</td>\n",
       "      <td>0</td>\n",
       "      <td>0</td>\n",
       "      <td>0</td>\n",
       "      <td>0</td>\n",
       "      <td>0</td>\n",
       "      <td>0</td>\n",
       "      <td>0</td>\n",
       "      <td>0</td>\n",
       "      <td>0</td>\n",
       "      <td>0</td>\n",
       "      <td>0</td>\n",
       "      <td>0</td>\n",
       "      <td>0</td>\n",
       "      <td>0</td>\n",
       "      <td>None</td>\n",
       "      <td>NaN</td>\n",
       "      <td>NaN</td>\n",
       "      <td>NaN</td>\n",
       "      <td>NaN</td>\n",
       "      <td>NaN</td>\n",
       "      <td>NaN</td>\n",
       "      <td>NaN</td>\n",
       "      <td>NaN</td>\n",
       "      <td>NaN</td>\n",
       "      <td>NaN</td>\n",
       "      <td>NaN</td>\n",
       "      <td>NaN</td>\n",
       "      <td>NaN</td>\n",
       "      <td>NaN</td>\n",
       "      <td>NaN</td>\n",
       "      <td>NaN</td>\n",
       "      <td>NaN</td>\n",
       "      <td>NaN</td>\n",
       "      <td>NaN</td>\n",
       "      <td>NaN</td>\n",
       "      <td>NaN</td>\n",
       "      <td>NaN</td>\n",
       "      <td>NaN</td>\n",
       "      <td>NaN</td>\n",
       "      <td>NaN</td>\n",
       "    </tr>\n",
       "  </tbody>\n",
       "</table>\n",
       "</div>"
      ],
      "text/plain": [
       "                breed     outcome_type sex_upon_outcome intake_condition  \\\n",
       "0    Spinone Italiano  Return to Owner    Neutered Male           Normal   \n",
       "1    Spinone Italiano  Return to Owner    Neutered Male           Normal   \n",
       "2    Spinone Italiano  Return to Owner    Neutered Male           Normal   \n",
       "20      Staffordshire       Euthanasia    Spayed Female          Injured   \n",
       "24  Queensland Heeler       Euthanasia      Intact Male             Aged   \n",
       "\n",
       "           intake_type sex_upon_intake  age_upon_intake_(days)  \\\n",
       "0                Stray   Neutered Male                    3650   \n",
       "1        Public Assist   Neutered Male                    2555   \n",
       "2        Public Assist   Neutered Male                    2190   \n",
       "20               Stray   Spayed Female                    5840   \n",
       "24  Euthanasia Request     Intact Male                    4745   \n",
       "\n",
       "        intake_datetime intake_weekday  time_in_shelter_days color_type  \\\n",
       "0   2017-12-07 00:00:00       Thursday              0.588194       None   \n",
       "1   2014-12-19 10:21:00         Friday              1.259722       None   \n",
       "2   2014-03-07 14:26:00         Friday              1.113889       None   \n",
       "20  2015-04-28 15:08:00        Tuesday              0.940278       None   \n",
       "24  2015-03-13 15:20:00         Friday              0.070139      Merle   \n",
       "\n",
       "   color_type2  Apricot  Black  Blue  Brown  Buff  Chocolate  Cream  Fawn  \\\n",
       "0         None        0      0     0      0     0          0      0     0   \n",
       "1         None        0      0     0      0     0          0      0     0   \n",
       "2         None        0      0     0      0     0          0      0     0   \n",
       "20        None        0      0     0      1     0          0      0     0   \n",
       "24        None        0      0     1      0     0          0      0     0   \n",
       "\n",
       "    Gold  Gray  Liver  Orange  Red  Ruddy  Sable  Silver  Tan  Tricolor  \\\n",
       "0      0     0      0       0    0      0      0       0    0         0   \n",
       "1      0     0      0       0    0      0      0       0    0         0   \n",
       "2      0     0      0       0    0      0      0       0    0         0   \n",
       "20     0     0      0       0    0      0      0       0    0         0   \n",
       "24     0     0      0       0    0      0      0       0    0         0   \n",
       "\n",
       "    White  Yellow  Pink  Tortie  Shorthair  Longhair  Wirehair  Rough Coat  \\\n",
       "0       1       1     0       0          0         0         0           0   \n",
       "1       1       1     0       0          0         0         0           0   \n",
       "2       1       1     0       0          0         0         0           0   \n",
       "20      1       0     0       0          0         0         0           0   \n",
       "24      0       0     0       0          0         0         0           0   \n",
       "\n",
       "    Mix breed2  Adaptability  All_Around_Friendliness  Health_Grooming  \\\n",
       "0     1   None           NaN                      NaN              NaN   \n",
       "1     1   None           NaN                      NaN              NaN   \n",
       "2     1   None           NaN                      NaN              NaN   \n",
       "20    1   None           NaN                      NaN              NaN   \n",
       "24    0   None           NaN                      NaN              NaN   \n",
       "\n",
       "    Trainability  Adapts_Well_to_Apartment_Living  Affectionate_with_Family  \\\n",
       "0            NaN                              NaN                       NaN   \n",
       "1            NaN                              NaN                       NaN   \n",
       "2            NaN                              NaN                       NaN   \n",
       "20           NaN                              NaN                       NaN   \n",
       "24           NaN                              NaN                       NaN   \n",
       "\n",
       "    Amount_Of_Shedding  Drooling_Potential  Easy_To_Groom  Easy_To_Train  \\\n",
       "0                  NaN                 NaN            NaN            NaN   \n",
       "1                  NaN                 NaN            NaN            NaN   \n",
       "2                  NaN                 NaN            NaN            NaN   \n",
       "20                 NaN                 NaN            NaN            NaN   \n",
       "24                 NaN                 NaN            NaN            NaN   \n",
       "\n",
       "    Energy_Level  General_Health  Good_For_Novice_Owners  Intelligence  \\\n",
       "0            NaN             NaN                     NaN           NaN   \n",
       "1            NaN             NaN                     NaN           NaN   \n",
       "2            NaN             NaN                     NaN           NaN   \n",
       "20           NaN             NaN                     NaN           NaN   \n",
       "24           NaN             NaN                     NaN           NaN   \n",
       "\n",
       "    Potential_For_Mouthiness  Potential_For_Playfulness  \\\n",
       "0                        NaN                        NaN   \n",
       "1                        NaN                        NaN   \n",
       "2                        NaN                        NaN   \n",
       "20                       NaN                        NaN   \n",
       "24                       NaN                        NaN   \n",
       "\n",
       "    Potential_For_Weight_Gain  Prey_Drive  Sensitivity_Level  Size  \\\n",
       "0                         NaN         NaN                NaN   NaN   \n",
       "1                         NaN         NaN                NaN   NaN   \n",
       "2                         NaN         NaN                NaN   NaN   \n",
       "20                        NaN         NaN                NaN   NaN   \n",
       "24                        NaN         NaN                NaN   NaN   \n",
       "\n",
       "    Tendency_To_Bark_Or_Howl  Tolerates_Being_Alone  Tolerates_Cold_Weather  \\\n",
       "0                        NaN                    NaN                     NaN   \n",
       "1                        NaN                    NaN                     NaN   \n",
       "2                        NaN                    NaN                     NaN   \n",
       "20                       NaN                    NaN                     NaN   \n",
       "24                       NaN                    NaN                     NaN   \n",
       "\n",
       "    Tolerates_Hot_Weather  Wanderlust_Potential  \n",
       "0                     NaN                   NaN  \n",
       "1                     NaN                   NaN  \n",
       "2                     NaN                   NaN  \n",
       "20                    NaN                   NaN  \n",
       "24                    NaN                   NaN  "
      ]
     },
     "execution_count": 48,
     "metadata": {},
     "output_type": "execute_result"
    }
   ],
   "source": [
    "shelter_inout_wbreeds_df[shelter_inout_wbreeds_df[\"Affectionate_with_Family\"].isna()].head()"
   ]
  },
  {
   "cell_type": "code",
   "execution_count": 49,
   "metadata": {
    "scrolled": false
   },
   "outputs": [],
   "source": [
    "#print(shelter_inout_wbreeds_df.isna().sum().to_string())"
   ]
  },
  {
   "cell_type": "code",
   "execution_count": 50,
   "metadata": {},
   "outputs": [],
   "source": [
    "shelter_inout_wbreeds_df[\"no_breed_info\"] = shelter_inout_wbreeds_df[\"Affectionate_with_Family\"].isna().astype('int')"
   ]
  },
  {
   "cell_type": "markdown",
   "metadata": {},
   "source": [
    "we have most of the records identified to dog breeds that are in the dog breed description dataset. Most of the remaining most common dog breeds are not in the set or are ambiguous (eg there are two breeds know as 'Staffordshire'. )"
   ]
  },
  {
   "cell_type": "markdown",
   "metadata": {},
   "source": [
    "### Average breed data for animals with two breeds listed"
   ]
  },
  {
   "cell_type": "code",
   "execution_count": 51,
   "metadata": {},
   "outputs": [],
   "source": [
    "#get data fields for breed2\n",
    "field_list = dog_descr_df.columns.to_list()\n",
    "shelter_inout_wbreeds_df = pd.merge(left=shelter_inout_wbreeds_df, right=dog_descr_df, left_on=\"breed2\", right_index=True, \n",
    "                                    how='left', suffixes=('','_b2'))"
   ]
  },
  {
   "cell_type": "code",
   "execution_count": 52,
   "metadata": {},
   "outputs": [],
   "source": [
    "shelter_inout_wbreeds_df[\"no_breed_info2\"] = shelter_inout_wbreeds_df[\"Affectionate_with_Family_b2\"].isna().astype('int')"
   ]
  },
  {
   "cell_type": "code",
   "execution_count": 53,
   "metadata": {},
   "outputs": [],
   "source": [
    "# For rows with breed info in both sets, get averages.\n",
    "shelter_inout_wbreeds_df[\"no_breed_info_total\"] = shelter_inout_wbreeds_df[\"no_breed_info\"] + shelter_inout_wbreeds_df[\"no_breed_info2\"]\n",
    "field_list_b2 = []\n",
    "for field in field_list:\n",
    "    shelter_inout_wbreeds_df.loc[shelter_inout_wbreeds_df[\"no_breed_info_total\"] == 0, field] = \\\n",
    "    (shelter_inout_wbreeds_df.loc[shelter_inout_wbreeds_df[\"no_breed_info_total\"] == 0, field] +\n",
    "    shelter_inout_wbreeds_df.loc[shelter_inout_wbreeds_df[\"no_breed_info_total\"] == 0, (field + \"_b2\")] )/2\n",
    "    field_list_b2.append(field + \"_b2\")\n",
    "shelter_inout_wbreeds_df = shelter_inout_wbreeds_df.drop(columns=field_list_b2)"
   ]
  },
  {
   "cell_type": "code",
   "execution_count": 54,
   "metadata": {},
   "outputs": [
    {
     "ename": "KeyError",
     "evalue": "'Adaptability_b2'",
     "output_type": "error",
     "traceback": [
      "\u001b[1;31m---------------------------------------------------------------------------\u001b[0m",
      "\u001b[1;31mKeyError\u001b[0m                                  Traceback (most recent call last)",
      "\u001b[1;32mc:\\users\\chris\\appdata\\local\\programs\\python\\python37\\lib\\site-packages\\pandas\\core\\indexes\\base.py\u001b[0m in \u001b[0;36mget_loc\u001b[1;34m(self, key, method, tolerance)\u001b[0m\n\u001b[0;32m   2656\u001b[0m             \u001b[1;32mtry\u001b[0m\u001b[1;33m:\u001b[0m\u001b[1;33m\u001b[0m\u001b[1;33m\u001b[0m\u001b[0m\n\u001b[1;32m-> 2657\u001b[1;33m                 \u001b[1;32mreturn\u001b[0m \u001b[0mself\u001b[0m\u001b[1;33m.\u001b[0m\u001b[0m_engine\u001b[0m\u001b[1;33m.\u001b[0m\u001b[0mget_loc\u001b[0m\u001b[1;33m(\u001b[0m\u001b[0mkey\u001b[0m\u001b[1;33m)\u001b[0m\u001b[1;33m\u001b[0m\u001b[1;33m\u001b[0m\u001b[0m\n\u001b[0m\u001b[0;32m   2658\u001b[0m             \u001b[1;32mexcept\u001b[0m \u001b[0mKeyError\u001b[0m\u001b[1;33m:\u001b[0m\u001b[1;33m\u001b[0m\u001b[1;33m\u001b[0m\u001b[0m\n",
      "\u001b[1;32mpandas\\_libs\\index.pyx\u001b[0m in \u001b[0;36mpandas._libs.index.IndexEngine.get_loc\u001b[1;34m()\u001b[0m\n",
      "\u001b[1;32mpandas\\_libs\\index.pyx\u001b[0m in \u001b[0;36mpandas._libs.index.IndexEngine.get_loc\u001b[1;34m()\u001b[0m\n",
      "\u001b[1;32mpandas\\_libs\\hashtable_class_helper.pxi\u001b[0m in \u001b[0;36mpandas._libs.hashtable.PyObjectHashTable.get_item\u001b[1;34m()\u001b[0m\n",
      "\u001b[1;32mpandas\\_libs\\hashtable_class_helper.pxi\u001b[0m in \u001b[0;36mpandas._libs.hashtable.PyObjectHashTable.get_item\u001b[1;34m()\u001b[0m\n",
      "\u001b[1;31mKeyError\u001b[0m: 'Adaptability_b2'",
      "\nDuring handling of the above exception, another exception occurred:\n",
      "\u001b[1;31mKeyError\u001b[0m                                  Traceback (most recent call last)",
      "\u001b[1;32m<ipython-input-54-ba5f6a09c4b5>\u001b[0m in \u001b[0;36m<module>\u001b[1;34m\u001b[0m\n\u001b[0;32m      3\u001b[0m \u001b[1;32mfor\u001b[0m \u001b[0mfield\u001b[0m \u001b[1;32min\u001b[0m \u001b[0mfield_list\u001b[0m\u001b[1;33m:\u001b[0m\u001b[1;33m\u001b[0m\u001b[1;33m\u001b[0m\u001b[0m\n\u001b[0;32m      4\u001b[0m     \u001b[0mshelter_inout_wbreeds_df\u001b[0m\u001b[1;33m.\u001b[0m\u001b[0mloc\u001b[0m\u001b[1;33m[\u001b[0m\u001b[0mshelter_inout_wbreeds_df\u001b[0m\u001b[1;33m[\u001b[0m\u001b[1;34m\"only_breed2_info\"\u001b[0m\u001b[1;33m]\u001b[0m \u001b[1;33m==\u001b[0m \u001b[1;36m0\u001b[0m\u001b[1;33m,\u001b[0m \u001b[0mfield\u001b[0m\u001b[1;33m]\u001b[0m \u001b[1;33m=\u001b[0m\u001b[0;31m \u001b[0m\u001b[0;31m\\\u001b[0m\u001b[1;33m\u001b[0m\u001b[1;33m\u001b[0m\u001b[0m\n\u001b[1;32m----> 5\u001b[1;33m     \u001b[0mshelter_inout_wbreeds_df\u001b[0m\u001b[1;33m.\u001b[0m\u001b[0mloc\u001b[0m\u001b[1;33m[\u001b[0m\u001b[0mshelter_inout_wbreeds_df\u001b[0m\u001b[1;33m[\u001b[0m\u001b[1;34m\"only_breed2_info\"\u001b[0m\u001b[1;33m]\u001b[0m \u001b[1;33m==\u001b[0m \u001b[1;36m0\u001b[0m\u001b[1;33m,\u001b[0m \u001b[1;33m(\u001b[0m\u001b[0mfield\u001b[0m \u001b[1;33m+\u001b[0m \u001b[1;34m\"_b2\"\u001b[0m\u001b[1;33m)\u001b[0m\u001b[1;33m]\u001b[0m\u001b[1;33m\u001b[0m\u001b[1;33m\u001b[0m\u001b[0m\n\u001b[0m",
      "\u001b[1;32mc:\\users\\chris\\appdata\\local\\programs\\python\\python37\\lib\\site-packages\\pandas\\core\\indexing.py\u001b[0m in \u001b[0;36m__getitem__\u001b[1;34m(self, key)\u001b[0m\n\u001b[0;32m   1492\u001b[0m             \u001b[1;32mexcept\u001b[0m \u001b[1;33m(\u001b[0m\u001b[0mKeyError\u001b[0m\u001b[1;33m,\u001b[0m \u001b[0mIndexError\u001b[0m\u001b[1;33m,\u001b[0m \u001b[0mAttributeError\u001b[0m\u001b[1;33m)\u001b[0m\u001b[1;33m:\u001b[0m\u001b[1;33m\u001b[0m\u001b[1;33m\u001b[0m\u001b[0m\n\u001b[0;32m   1493\u001b[0m                 \u001b[1;32mpass\u001b[0m\u001b[1;33m\u001b[0m\u001b[1;33m\u001b[0m\u001b[0m\n\u001b[1;32m-> 1494\u001b[1;33m             \u001b[1;32mreturn\u001b[0m \u001b[0mself\u001b[0m\u001b[1;33m.\u001b[0m\u001b[0m_getitem_tuple\u001b[0m\u001b[1;33m(\u001b[0m\u001b[0mkey\u001b[0m\u001b[1;33m)\u001b[0m\u001b[1;33m\u001b[0m\u001b[1;33m\u001b[0m\u001b[0m\n\u001b[0m\u001b[0;32m   1495\u001b[0m         \u001b[1;32melse\u001b[0m\u001b[1;33m:\u001b[0m\u001b[1;33m\u001b[0m\u001b[1;33m\u001b[0m\u001b[0m\n\u001b[0;32m   1496\u001b[0m             \u001b[1;31m# we by definition only have the 0th axis\u001b[0m\u001b[1;33m\u001b[0m\u001b[1;33m\u001b[0m\u001b[1;33m\u001b[0m\u001b[0m\n",
      "\u001b[1;32mc:\\users\\chris\\appdata\\local\\programs\\python\\python37\\lib\\site-packages\\pandas\\core\\indexing.py\u001b[0m in \u001b[0;36m_getitem_tuple\u001b[1;34m(self, tup)\u001b[0m\n\u001b[0;32m    866\u001b[0m     \u001b[1;32mdef\u001b[0m \u001b[0m_getitem_tuple\u001b[0m\u001b[1;33m(\u001b[0m\u001b[0mself\u001b[0m\u001b[1;33m,\u001b[0m \u001b[0mtup\u001b[0m\u001b[1;33m)\u001b[0m\u001b[1;33m:\u001b[0m\u001b[1;33m\u001b[0m\u001b[1;33m\u001b[0m\u001b[0m\n\u001b[0;32m    867\u001b[0m         \u001b[1;32mtry\u001b[0m\u001b[1;33m:\u001b[0m\u001b[1;33m\u001b[0m\u001b[1;33m\u001b[0m\u001b[0m\n\u001b[1;32m--> 868\u001b[1;33m             \u001b[1;32mreturn\u001b[0m \u001b[0mself\u001b[0m\u001b[1;33m.\u001b[0m\u001b[0m_getitem_lowerdim\u001b[0m\u001b[1;33m(\u001b[0m\u001b[0mtup\u001b[0m\u001b[1;33m)\u001b[0m\u001b[1;33m\u001b[0m\u001b[1;33m\u001b[0m\u001b[0m\n\u001b[0m\u001b[0;32m    869\u001b[0m         \u001b[1;32mexcept\u001b[0m \u001b[0mIndexingError\u001b[0m\u001b[1;33m:\u001b[0m\u001b[1;33m\u001b[0m\u001b[1;33m\u001b[0m\u001b[0m\n\u001b[0;32m    870\u001b[0m             \u001b[1;32mpass\u001b[0m\u001b[1;33m\u001b[0m\u001b[1;33m\u001b[0m\u001b[0m\n",
      "\u001b[1;32mc:\\users\\chris\\appdata\\local\\programs\\python\\python37\\lib\\site-packages\\pandas\\core\\indexing.py\u001b[0m in \u001b[0;36m_getitem_lowerdim\u001b[1;34m(self, tup)\u001b[0m\n\u001b[0;32m    986\u001b[0m         \u001b[1;32mfor\u001b[0m \u001b[0mi\u001b[0m\u001b[1;33m,\u001b[0m \u001b[0mkey\u001b[0m \u001b[1;32min\u001b[0m \u001b[0menumerate\u001b[0m\u001b[1;33m(\u001b[0m\u001b[0mtup\u001b[0m\u001b[1;33m)\u001b[0m\u001b[1;33m:\u001b[0m\u001b[1;33m\u001b[0m\u001b[1;33m\u001b[0m\u001b[0m\n\u001b[0;32m    987\u001b[0m             \u001b[1;32mif\u001b[0m \u001b[0mis_label_like\u001b[0m\u001b[1;33m(\u001b[0m\u001b[0mkey\u001b[0m\u001b[1;33m)\u001b[0m \u001b[1;32mor\u001b[0m \u001b[0misinstance\u001b[0m\u001b[1;33m(\u001b[0m\u001b[0mkey\u001b[0m\u001b[1;33m,\u001b[0m \u001b[0mtuple\u001b[0m\u001b[1;33m)\u001b[0m\u001b[1;33m:\u001b[0m\u001b[1;33m\u001b[0m\u001b[1;33m\u001b[0m\u001b[0m\n\u001b[1;32m--> 988\u001b[1;33m                 \u001b[0msection\u001b[0m \u001b[1;33m=\u001b[0m \u001b[0mself\u001b[0m\u001b[1;33m.\u001b[0m\u001b[0m_getitem_axis\u001b[0m\u001b[1;33m(\u001b[0m\u001b[0mkey\u001b[0m\u001b[1;33m,\u001b[0m \u001b[0maxis\u001b[0m\u001b[1;33m=\u001b[0m\u001b[0mi\u001b[0m\u001b[1;33m)\u001b[0m\u001b[1;33m\u001b[0m\u001b[1;33m\u001b[0m\u001b[0m\n\u001b[0m\u001b[0;32m    989\u001b[0m \u001b[1;33m\u001b[0m\u001b[0m\n\u001b[0;32m    990\u001b[0m                 \u001b[1;31m# we have yielded a scalar ?\u001b[0m\u001b[1;33m\u001b[0m\u001b[1;33m\u001b[0m\u001b[1;33m\u001b[0m\u001b[0m\n",
      "\u001b[1;32mc:\\users\\chris\\appdata\\local\\programs\\python\\python37\\lib\\site-packages\\pandas\\core\\indexing.py\u001b[0m in \u001b[0;36m_getitem_axis\u001b[1;34m(self, key, axis)\u001b[0m\n\u001b[0;32m   1911\u001b[0m         \u001b[1;31m# fall thru to straight lookup\u001b[0m\u001b[1;33m\u001b[0m\u001b[1;33m\u001b[0m\u001b[1;33m\u001b[0m\u001b[0m\n\u001b[0;32m   1912\u001b[0m         \u001b[0mself\u001b[0m\u001b[1;33m.\u001b[0m\u001b[0m_validate_key\u001b[0m\u001b[1;33m(\u001b[0m\u001b[0mkey\u001b[0m\u001b[1;33m,\u001b[0m \u001b[0maxis\u001b[0m\u001b[1;33m)\u001b[0m\u001b[1;33m\u001b[0m\u001b[1;33m\u001b[0m\u001b[0m\n\u001b[1;32m-> 1913\u001b[1;33m         \u001b[1;32mreturn\u001b[0m \u001b[0mself\u001b[0m\u001b[1;33m.\u001b[0m\u001b[0m_get_label\u001b[0m\u001b[1;33m(\u001b[0m\u001b[0mkey\u001b[0m\u001b[1;33m,\u001b[0m \u001b[0maxis\u001b[0m\u001b[1;33m=\u001b[0m\u001b[0maxis\u001b[0m\u001b[1;33m)\u001b[0m\u001b[1;33m\u001b[0m\u001b[1;33m\u001b[0m\u001b[0m\n\u001b[0m\u001b[0;32m   1914\u001b[0m \u001b[1;33m\u001b[0m\u001b[0m\n\u001b[0;32m   1915\u001b[0m \u001b[1;33m\u001b[0m\u001b[0m\n",
      "\u001b[1;32mc:\\users\\chris\\appdata\\local\\programs\\python\\python37\\lib\\site-packages\\pandas\\core\\indexing.py\u001b[0m in \u001b[0;36m_get_label\u001b[1;34m(self, label, axis)\u001b[0m\n\u001b[0;32m    139\u001b[0m             \u001b[1;32mraise\u001b[0m \u001b[0mIndexingError\u001b[0m\u001b[1;33m(\u001b[0m\u001b[1;34m'no slices here, handle elsewhere'\u001b[0m\u001b[1;33m)\u001b[0m\u001b[1;33m\u001b[0m\u001b[1;33m\u001b[0m\u001b[0m\n\u001b[0;32m    140\u001b[0m \u001b[1;33m\u001b[0m\u001b[0m\n\u001b[1;32m--> 141\u001b[1;33m         \u001b[1;32mreturn\u001b[0m \u001b[0mself\u001b[0m\u001b[1;33m.\u001b[0m\u001b[0mobj\u001b[0m\u001b[1;33m.\u001b[0m\u001b[0m_xs\u001b[0m\u001b[1;33m(\u001b[0m\u001b[0mlabel\u001b[0m\u001b[1;33m,\u001b[0m \u001b[0maxis\u001b[0m\u001b[1;33m=\u001b[0m\u001b[0maxis\u001b[0m\u001b[1;33m)\u001b[0m\u001b[1;33m\u001b[0m\u001b[1;33m\u001b[0m\u001b[0m\n\u001b[0m\u001b[0;32m    142\u001b[0m \u001b[1;33m\u001b[0m\u001b[0m\n\u001b[0;32m    143\u001b[0m     \u001b[1;32mdef\u001b[0m \u001b[0m_get_loc\u001b[0m\u001b[1;33m(\u001b[0m\u001b[0mself\u001b[0m\u001b[1;33m,\u001b[0m \u001b[0mkey\u001b[0m\u001b[1;33m,\u001b[0m \u001b[0maxis\u001b[0m\u001b[1;33m=\u001b[0m\u001b[1;32mNone\u001b[0m\u001b[1;33m)\u001b[0m\u001b[1;33m:\u001b[0m\u001b[1;33m\u001b[0m\u001b[1;33m\u001b[0m\u001b[0m\n",
      "\u001b[1;32mc:\\users\\chris\\appdata\\local\\programs\\python\\python37\\lib\\site-packages\\pandas\\core\\generic.py\u001b[0m in \u001b[0;36mxs\u001b[1;34m(self, key, axis, level, drop_level)\u001b[0m\n\u001b[0;32m   3574\u001b[0m \u001b[1;33m\u001b[0m\u001b[0m\n\u001b[0;32m   3575\u001b[0m         \u001b[1;32mif\u001b[0m \u001b[0maxis\u001b[0m \u001b[1;33m==\u001b[0m \u001b[1;36m1\u001b[0m\u001b[1;33m:\u001b[0m\u001b[1;33m\u001b[0m\u001b[1;33m\u001b[0m\u001b[0m\n\u001b[1;32m-> 3576\u001b[1;33m             \u001b[1;32mreturn\u001b[0m \u001b[0mself\u001b[0m\u001b[1;33m[\u001b[0m\u001b[0mkey\u001b[0m\u001b[1;33m]\u001b[0m\u001b[1;33m\u001b[0m\u001b[1;33m\u001b[0m\u001b[0m\n\u001b[0m\u001b[0;32m   3577\u001b[0m \u001b[1;33m\u001b[0m\u001b[0m\n\u001b[0;32m   3578\u001b[0m         \u001b[0mself\u001b[0m\u001b[1;33m.\u001b[0m\u001b[0m_consolidate_inplace\u001b[0m\u001b[1;33m(\u001b[0m\u001b[1;33m)\u001b[0m\u001b[1;33m\u001b[0m\u001b[1;33m\u001b[0m\u001b[0m\n",
      "\u001b[1;32mc:\\users\\chris\\appdata\\local\\programs\\python\\python37\\lib\\site-packages\\pandas\\core\\frame.py\u001b[0m in \u001b[0;36m__getitem__\u001b[1;34m(self, key)\u001b[0m\n\u001b[0;32m   2925\u001b[0m             \u001b[1;32mif\u001b[0m \u001b[0mself\u001b[0m\u001b[1;33m.\u001b[0m\u001b[0mcolumns\u001b[0m\u001b[1;33m.\u001b[0m\u001b[0mnlevels\u001b[0m \u001b[1;33m>\u001b[0m \u001b[1;36m1\u001b[0m\u001b[1;33m:\u001b[0m\u001b[1;33m\u001b[0m\u001b[1;33m\u001b[0m\u001b[0m\n\u001b[0;32m   2926\u001b[0m                 \u001b[1;32mreturn\u001b[0m \u001b[0mself\u001b[0m\u001b[1;33m.\u001b[0m\u001b[0m_getitem_multilevel\u001b[0m\u001b[1;33m(\u001b[0m\u001b[0mkey\u001b[0m\u001b[1;33m)\u001b[0m\u001b[1;33m\u001b[0m\u001b[1;33m\u001b[0m\u001b[0m\n\u001b[1;32m-> 2927\u001b[1;33m             \u001b[0mindexer\u001b[0m \u001b[1;33m=\u001b[0m \u001b[0mself\u001b[0m\u001b[1;33m.\u001b[0m\u001b[0mcolumns\u001b[0m\u001b[1;33m.\u001b[0m\u001b[0mget_loc\u001b[0m\u001b[1;33m(\u001b[0m\u001b[0mkey\u001b[0m\u001b[1;33m)\u001b[0m\u001b[1;33m\u001b[0m\u001b[1;33m\u001b[0m\u001b[0m\n\u001b[0m\u001b[0;32m   2928\u001b[0m             \u001b[1;32mif\u001b[0m \u001b[0mis_integer\u001b[0m\u001b[1;33m(\u001b[0m\u001b[0mindexer\u001b[0m\u001b[1;33m)\u001b[0m\u001b[1;33m:\u001b[0m\u001b[1;33m\u001b[0m\u001b[1;33m\u001b[0m\u001b[0m\n\u001b[0;32m   2929\u001b[0m                 \u001b[0mindexer\u001b[0m \u001b[1;33m=\u001b[0m \u001b[1;33m[\u001b[0m\u001b[0mindexer\u001b[0m\u001b[1;33m]\u001b[0m\u001b[1;33m\u001b[0m\u001b[1;33m\u001b[0m\u001b[0m\n",
      "\u001b[1;32mc:\\users\\chris\\appdata\\local\\programs\\python\\python37\\lib\\site-packages\\pandas\\core\\indexes\\base.py\u001b[0m in \u001b[0;36mget_loc\u001b[1;34m(self, key, method, tolerance)\u001b[0m\n\u001b[0;32m   2657\u001b[0m                 \u001b[1;32mreturn\u001b[0m \u001b[0mself\u001b[0m\u001b[1;33m.\u001b[0m\u001b[0m_engine\u001b[0m\u001b[1;33m.\u001b[0m\u001b[0mget_loc\u001b[0m\u001b[1;33m(\u001b[0m\u001b[0mkey\u001b[0m\u001b[1;33m)\u001b[0m\u001b[1;33m\u001b[0m\u001b[1;33m\u001b[0m\u001b[0m\n\u001b[0;32m   2658\u001b[0m             \u001b[1;32mexcept\u001b[0m \u001b[0mKeyError\u001b[0m\u001b[1;33m:\u001b[0m\u001b[1;33m\u001b[0m\u001b[1;33m\u001b[0m\u001b[0m\n\u001b[1;32m-> 2659\u001b[1;33m                 \u001b[1;32mreturn\u001b[0m \u001b[0mself\u001b[0m\u001b[1;33m.\u001b[0m\u001b[0m_engine\u001b[0m\u001b[1;33m.\u001b[0m\u001b[0mget_loc\u001b[0m\u001b[1;33m(\u001b[0m\u001b[0mself\u001b[0m\u001b[1;33m.\u001b[0m\u001b[0m_maybe_cast_indexer\u001b[0m\u001b[1;33m(\u001b[0m\u001b[0mkey\u001b[0m\u001b[1;33m)\u001b[0m\u001b[1;33m)\u001b[0m\u001b[1;33m\u001b[0m\u001b[1;33m\u001b[0m\u001b[0m\n\u001b[0m\u001b[0;32m   2660\u001b[0m         \u001b[0mindexer\u001b[0m \u001b[1;33m=\u001b[0m \u001b[0mself\u001b[0m\u001b[1;33m.\u001b[0m\u001b[0mget_indexer\u001b[0m\u001b[1;33m(\u001b[0m\u001b[1;33m[\u001b[0m\u001b[0mkey\u001b[0m\u001b[1;33m]\u001b[0m\u001b[1;33m,\u001b[0m \u001b[0mmethod\u001b[0m\u001b[1;33m=\u001b[0m\u001b[0mmethod\u001b[0m\u001b[1;33m,\u001b[0m \u001b[0mtolerance\u001b[0m\u001b[1;33m=\u001b[0m\u001b[0mtolerance\u001b[0m\u001b[1;33m)\u001b[0m\u001b[1;33m\u001b[0m\u001b[1;33m\u001b[0m\u001b[0m\n\u001b[0;32m   2661\u001b[0m         \u001b[1;32mif\u001b[0m \u001b[0mindexer\u001b[0m\u001b[1;33m.\u001b[0m\u001b[0mndim\u001b[0m \u001b[1;33m>\u001b[0m \u001b[1;36m1\u001b[0m \u001b[1;32mor\u001b[0m \u001b[0mindexer\u001b[0m\u001b[1;33m.\u001b[0m\u001b[0msize\u001b[0m \u001b[1;33m>\u001b[0m \u001b[1;36m1\u001b[0m\u001b[1;33m:\u001b[0m\u001b[1;33m\u001b[0m\u001b[1;33m\u001b[0m\u001b[0m\n",
      "\u001b[1;32mpandas\\_libs\\index.pyx\u001b[0m in \u001b[0;36mpandas._libs.index.IndexEngine.get_loc\u001b[1;34m()\u001b[0m\n",
      "\u001b[1;32mpandas\\_libs\\index.pyx\u001b[0m in \u001b[0;36mpandas._libs.index.IndexEngine.get_loc\u001b[1;34m()\u001b[0m\n",
      "\u001b[1;32mpandas\\_libs\\hashtable_class_helper.pxi\u001b[0m in \u001b[0;36mpandas._libs.hashtable.PyObjectHashTable.get_item\u001b[1;34m()\u001b[0m\n",
      "\u001b[1;32mpandas\\_libs\\hashtable_class_helper.pxi\u001b[0m in \u001b[0;36mpandas._libs.hashtable.PyObjectHashTable.get_item\u001b[1;34m()\u001b[0m\n",
      "\u001b[1;31mKeyError\u001b[0m: 'Adaptability_b2'"
     ]
    }
   ],
   "source": [
    "#for rows with only breed2 info, use that.\n",
    "shelter_inout_wbreeds_df[\"only_breed2_info\"] = shelter_inout_wbreeds_df[\"no_breed_info\"] > shelter_inout_wbreeds_df[\"no_breed_info2\"]\n",
    "for field in field_list:\n",
    "    shelter_inout_wbreeds_df.loc[shelter_inout_wbreeds_df[\"only_breed2_info\"] == 0, field] = \\\n",
    "    shelter_inout_wbreeds_df.loc[shelter_inout_wbreeds_df[\"only_breed2_info\"] == 0, (field + \"_b2\")] "
   ]
  },
  {
   "cell_type": "code",
   "execution_count": null,
   "metadata": {},
   "outputs": [],
   "source": [
    "# drop columns except field that indicates breed desc fields were imputed\n",
    "shelter_inout_wbreeds_df.drop(columns=[\"only_breed2_info\", \"no_breed_info\", \"no_breed2_info\"], inplace=True)\n",
    "shelter_inout_wbreeds_df[\"no_breed_info_total\"] = shelter_inout_wbreeds_df.no_breed_info_total.replace(1,0)"
   ]
  },
  {
   "cell_type": "code",
   "execution_count": null,
   "metadata": {},
   "outputs": [],
   "source": [
    "#fill nulls create because breed was not found in breed desc, with column mean\n",
    "for colname, col in dog_descr_df.iteritems():\n",
    "    shelter_inout_wbreeds_df.loc[:,colname] = shelter_inout_wbreeds_df[[colname]].fillna(shelter_inout_wbreeds_df[colname].mean(), \n",
    "                                                                                         axis=1)"
   ]
  },
  {
   "cell_type": "code",
   "execution_count": null,
   "metadata": {},
   "outputs": [],
   "source": [
    "#don't need breed name field anymore\n",
    "shelter_inout_wbreeds_df = shelter_inout_wbreeds_df.drop(columns=['breed'])"
   ]
  },
  {
   "cell_type": "markdown",
   "metadata": {},
   "source": [
    "Since these nulls are all from the same breed, FancyImpute doesn't have any breed info to work on. "
   ]
  },
  {
   "cell_type": "markdown",
   "metadata": {},
   "source": [
    "### Intake Features"
   ]
  },
  {
   "cell_type": "code",
   "execution_count": null,
   "metadata": {},
   "outputs": [],
   "source": [
    "shelter_inout_wbreeds_df.pivot_table(values='breed', columns=\"intake_condition\", index='intake_type', aggfunc=len)"
   ]
  },
  {
   "cell_type": "code",
   "execution_count": null,
   "metadata": {},
   "outputs": [],
   "source": [
    "#Both condition and type seem relevant and can't be eliminated\n",
    "shelter_inout_wbreeds_df = pd.concat([shelter_inout_wbreeds_df, \n",
    "           pd.get_dummies(shelter_inout_wbreeds_df.intake_condition, drop_first=True, prefix=\"in_cond\")], axis=1)\n"
   ]
  },
  {
   "cell_type": "code",
   "execution_count": null,
   "metadata": {},
   "outputs": [],
   "source": [
    "shelter_inout_wbreeds_df = pd.concat([shelter_inout_wbreeds_df, \n",
    "           pd.get_dummies(shelter_inout_wbreeds_df.intake_type, drop_first=True, prefix=\"in_type\")], axis=1)\n",
    "shelter_inout_wbreeds_df = shelter_inout_wbreeds_df.drop(columns = ['breed', 'breed2'])"
   ]
  },
  {
   "cell_type": "markdown",
   "metadata": {},
   "source": [
    "# Feature Engineering\n"
   ]
  },
  {
   "cell_type": "markdown",
   "metadata": {},
   "source": [
    "### Sex/Neutering\n",
    "These two features can be divided from complicated categories to simplified ones: sex, neutered status, and if neutering occured. \n",
    "Neutering operations will take several days for the operation and recovery period."
   ]
  },
  {
   "cell_type": "code",
   "execution_count": null,
   "metadata": {},
   "outputs": [],
   "source": [
    "shelter_inout_wbreeds_df.pivot_table(index='sex_upon_intake', columns='sex_upon_outcome', values='Adaptability', aggfunc=len)"
   ]
  },
  {
   "cell_type": "code",
   "execution_count": null,
   "metadata": {},
   "outputs": [],
   "source": [
    "shelter_inout_df[shelter_inout_wbreeds_df.sex_upon_outcome.isna()]"
   ]
  },
  {
   "cell_type": "code",
   "execution_count": null,
   "metadata": {},
   "outputs": [],
   "source": [
    "#change nulls to 'unknown'\n",
    "shelter_inout_wbreeds_df.loc[shelter_inout_wbreeds_df.sex_upon_intake.isna(), 'sex_upon_intake'] = 'Unknown'\n",
    "shelter_inout_wbreeds_df.loc[shelter_inout_wbreeds_df.sex_upon_outcome.isna(), 'sex_upon_outcome'] = 'Unknown'"
   ]
  },
  {
   "cell_type": "code",
   "execution_count": null,
   "metadata": {},
   "outputs": [],
   "source": [
    "#Split features and assign one of two option to a feature\n",
    "shelter_inout_wbreeds_df.loc[:, \"neutered\"] = shelter_inout_wbreeds_df.sex_upon_outcome.str.split(expand=True)[0]\n",
    "shelter_inout_wbreeds_df.loc[:, \"neutered\"] = shelter_inout_wbreeds_df.neutered.apply(lambda x: x!='Intact').astype(int)\n",
    "\n",
    "shelter_inout_wbreeds_df.loc[:, \"male\"] = shelter_inout_wbreeds_df.sex_upon_intake.str.split(expand=True)[1]\n",
    "shelter_inout_wbreeds_df.loc[:, \"male\"] = shelter_inout_wbreeds_df.male.apply(lambda x: x=='Male').astype(int)\n",
    "\n",
    "#use halfway value for unknowns \n",
    "shelter_inout_wbreeds_df.loc[shelter_inout_wbreeds_df.sex_upon_intake == 'Unknown',\"neutered\" : \"male\"] = .5, .5"
   ]
  },
  {
   "cell_type": "code",
   "execution_count": null,
   "metadata": {},
   "outputs": [],
   "source": [
    "def was_neutered(x):\n",
    "    intake_type = x.sex_upon_intake.split()[0]\n",
    "    outcome_type = x.sex_upon_outcome.split()[0]\n",
    "    if intake_type == outcome_type:\n",
    "        neutered = 0\n",
    "    else:\n",
    "        neutered = 1\n",
    "    return neutered\n",
    "shelter_inout_wbreeds_df['neutered_in_shelter'] = shelter_inout_wbreeds_df.apply(was_neutered, axis=1)"
   ]
  },
  {
   "cell_type": "code",
   "execution_count": null,
   "metadata": {},
   "outputs": [],
   "source": [
    "shelter_inout_wbreeds_df = shelter_inout_wbreeds_df.drop(columns=['sex_upon_outcome'])"
   ]
  },
  {
   "cell_type": "markdown",
   "metadata": {},
   "source": [
    "### Datetime\n",
    "The datetime variable for when animals arrive would be more useful if we look at seasons. "
   ]
  },
  {
   "cell_type": "code",
   "execution_count": null,
   "metadata": {},
   "outputs": [],
   "source": [
    "def season_of_date(date_in):\n",
    "    date = pd.to_datetime(date_in)\n",
    "    year = str(date.year)\n",
    "    seasons = {'spring': pd.date_range(start='21/03/'+year, end='20/06/'+year),\n",
    "               'summer': pd.date_range(start='21/06/'+year, end='22/09/'+year),\n",
    "               'autumn': pd.date_range(start='23/09/'+year, end='20/12/'+year)}\n",
    "    if date in seasons['spring']:\n",
    "        return 'spring'\n",
    "    if date in seasons['summer']:\n",
    "        return 'summer'\n",
    "    if date in seasons['autumn']:\n",
    "        return 'autumn'\n",
    "    else:\n",
    "        return 'winter'\n",
    "\n",
    "shelter_inout_wbreeds_df[\"intake_season\"] = shelter_inout_wbreeds_df.intake_datetime.transform(season_of_date)"
   ]
  },
  {
   "cell_type": "code",
   "execution_count": null,
   "metadata": {},
   "outputs": [],
   "source": [
    "#Change season category into useable features\n",
    "shelter_inout_wbreeds_df = pd.merge(left=shelter_inout_wbreeds_df, \n",
    "                                    right=pd.get_dummies(shelter_inout_wbreeds_df.intake_season, drop_first=True), \n",
    "                            left_index=True, right_index=True, how='left')\n",
    "shelter_inout_wbreeds_df = shelter_inout_wbreeds_df.drop(columns=['intake_season'])                              "
   ]
  },
  {
   "cell_type": "code",
   "execution_count": null,
   "metadata": {},
   "outputs": [],
   "source": [
    "#OHE weekday\n",
    "shelter_inout_wbreeds_df = pd.concat([shelter_inout_wbreeds_df, \n",
    "                                      pd.get_dummies(shelter_inout_wbreeds_df.intake_weekday, drop_first=True)], axis=1)"
   ]
  },
  {
   "cell_type": "markdown",
   "metadata": {},
   "source": [
    "## Feature Selection"
   ]
  },
  {
   "cell_type": "markdown",
   "metadata": {},
   "source": [
    "### Split data"
   ]
  },
  {
   "cell_type": "code",
   "execution_count": null,
   "metadata": {},
   "outputs": [],
   "source": [
    "X = shelter_inout_wbreeds_df.loc[:, (shelter_inout_wbreeds_df.columns[shelter_inout_wbreeds_df.dtypes != 'object'].values)]\\\n",
    "    .drop(columns='time_in_shelter_days')\n",
    "y = shelter_inout_wbreeds_df['time_in_shelter_days']\n",
    "X_train, X_test, y_train, y_test = train_test_split(X, y, test_size=.3)"
   ]
  },
  {
   "cell_type": "markdown",
   "metadata": {},
   "source": [
    "### Look for multicolinearity"
   ]
  },
  {
   "cell_type": "code",
   "execution_count": null,
   "metadata": {},
   "outputs": [],
   "source": [
    "X_corr_ = X.corr().abs()\n",
    "X_corr_filt = X_corr_[(X_corr_ > .9) & ~(X_corr_ == 1)]\n",
    "for i, row in X_corr_filt.iterrows():\n",
    "    if row.sum() > 0: \n",
    "        print(\"{} is correlated with: \".format(i), end = '') \n",
    "        for ind, col in row.iteritems():\n",
    "            if ~np.isnan(col):\n",
    "                print(\"{} at {}\".format(ind, col))\n",
    "        print(\"\\n\")\n"
   ]
  },
  {
   "cell_type": "code",
   "execution_count": null,
   "metadata": {},
   "outputs": [],
   "source": [
    "#look features with high correlations to multiple features\n",
    "sns.set_style('darkgrid')\n",
    "fig = plt.figure(figsize=(17,17))\n",
    "ax = sns.heatmap(X.corr(), center=0, linewidths=.1)"
   ]
  },
  {
   "cell_type": "code",
   "execution_count": null,
   "metadata": {},
   "outputs": [],
   "source": [
    "#Get closer look at features with potential correlation issues\n",
    "plt.figure(figsize=(10,20))\n",
    "sns.heatmap(annot=True, cbar=False,  data=X.corr().loc[:, X.corr().index.isin(['Shorthair', 'Trainability', 'Good_For_Novice_Owners', 'in_type_Owner_Surrender', \n",
    "                                 'Tolerates_Hot_Weather']) ]);"
   ]
  },
  {
   "cell_type": "code",
   "execution_count": null,
   "metadata": {},
   "outputs": [],
   "source": [
    "X = X.drop(columns=['Shorthair'])"
   ]
  },
  {
   "cell_type": "markdown",
   "metadata": {},
   "source": [
    "### Look at variable distributions"
   ]
  },
  {
   "cell_type": "code",
   "execution_count": null,
   "metadata": {
    "scrolled": false
   },
   "outputs": [],
   "source": [
    "plt.figure(figsize=(16, 6))\n",
    "sns.distplot(y_train);"
   ]
  },
  {
   "cell_type": "code",
   "execution_count": null,
   "metadata": {},
   "outputs": [],
   "source": [
    "# %load ../thinkful_notes/utility/numerical.py\n",
    "#!/usr/bin/env python\n",
    "\n",
    "# In[1]:\n",
    "def winsorize(data=[], lower=5, upper=95):\n",
    "    '''Winsorizes an array. Defaults are at 5 (%) and 95 (%). \n",
    "    '''\n",
    "    pcts = np.percentile(data, q=[lower, upper])\n",
    "    w_ized = []\n",
    "    for i in data:\n",
    "        if i<pcts[0]:\n",
    "            w_ized.append(pcts[0])\n",
    "        elif i>pcts[1]:\n",
    "            w_ized.append(pcts[1])\n",
    "        else: \n",
    "            w_ized.append(i)\n",
    "    return w_ized"
   ]
  },
  {
   "cell_type": "code",
   "execution_count": null,
   "metadata": {},
   "outputs": [],
   "source": [
    "#There are some extreme outliers and a significant right skew. First winsorize extreme outliers\n",
    "y_train = winsorize(data=y_train, lower=0, upper=99)\n",
    "y_test = winsorize(data=y_test, lower=0, upper=99)  #keep data consistant"
   ]
  },
  {
   "cell_type": "markdown",
   "metadata": {},
   "source": [
    "My guess is that the distribution should be a exponential? distribution; outcomes could happen each day. Let's transform this to a normal distribution. "
   ]
  },
  {
   "cell_type": "code",
   "execution_count": null,
   "metadata": {},
   "outputs": [],
   "source": [
    "#Apply square root transform\n",
    "y_train = pd.Series(y_train) + .01 # put in series so can add to each element\n",
    "y_test = pd.Series(y_test) + .01\n",
    "y_train = boxcox(y_train)[0]  \n",
    "y_test = boxcox(y_test)[0] "
   ]
  },
  {
   "cell_type": "code",
   "execution_count": null,
   "metadata": {},
   "outputs": [],
   "source": [
    "plt.figure(figsize=(16, 6))\n",
    "sns.distplot(y_train);"
   ]
  },
  {
   "cell_type": "markdown",
   "metadata": {},
   "source": [
    "This is not a normal distribution but much improved."
   ]
  },
  {
   "cell_type": "code",
   "execution_count": null,
   "metadata": {
    "scrolled": true
   },
   "outputs": [],
   "source": [
    "#Plot feature distributions\n",
    "X.hist(layout=(-1,5), figsize=(14,20));    "
   ]
  },
  {
   "cell_type": "markdown",
   "metadata": {},
   "source": [
    "## Feature Selection"
   ]
  },
  {
   "cell_type": "code",
   "execution_count": null,
   "metadata": {},
   "outputs": [],
   "source": [
    "X_train[X_train.isna().any(1)]"
   ]
  },
  {
   "cell_type": "code",
   "execution_count": null,
   "metadata": {},
   "outputs": [],
   "source": [
    "#use best hypers from search\n",
    "random_forest_best = RandomForestRegressor(bootstrap=True, criterion='mse', max_depth=15,\n",
    "                      max_features='auto', max_leaf_nodes=None,\n",
    "                      min_impurity_decrease=0.0, min_impurity_split=None,\n",
    "                      min_samples_leaf=1, min_samples_split=20,\n",
    "                      min_weight_fraction_leaf=0.0, n_estimators=60, n_jobs=-1,\n",
    "                      oob_score=False, random_state=None, verbose=0,\n",
    "                      warm_start=False)"
   ]
  },
  {
   "cell_type": "code",
   "execution_count": null,
   "metadata": {
    "scrolled": true
   },
   "outputs": [],
   "source": [
    "randforest_rfe = RFE(random_forest_best, n_features_to_select=40, step=1, verbose=True)\n",
    "randforest_rfe.fit(X_train, y_train)"
   ]
  },
  {
   "cell_type": "code",
   "execution_count": null,
   "metadata": {
    "scrolled": true
   },
   "outputs": [],
   "source": [
    "#see which features were selected\n",
    "reduced_features = pd.DataFrame(X_train.columns.to_list())[randforest_rfe.support_]\n",
    "reduced_features"
   ]
  },
  {
   "cell_type": "code",
   "execution_count": null,
   "metadata": {
    "scrolled": true
   },
   "outputs": [],
   "source": [
    "#see unselected features\n",
    "original_columns = pd.DataFrame(X_train.columns)\n",
    "pd.merge(left=pd.DataFrame(X_train.columns), right=reduced_features, left_on=0, right_on=0, how='left', indicator=True).\\\n",
    "query('_merge == \"left_only\"')"
   ]
  },
  {
   "cell_type": "code",
   "execution_count": null,
   "metadata": {},
   "outputs": [],
   "source": [
    "#review important features\n",
    "X_train_reduced = X_train.loc[:,X_train.columns.isin(reduced_features.values.flatten())]\n",
    "rfit = randforest_rfe.estimator_.fit(X_train_reduced, y_train)"
   ]
  },
  {
   "cell_type": "code",
   "execution_count": null,
   "metadata": {},
   "outputs": [],
   "source": [
    "important_features = pd.DataFrame(data=rfit.feature_importances_, index=reduced_features[0])\n",
    "important_features.columns = ['importance']\n",
    "important_features.sort_values(by='importance', ascending=False,inplace=True)\n",
    "figimp = plt.figure(figsize=(10,6))\n",
    "aximp = sns.barplot(y=important_features.index, x=important_features['importance'], orient='h');"
   ]
  },
  {
   "cell_type": "code",
   "execution_count": null,
   "metadata": {
    "scrolled": true
   },
   "outputs": [],
   "source": [
    "# use Bourta feature elimination to get alternative list of features to use\n",
    "boruta_selector = BorutaPy(rforest_best, n_estimators=100, verbose=1, perc=50)\n",
    "boruta_selector.fit(X_train.values, y_train)  #Boruta only accepts np arrays"
   ]
  },
  {
   "cell_type": "code",
   "execution_count": null,
   "metadata": {},
   "outputs": [],
   "source": [
    "print(\"Number of features Selected by Bourta Alg: {}\".format(boruta_selector.n_features_))\n",
    "print(\"Selected Features: {}\".format(X_train.columns[boruta_selector.support_]))\n",
    "print(\"Possible Features: {}\".format(X_train.columns[boruta_selector.support_weak_]))"
   ]
  },
  {
   "cell_type": "code",
   "execution_count": null,
   "metadata": {
    "scrolled": true
   },
   "outputs": [],
   "source": [
    "X_train.columns[boruta_selector.ranking_]\n",
    "boruta_rank = pd.DataFrame(data={'features': X_train.columns,\n",
    "                           'ranking': boruta_selector.ranking_}).sort_values(by='ranking')\n",
    "boruta_rank.head(20)                        "
   ]
  },
  {
   "cell_type": "code",
   "execution_count": null,
   "metadata": {},
   "outputs": [],
   "source": [
    "X_red = X.loc[:,X.columns[boruta_selector.support_]]"
   ]
  },
  {
   "cell_type": "markdown",
   "metadata": {},
   "source": [
    "## Modeling"
   ]
  },
  {
   "cell_type": "markdown",
   "metadata": {},
   "source": [
    "We will first try a linear regression since that has advantages such as explainability if it works well.\n",
    "We will use a random search to find the best hyperparameters."
   ]
  },
  {
   "cell_type": "code",
   "execution_count": null,
   "metadata": {},
   "outputs": [],
   "source": [
    "params = {'alpha': stats.uniform(.0001, 100),\n",
    "         'l1_ratio': stats.uniform(.1, .9)}\n",
    "enet = ElasticNet()\n",
    "enet_rsearch = RandomizedSearchCV(estimator=enet, param_distributions=params, n_iter=12, cv=5)\n",
    "enet_rsearch.fit(X_train, y_train)\n",
    "nested_scores = cross_validate(estimator=enet_rsearch, X=X, y=y, cv=4, n_jobs=-1, return_estimator=True)\n",
    "print('Test scores are: {}'.format(nested_scores['test_score']))\n",
    "print('Estimator Values are: {}'.format(nested_scores['estimator']))\n"
   ]
  },
  {
   "cell_type": "code",
   "execution_count": null,
   "metadata": {
    "scrolled": true
   },
   "outputs": [],
   "source": [
    "rforest_params = {'criterion': ('mse', 'mae'),\n",
    "                 'max_features': ('log2', 'sqrt', .2, .15),  \n",
    "                 'max_depth': (5, 15, 30),\n",
    "                 'min_samples_split': (10, 20, 30)}  \n",
    "\n",
    "rforest = RandomForestRegressor(n_estimators=80, verbose=0, n_jobs=-1, oob_score=True, bootstrap=True)\n",
    "rforest_rsearch = RandomizedSearchCV(estimator=rforest, param_distributions=rforest_params, n_iter=30, cv=3)\n",
    "rforest_rsearch.fit(X_train, y_train)"
   ]
  },
  {
   "cell_type": "code",
   "execution_count": null,
   "metadata": {},
   "outputs": [],
   "source": [
    "rforest_rsearch.best_estimator_"
   ]
  },
  {
   "cell_type": "code",
   "execution_count": null,
   "metadata": {},
   "outputs": [],
   "source": [
    "rforest_rsearch.best_score_"
   ]
  },
  {
   "cell_type": "code",
   "execution_count": null,
   "metadata": {},
   "outputs": [],
   "source": [
    "rforest_rsearch.best_params_"
   ]
  },
  {
   "cell_type": "code",
   "execution_count": null,
   "metadata": {},
   "outputs": [],
   "source": [
    "rforest_best = RandomForestRegressor(**rforest_rsearch.best_params_, n_estimators=120, n_jobs=-1)"
   ]
  },
  {
   "cell_type": "code",
   "execution_count": null,
   "metadata": {},
   "outputs": [],
   "source": [
    "rforest_best.fit(X_train, y_train)"
   ]
  },
  {
   "cell_type": "raw",
   "metadata": {},
   "source": [
    "RandomForestRegressor(bootstrap=True, criterion='mse', max_depth=15,\n",
    "                      max_features='auto', max_leaf_nodes=None,\n",
    "                      min_impurity_decrease=0.0, min_impurity_split=None,\n",
    "                      min_samples_leaf=1, min_samples_split=20,\n",
    "                      min_weight_fraction_leaf=0.0, n_estimators=60, n_jobs=-1,\n",
    "                      oob_score=False, random_state=None, verbose=0,\n",
    "                      warm_start=False)"
   ]
  },
  {
   "cell_type": "code",
   "execution_count": null,
   "metadata": {},
   "outputs": [],
   "source": [
    "#cross validate model\n",
    "rf_cv_scores = cross_validate(estimator=rforest_best, X=X_train, y=y_train, n_jobs=-1, return_estimator=True, cv=4)\n",
    "rf_cv_scores['test_score']"
   ]
  },
  {
   "cell_type": "code",
   "execution_count": null,
   "metadata": {},
   "outputs": [],
   "source": [
    "from sklearn.neighbors import KNeighborsRegressor\n",
    "kn_params = {'n_neighbors': (3, 4, 6, 8),\n",
    "          'weights': ('uniform', 'distance'),\n",
    "          'algorithm': ('auto', 'ball_tree', 'kd_tree', 'brute')}\n",
    "knr = KNeighborsRegressor()\n",
    "knrrsear = RandomizedSearchCV(estimator=knr, param_distributions=kn_params, n_jobs=-1, n_iter=12, cv=3)\n"
   ]
  },
  {
   "cell_type": "code",
   "execution_count": null,
   "metadata": {},
   "outputs": [],
   "source": [
    "knrrsear.fit(X_train_reduced, y_train)"
   ]
  },
  {
   "cell_type": "code",
   "execution_count": null,
   "metadata": {},
   "outputs": [],
   "source": [
    "knrrsear.best_estimator_"
   ]
  },
  {
   "cell_type": "code",
   "execution_count": null,
   "metadata": {},
   "outputs": [],
   "source": [
    "knrrsear.best_score_"
   ]
  },
  {
   "cell_type": "code",
   "execution_count": null,
   "metadata": {},
   "outputs": [],
   "source": [
    "from sklearn.svm import SVR\n",
    "svr_params = {'C': (.4, .7, 1, 1.3, 2, 10),\n",
    "              'epsilon': (.001, .01, .1), \n",
    "              'kernel': ('linear', 'poly', 'rbf')}\n",
    "svr = SVR()\n",
    "svr_search = RandomizedSearchCV(estimator=svr, param_distributions=svr_params, n_jobs=-1, n_iter=12, cv=3)\n",
    "svr_search.fit(X_train_reduced, y_train)"
   ]
  },
  {
   "cell_type": "code",
   "execution_count": null,
   "metadata": {},
   "outputs": [],
   "source": [
    "svr_search.best_score_"
   ]
  },
  {
   "cell_type": "code",
   "execution_count": null,
   "metadata": {},
   "outputs": [],
   "source": [
    "test!"
   ]
  }
 ],
 "metadata": {
  "kernelspec": {
   "display_name": "Python 3",
   "language": "python",
   "name": "python3"
  },
  "language_info": {
   "codemirror_mode": {
    "name": "ipython",
    "version": 3
   },
   "file_extension": ".py",
   "mimetype": "text/x-python",
   "name": "python",
   "nbconvert_exporter": "python",
   "pygments_lexer": "ipython3",
   "version": "3.7.4"
  }
 },
 "nbformat": 4,
 "nbformat_minor": 2
}
